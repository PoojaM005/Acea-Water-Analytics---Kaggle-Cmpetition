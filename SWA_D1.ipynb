{
 "cells": [
  {
   "cell_type": "markdown",
   "metadata": {
    "id": "4B4_89JU7nYg"
   },
   "source": [
    "# Smart Water Analytics"
   ]
  },
  {
   "cell_type": "markdown",
   "metadata": {
    "id": "nQZ2kxEjwXHh"
   },
   "source": [
    "# AQUIFER"
   ]
  },
  {
   "cell_type": "markdown",
   "metadata": {
    "id": "HAUCBFPMwGxF"
   },
   "source": [
    "## AUSER"
   ]
  },
  {
   "cell_type": "markdown",
   "metadata": {
    "id": "xZHcvpy44sD-"
   },
   "source": [
    "### Exploratory Data Analysis"
   ]
  },
  {
   "cell_type": "markdown",
   "metadata": {
    "id": "CwV41cqi893A"
   },
   "source": [
    "#### Importing the libraries"
   ]
  },
  {
   "cell_type": "code",
   "execution_count": 1,
   "metadata": {
    "id": "x2__WCYo71fO"
   },
   "outputs": [],
   "source": [
    "import pandas as pd\n",
    "import numpy as np\n",
    "from matplotlib import pyplot as plt\n",
    "#!pip3 install seaborn==0.11.0 --upgrade\n",
    "import seaborn as sns"
   ]
  },
  {
   "cell_type": "code",
   "execution_count": 2,
   "metadata": {
    "colab": {
     "base_uri": "https://localhost:8080/",
     "height": 377
    },
    "executionInfo": {
     "elapsed": 10185,
     "status": "ok",
     "timestamp": 1613359981052,
     "user": {
      "displayName": "Rajas Ubhare",
      "photoUrl": "https://lh3.googleusercontent.com/a-/AOh14GgTyVuS-EanMTwGO6A_TkULjaAwiMI_buYA3sQNQg=s64",
      "userId": "10235052903806704162"
     },
     "user_tz": 480
    },
    "id": "j_x1KG638bQx",
    "outputId": "f97ca0d0-c60c-4490-8871-a729875ebf10"
   },
   "outputs": [
    {
     "name": "stdout",
     "output_type": "stream",
     "text": [
      "Requirement already up-to-date: statsmodels in c:\\users\\csuftitan\\anaconda3\\lib\\site-packages (0.12.2)\n",
      "Requirement already satisfied, skipping upgrade: numpy>=1.15 in c:\\users\\csuftitan\\anaconda3\\lib\\site-packages (from statsmodels) (1.19.5)\n",
      "Requirement already satisfied, skipping upgrade: patsy>=0.5 in c:\\users\\csuftitan\\anaconda3\\lib\\site-packages (from statsmodels) (0.5.1)\n",
      "Requirement already satisfied, skipping upgrade: pandas>=0.21 in c:\\users\\csuftitan\\anaconda3\\lib\\site-packages (from statsmodels) (1.0.5)\n",
      "Requirement already satisfied, skipping upgrade: scipy>=1.1 in c:\\users\\csuftitan\\anaconda3\\lib\\site-packages (from statsmodels) (1.5.0)\n",
      "Requirement already satisfied, skipping upgrade: six in c:\\users\\csuftitan\\anaconda3\\lib\\site-packages (from patsy>=0.5->statsmodels) (1.15.0)\n",
      "Requirement already satisfied, skipping upgrade: python-dateutil>=2.6.1 in c:\\users\\csuftitan\\anaconda3\\lib\\site-packages (from pandas>=0.21->statsmodels) (2.8.1)\n",
      "Requirement already satisfied, skipping upgrade: pytz>=2017.2 in c:\\users\\csuftitan\\anaconda3\\lib\\site-packages (from pandas>=0.21->statsmodels) (2020.1)\n"
     ]
    }
   ],
   "source": [
    "!pip install statsmodels --upgrade"
   ]
  },
  {
   "cell_type": "code",
   "execution_count": 3,
   "metadata": {
    "colab": {
     "base_uri": "https://localhost:8080/",
     "height": 439
    },
    "executionInfo": {
     "elapsed": 13726,
     "status": "ok",
     "timestamp": 1613359986334,
     "user": {
      "displayName": "Rajas Ubhare",
      "photoUrl": "https://lh3.googleusercontent.com/a-/AOh14GgTyVuS-EanMTwGO6A_TkULjaAwiMI_buYA3sQNQg=s64",
      "userId": "10235052903806704162"
     },
     "user_tz": 480
    },
    "id": "yfommLYY7Gz2",
    "outputId": "7d4be958-a4b2-4ca1-fbf5-31fcaaaa645e"
   },
   "outputs": [
    {
     "data": {
      "text/html": [
       "<div>\n",
       "<style scoped>\n",
       "    .dataframe tbody tr th:only-of-type {\n",
       "        vertical-align: middle;\n",
       "    }\n",
       "\n",
       "    .dataframe tbody tr th {\n",
       "        vertical-align: top;\n",
       "    }\n",
       "\n",
       "    .dataframe thead th {\n",
       "        text-align: right;\n",
       "    }\n",
       "</style>\n",
       "<table border=\"1\" class=\"dataframe\">\n",
       "  <thead>\n",
       "    <tr style=\"text-align: right;\">\n",
       "      <th></th>\n",
       "      <th>Date</th>\n",
       "      <th>Rainfall_Gallicano</th>\n",
       "      <th>Rainfall_Pontetetto</th>\n",
       "      <th>Rainfall_Monte_Serra</th>\n",
       "      <th>Rainfall_Orentano</th>\n",
       "      <th>Rainfall_Borgo_a_Mozzano</th>\n",
       "      <th>Rainfall_Piaggione</th>\n",
       "      <th>Rainfall_Calavorno</th>\n",
       "      <th>Rainfall_Croce_Arcana</th>\n",
       "      <th>Rainfall_Tereglio_Coreglia_Antelminelli</th>\n",
       "      <th>...</th>\n",
       "      <th>Temperature_Monte_Serra</th>\n",
       "      <th>Temperature_Ponte_a_Moriano</th>\n",
       "      <th>Temperature_Lucca_Orto_Botanico</th>\n",
       "      <th>Volume_POL</th>\n",
       "      <th>Volume_CC1</th>\n",
       "      <th>Volume_CC2</th>\n",
       "      <th>Volume_CSA</th>\n",
       "      <th>Volume_CSAL</th>\n",
       "      <th>Hydrometry_Monte_S_Quirico</th>\n",
       "      <th>Hydrometry_Piaggione</th>\n",
       "    </tr>\n",
       "  </thead>\n",
       "  <tbody>\n",
       "    <tr>\n",
       "      <th>0</th>\n",
       "      <td>05/03/1998</td>\n",
       "      <td>NaN</td>\n",
       "      <td>NaN</td>\n",
       "      <td>NaN</td>\n",
       "      <td>NaN</td>\n",
       "      <td>NaN</td>\n",
       "      <td>NaN</td>\n",
       "      <td>NaN</td>\n",
       "      <td>NaN</td>\n",
       "      <td>NaN</td>\n",
       "      <td>...</td>\n",
       "      <td>0.00</td>\n",
       "      <td>0.0</td>\n",
       "      <td>0.00</td>\n",
       "      <td>NaN</td>\n",
       "      <td>NaN</td>\n",
       "      <td>NaN</td>\n",
       "      <td>NaN</td>\n",
       "      <td>NaN</td>\n",
       "      <td>NaN</td>\n",
       "      <td>NaN</td>\n",
       "    </tr>\n",
       "    <tr>\n",
       "      <th>1</th>\n",
       "      <td>06/03/1998</td>\n",
       "      <td>NaN</td>\n",
       "      <td>NaN</td>\n",
       "      <td>NaN</td>\n",
       "      <td>NaN</td>\n",
       "      <td>NaN</td>\n",
       "      <td>NaN</td>\n",
       "      <td>NaN</td>\n",
       "      <td>NaN</td>\n",
       "      <td>NaN</td>\n",
       "      <td>...</td>\n",
       "      <td>0.00</td>\n",
       "      <td>0.0</td>\n",
       "      <td>10.05</td>\n",
       "      <td>NaN</td>\n",
       "      <td>NaN</td>\n",
       "      <td>NaN</td>\n",
       "      <td>NaN</td>\n",
       "      <td>NaN</td>\n",
       "      <td>NaN</td>\n",
       "      <td>NaN</td>\n",
       "    </tr>\n",
       "    <tr>\n",
       "      <th>2</th>\n",
       "      <td>07/03/1998</td>\n",
       "      <td>NaN</td>\n",
       "      <td>NaN</td>\n",
       "      <td>NaN</td>\n",
       "      <td>NaN</td>\n",
       "      <td>NaN</td>\n",
       "      <td>NaN</td>\n",
       "      <td>NaN</td>\n",
       "      <td>NaN</td>\n",
       "      <td>NaN</td>\n",
       "      <td>...</td>\n",
       "      <td>9.20</td>\n",
       "      <td>0.0</td>\n",
       "      <td>10.00</td>\n",
       "      <td>NaN</td>\n",
       "      <td>NaN</td>\n",
       "      <td>NaN</td>\n",
       "      <td>NaN</td>\n",
       "      <td>NaN</td>\n",
       "      <td>NaN</td>\n",
       "      <td>NaN</td>\n",
       "    </tr>\n",
       "    <tr>\n",
       "      <th>3</th>\n",
       "      <td>08/03/1998</td>\n",
       "      <td>NaN</td>\n",
       "      <td>NaN</td>\n",
       "      <td>NaN</td>\n",
       "      <td>NaN</td>\n",
       "      <td>NaN</td>\n",
       "      <td>NaN</td>\n",
       "      <td>NaN</td>\n",
       "      <td>NaN</td>\n",
       "      <td>NaN</td>\n",
       "      <td>...</td>\n",
       "      <td>11.40</td>\n",
       "      <td>0.0</td>\n",
       "      <td>13.85</td>\n",
       "      <td>NaN</td>\n",
       "      <td>NaN</td>\n",
       "      <td>NaN</td>\n",
       "      <td>NaN</td>\n",
       "      <td>NaN</td>\n",
       "      <td>NaN</td>\n",
       "      <td>NaN</td>\n",
       "    </tr>\n",
       "    <tr>\n",
       "      <th>4</th>\n",
       "      <td>09/03/1998</td>\n",
       "      <td>NaN</td>\n",
       "      <td>NaN</td>\n",
       "      <td>NaN</td>\n",
       "      <td>NaN</td>\n",
       "      <td>NaN</td>\n",
       "      <td>NaN</td>\n",
       "      <td>NaN</td>\n",
       "      <td>NaN</td>\n",
       "      <td>NaN</td>\n",
       "      <td>...</td>\n",
       "      <td>11.40</td>\n",
       "      <td>0.0</td>\n",
       "      <td>12.85</td>\n",
       "      <td>NaN</td>\n",
       "      <td>NaN</td>\n",
       "      <td>NaN</td>\n",
       "      <td>NaN</td>\n",
       "      <td>NaN</td>\n",
       "      <td>NaN</td>\n",
       "      <td>NaN</td>\n",
       "    </tr>\n",
       "    <tr>\n",
       "      <th>...</th>\n",
       "      <td>...</td>\n",
       "      <td>...</td>\n",
       "      <td>...</td>\n",
       "      <td>...</td>\n",
       "      <td>...</td>\n",
       "      <td>...</td>\n",
       "      <td>...</td>\n",
       "      <td>...</td>\n",
       "      <td>...</td>\n",
       "      <td>...</td>\n",
       "      <td>...</td>\n",
       "      <td>...</td>\n",
       "      <td>...</td>\n",
       "      <td>...</td>\n",
       "      <td>...</td>\n",
       "      <td>...</td>\n",
       "      <td>...</td>\n",
       "      <td>...</td>\n",
       "      <td>...</td>\n",
       "      <td>...</td>\n",
       "      <td>...</td>\n",
       "    </tr>\n",
       "    <tr>\n",
       "      <th>8149</th>\n",
       "      <td>26/06/2020</td>\n",
       "      <td>0.0</td>\n",
       "      <td>0.0</td>\n",
       "      <td>0.0</td>\n",
       "      <td>0.0</td>\n",
       "      <td>0.0</td>\n",
       "      <td>0.0</td>\n",
       "      <td>0.0</td>\n",
       "      <td>0.0</td>\n",
       "      <td>0.0</td>\n",
       "      <td>...</td>\n",
       "      <td>20.75</td>\n",
       "      <td>0.0</td>\n",
       "      <td>23.75</td>\n",
       "      <td>-7189.406533</td>\n",
       "      <td>-7847.900</td>\n",
       "      <td>-9183.433333</td>\n",
       "      <td>-6115.40</td>\n",
       "      <td>-3158.0</td>\n",
       "      <td>0.20</td>\n",
       "      <td>-1.03</td>\n",
       "    </tr>\n",
       "    <tr>\n",
       "      <th>8150</th>\n",
       "      <td>27/06/2020</td>\n",
       "      <td>0.0</td>\n",
       "      <td>0.0</td>\n",
       "      <td>0.0</td>\n",
       "      <td>0.0</td>\n",
       "      <td>0.0</td>\n",
       "      <td>0.0</td>\n",
       "      <td>0.0</td>\n",
       "      <td>0.0</td>\n",
       "      <td>0.0</td>\n",
       "      <td>...</td>\n",
       "      <td>21.35</td>\n",
       "      <td>0.0</td>\n",
       "      <td>24.30</td>\n",
       "      <td>-7189.406533</td>\n",
       "      <td>-7847.900</td>\n",
       "      <td>-9183.433333</td>\n",
       "      <td>-6115.40</td>\n",
       "      <td>-3158.0</td>\n",
       "      <td>0.21</td>\n",
       "      <td>-1.03</td>\n",
       "    </tr>\n",
       "    <tr>\n",
       "      <th>8151</th>\n",
       "      <td>28/06/2020</td>\n",
       "      <td>0.0</td>\n",
       "      <td>0.0</td>\n",
       "      <td>0.0</td>\n",
       "      <td>0.0</td>\n",
       "      <td>0.0</td>\n",
       "      <td>0.0</td>\n",
       "      <td>0.0</td>\n",
       "      <td>0.0</td>\n",
       "      <td>0.0</td>\n",
       "      <td>...</td>\n",
       "      <td>21.75</td>\n",
       "      <td>0.0</td>\n",
       "      <td>24.55</td>\n",
       "      <td>-6829.936207</td>\n",
       "      <td>-7455.505</td>\n",
       "      <td>-8724.261667</td>\n",
       "      <td>-5809.63</td>\n",
       "      <td>-3000.1</td>\n",
       "      <td>0.23</td>\n",
       "      <td>-1.03</td>\n",
       "    </tr>\n",
       "    <tr>\n",
       "      <th>8152</th>\n",
       "      <td>29/06/2020</td>\n",
       "      <td>0.0</td>\n",
       "      <td>0.0</td>\n",
       "      <td>0.0</td>\n",
       "      <td>0.0</td>\n",
       "      <td>0.0</td>\n",
       "      <td>0.0</td>\n",
       "      <td>0.0</td>\n",
       "      <td>0.0</td>\n",
       "      <td>0.0</td>\n",
       "      <td>...</td>\n",
       "      <td>18.90</td>\n",
       "      <td>0.0</td>\n",
       "      <td>23.60</td>\n",
       "      <td>-7189.406533</td>\n",
       "      <td>-7847.900</td>\n",
       "      <td>-9183.433333</td>\n",
       "      <td>-6115.40</td>\n",
       "      <td>-3158.0</td>\n",
       "      <td>0.23</td>\n",
       "      <td>-1.02</td>\n",
       "    </tr>\n",
       "    <tr>\n",
       "      <th>8153</th>\n",
       "      <td>30/06/2020</td>\n",
       "      <td>0.0</td>\n",
       "      <td>0.0</td>\n",
       "      <td>0.0</td>\n",
       "      <td>0.0</td>\n",
       "      <td>0.0</td>\n",
       "      <td>0.0</td>\n",
       "      <td>0.0</td>\n",
       "      <td>0.0</td>\n",
       "      <td>0.0</td>\n",
       "      <td>...</td>\n",
       "      <td>19.90</td>\n",
       "      <td>0.0</td>\n",
       "      <td>25.05</td>\n",
       "      <td>-7189.406533</td>\n",
       "      <td>-7847.900</td>\n",
       "      <td>-9183.433333</td>\n",
       "      <td>-6115.40</td>\n",
       "      <td>-3158.0</td>\n",
       "      <td>0.21</td>\n",
       "      <td>-1.05</td>\n",
       "    </tr>\n",
       "  </tbody>\n",
       "</table>\n",
       "<p>8154 rows × 27 columns</p>\n",
       "</div>"
      ],
      "text/plain": [
       "            Date  Rainfall_Gallicano  Rainfall_Pontetetto  \\\n",
       "0     05/03/1998                 NaN                  NaN   \n",
       "1     06/03/1998                 NaN                  NaN   \n",
       "2     07/03/1998                 NaN                  NaN   \n",
       "3     08/03/1998                 NaN                  NaN   \n",
       "4     09/03/1998                 NaN                  NaN   \n",
       "...          ...                 ...                  ...   \n",
       "8149  26/06/2020                 0.0                  0.0   \n",
       "8150  27/06/2020                 0.0                  0.0   \n",
       "8151  28/06/2020                 0.0                  0.0   \n",
       "8152  29/06/2020                 0.0                  0.0   \n",
       "8153  30/06/2020                 0.0                  0.0   \n",
       "\n",
       "      Rainfall_Monte_Serra  Rainfall_Orentano  Rainfall_Borgo_a_Mozzano  \\\n",
       "0                      NaN                NaN                       NaN   \n",
       "1                      NaN                NaN                       NaN   \n",
       "2                      NaN                NaN                       NaN   \n",
       "3                      NaN                NaN                       NaN   \n",
       "4                      NaN                NaN                       NaN   \n",
       "...                    ...                ...                       ...   \n",
       "8149                   0.0                0.0                       0.0   \n",
       "8150                   0.0                0.0                       0.0   \n",
       "8151                   0.0                0.0                       0.0   \n",
       "8152                   0.0                0.0                       0.0   \n",
       "8153                   0.0                0.0                       0.0   \n",
       "\n",
       "      Rainfall_Piaggione  Rainfall_Calavorno  Rainfall_Croce_Arcana  \\\n",
       "0                    NaN                 NaN                    NaN   \n",
       "1                    NaN                 NaN                    NaN   \n",
       "2                    NaN                 NaN                    NaN   \n",
       "3                    NaN                 NaN                    NaN   \n",
       "4                    NaN                 NaN                    NaN   \n",
       "...                  ...                 ...                    ...   \n",
       "8149                 0.0                 0.0                    0.0   \n",
       "8150                 0.0                 0.0                    0.0   \n",
       "8151                 0.0                 0.0                    0.0   \n",
       "8152                 0.0                 0.0                    0.0   \n",
       "8153                 0.0                 0.0                    0.0   \n",
       "\n",
       "      Rainfall_Tereglio_Coreglia_Antelminelli  ...  Temperature_Monte_Serra  \\\n",
       "0                                         NaN  ...                     0.00   \n",
       "1                                         NaN  ...                     0.00   \n",
       "2                                         NaN  ...                     9.20   \n",
       "3                                         NaN  ...                    11.40   \n",
       "4                                         NaN  ...                    11.40   \n",
       "...                                       ...  ...                      ...   \n",
       "8149                                      0.0  ...                    20.75   \n",
       "8150                                      0.0  ...                    21.35   \n",
       "8151                                      0.0  ...                    21.75   \n",
       "8152                                      0.0  ...                    18.90   \n",
       "8153                                      0.0  ...                    19.90   \n",
       "\n",
       "      Temperature_Ponte_a_Moriano  Temperature_Lucca_Orto_Botanico  \\\n",
       "0                             0.0                             0.00   \n",
       "1                             0.0                            10.05   \n",
       "2                             0.0                            10.00   \n",
       "3                             0.0                            13.85   \n",
       "4                             0.0                            12.85   \n",
       "...                           ...                              ...   \n",
       "8149                          0.0                            23.75   \n",
       "8150                          0.0                            24.30   \n",
       "8151                          0.0                            24.55   \n",
       "8152                          0.0                            23.60   \n",
       "8153                          0.0                            25.05   \n",
       "\n",
       "       Volume_POL  Volume_CC1   Volume_CC2  Volume_CSA  Volume_CSAL  \\\n",
       "0             NaN         NaN          NaN         NaN          NaN   \n",
       "1             NaN         NaN          NaN         NaN          NaN   \n",
       "2             NaN         NaN          NaN         NaN          NaN   \n",
       "3             NaN         NaN          NaN         NaN          NaN   \n",
       "4             NaN         NaN          NaN         NaN          NaN   \n",
       "...           ...         ...          ...         ...          ...   \n",
       "8149 -7189.406533   -7847.900 -9183.433333    -6115.40      -3158.0   \n",
       "8150 -7189.406533   -7847.900 -9183.433333    -6115.40      -3158.0   \n",
       "8151 -6829.936207   -7455.505 -8724.261667    -5809.63      -3000.1   \n",
       "8152 -7189.406533   -7847.900 -9183.433333    -6115.40      -3158.0   \n",
       "8153 -7189.406533   -7847.900 -9183.433333    -6115.40      -3158.0   \n",
       "\n",
       "      Hydrometry_Monte_S_Quirico  Hydrometry_Piaggione  \n",
       "0                            NaN                   NaN  \n",
       "1                            NaN                   NaN  \n",
       "2                            NaN                   NaN  \n",
       "3                            NaN                   NaN  \n",
       "4                            NaN                   NaN  \n",
       "...                          ...                   ...  \n",
       "8149                        0.20                 -1.03  \n",
       "8150                        0.21                 -1.03  \n",
       "8151                        0.23                 -1.03  \n",
       "8152                        0.23                 -1.02  \n",
       "8153                        0.21                 -1.05  \n",
       "\n",
       "[8154 rows x 27 columns]"
      ]
     },
     "execution_count": 3,
     "metadata": {},
     "output_type": "execute_result"
    }
   ],
   "source": [
    "auser_data= pd.read_csv(\"C:/Users/CSUFTitan/Desktop/Water Analytics Kaggle/Aquifer_Auser.csv\",parse_dates=True)\n",
    "auser_data"
   ]
  },
  {
   "cell_type": "markdown",
   "metadata": {
    "id": "JUs8SluC85L4"
   },
   "source": [
    "\n",
    "Determine the shape or structure of the data frame."
   ]
  },
  {
   "cell_type": "code",
   "execution_count": 4,
   "metadata": {
    "colab": {
     "base_uri": "https://localhost:8080/"
    },
    "executionInfo": {
     "elapsed": 11645,
     "status": "ok",
     "timestamp": 1613359986335,
     "user": {
      "displayName": "Rajas Ubhare",
      "photoUrl": "https://lh3.googleusercontent.com/a-/AOh14GgTyVuS-EanMTwGO6A_TkULjaAwiMI_buYA3sQNQg=s64",
      "userId": "10235052903806704162"
     },
     "user_tz": 480
    },
    "id": "-eSiFyvJ80sH",
    "outputId": "4db85fb1-6cf0-41e1-9844-fc0e64bf38b0"
   },
   "outputs": [
    {
     "name": "stdout",
     "output_type": "stream",
     "text": [
      "Shape:  (8154, 27)\n"
     ]
    }
   ],
   "source": [
    "print('Shape: ', auser_data.shape)"
   ]
  },
  {
   "cell_type": "markdown",
   "metadata": {
    "id": "ud6Wa4Lg9GC5"
   },
   "source": [
    "Different datatypes present in our dataset."
   ]
  },
  {
   "cell_type": "code",
   "execution_count": 5,
   "metadata": {
    "colab": {
     "base_uri": "https://localhost:8080/"
    },
    "executionInfo": {
     "elapsed": 10669,
     "status": "ok",
     "timestamp": 1613359986337,
     "user": {
      "displayName": "Rajas Ubhare",
      "photoUrl": "https://lh3.googleusercontent.com/a-/AOh14GgTyVuS-EanMTwGO6A_TkULjaAwiMI_buYA3sQNQg=s64",
      "userId": "10235052903806704162"
     },
     "user_tz": 480
    },
    "id": "tGXSpCGZ9GyS",
    "outputId": "923b6fc8-001b-4d76-b7e9-d3f16b2a152d"
   },
   "outputs": [
    {
     "name": "stdout",
     "output_type": "stream",
     "text": [
      "<class 'pandas.core.frame.DataFrame'>\n",
      "RangeIndex: 8154 entries, 0 to 8153\n",
      "Data columns (total 27 columns):\n",
      " #   Column                                   Non-Null Count  Dtype  \n",
      "---  ------                                   --------------  -----  \n",
      " 0   Date                                     8154 non-null   object \n",
      " 1   Rainfall_Gallicano                       5295 non-null   float64\n",
      " 2   Rainfall_Pontetetto                      5295 non-null   float64\n",
      " 3   Rainfall_Monte_Serra                     5289 non-null   float64\n",
      " 4   Rainfall_Orentano                        5295 non-null   float64\n",
      " 5   Rainfall_Borgo_a_Mozzano                 5295 non-null   float64\n",
      " 6   Rainfall_Piaggione                       4930 non-null   float64\n",
      " 7   Rainfall_Calavorno                       5295 non-null   float64\n",
      " 8   Rainfall_Croce_Arcana                    5295 non-null   float64\n",
      " 9   Rainfall_Tereglio_Coreglia_Antelminelli  5295 non-null   float64\n",
      " 10  Rainfall_Fabbriche_di_Vallico            5295 non-null   float64\n",
      " 11  Depth_to_Groundwater_LT2                 4802 non-null   float64\n",
      " 12  Depth_to_Groundwater_SAL                 4545 non-null   float64\n",
      " 13  Depth_to_Groundwater_PAG                 3807 non-null   float64\n",
      " 14  Depth_to_Groundwater_CoS                 4315 non-null   float64\n",
      " 15  Depth_to_Groundwater_DIEC                3270 non-null   float64\n",
      " 16  Temperature_Orentano                     8154 non-null   float64\n",
      " 17  Temperature_Monte_Serra                  8154 non-null   float64\n",
      " 18  Temperature_Ponte_a_Moriano              8154 non-null   float64\n",
      " 19  Temperature_Lucca_Orto_Botanico          8154 non-null   float64\n",
      " 20  Volume_POL                               5660 non-null   float64\n",
      " 21  Volume_CC1                               5660 non-null   float64\n",
      " 22  Volume_CC2                               5660 non-null   float64\n",
      " 23  Volume_CSA                               5660 non-null   float64\n",
      " 24  Volume_CSAL                              5660 non-null   float64\n",
      " 25  Hydrometry_Monte_S_Quirico               7241 non-null   float64\n",
      " 26  Hydrometry_Piaggione                     6119 non-null   float64\n",
      "dtypes: float64(26), object(1)\n",
      "memory usage: 1.7+ MB\n"
     ]
    }
   ],
   "source": [
    "auser_data.info()"
   ]
  },
  {
   "cell_type": "markdown",
   "metadata": {
    "id": "6MKf5XEdxixl"
   },
   "source": [
    "The Date column has data type 'object' which need to be changed to 'DateTime'"
   ]
  },
  {
   "cell_type": "code",
   "execution_count": 6,
   "metadata": {
    "id": "sySkcO-hy332"
   },
   "outputs": [],
   "source": [
    "auser_data['Date'] = pd.to_datetime(auser_data.Date, format = '%d/%m/%Y')"
   ]
  },
  {
   "cell_type": "code",
   "execution_count": 7,
   "metadata": {
    "colab": {
     "base_uri": "https://localhost:8080/"
    },
    "executionInfo": {
     "elapsed": 4201,
     "status": "ok",
     "timestamp": 1613359986338,
     "user": {
      "displayName": "Rajas Ubhare",
      "photoUrl": "https://lh3.googleusercontent.com/a-/AOh14GgTyVuS-EanMTwGO6A_TkULjaAwiMI_buYA3sQNQg=s64",
      "userId": "10235052903806704162"
     },
     "user_tz": 480
    },
    "id": "a9fs6pG_zETf",
    "outputId": "a48341fe-6ae2-47fe-beea-438ada96cb95"
   },
   "outputs": [
    {
     "data": {
      "text/plain": [
       "Date                                       datetime64[ns]\n",
       "Rainfall_Gallicano                                float64\n",
       "Rainfall_Pontetetto                               float64\n",
       "Rainfall_Monte_Serra                              float64\n",
       "Rainfall_Orentano                                 float64\n",
       "Rainfall_Borgo_a_Mozzano                          float64\n",
       "Rainfall_Piaggione                                float64\n",
       "Rainfall_Calavorno                                float64\n",
       "Rainfall_Croce_Arcana                             float64\n",
       "Rainfall_Tereglio_Coreglia_Antelminelli           float64\n",
       "Rainfall_Fabbriche_di_Vallico                     float64\n",
       "Depth_to_Groundwater_LT2                          float64\n",
       "Depth_to_Groundwater_SAL                          float64\n",
       "Depth_to_Groundwater_PAG                          float64\n",
       "Depth_to_Groundwater_CoS                          float64\n",
       "Depth_to_Groundwater_DIEC                         float64\n",
       "Temperature_Orentano                              float64\n",
       "Temperature_Monte_Serra                           float64\n",
       "Temperature_Ponte_a_Moriano                       float64\n",
       "Temperature_Lucca_Orto_Botanico                   float64\n",
       "Volume_POL                                        float64\n",
       "Volume_CC1                                        float64\n",
       "Volume_CC2                                        float64\n",
       "Volume_CSA                                        float64\n",
       "Volume_CSAL                                       float64\n",
       "Hydrometry_Monte_S_Quirico                        float64\n",
       "Hydrometry_Piaggione                              float64\n",
       "dtype: object"
      ]
     },
     "execution_count": 7,
     "metadata": {},
     "output_type": "execute_result"
    }
   ],
   "source": [
    "auser_data.dtypes"
   ]
  },
  {
   "cell_type": "markdown",
   "metadata": {
    "id": "JCH0nq069i94"
   },
   "source": [
    "Our Output Features/ Dependent variables are: \n",
    "1. Depth_to_Groundwater_SAL \n",
    "2. Depth_to_Groundwater_LT2 \n",
    "3. Depth_to_Groundwater_CoS"
   ]
  },
  {
   "cell_type": "code",
   "execution_count": 8,
   "metadata": {
    "id": "0o2ciHOf6qpt"
   },
   "outputs": [],
   "source": [
    "auser_data= auser_data.set_index('Date')"
   ]
  },
  {
   "cell_type": "code",
   "execution_count": 9,
   "metadata": {
    "colab": {
     "base_uri": "https://localhost:8080/",
     "height": 322
    },
    "executionInfo": {
     "elapsed": 1557,
     "status": "ok",
     "timestamp": 1613359990488,
     "user": {
      "displayName": "Rajas Ubhare",
      "photoUrl": "https://lh3.googleusercontent.com/a-/AOh14GgTyVuS-EanMTwGO6A_TkULjaAwiMI_buYA3sQNQg=s64",
      "userId": "10235052903806704162"
     },
     "user_tz": 480
    },
    "id": "VFQ2PnmK9HvV",
    "outputId": "500a0521-2590-4a93-ace1-1da0e0f299d9"
   },
   "outputs": [
    {
     "data": {
      "text/plain": [
       "<matplotlib.axes._subplots.AxesSubplot at 0x1c67f3e2a90>"
      ]
     },
     "execution_count": 9,
     "metadata": {},
     "output_type": "execute_result"
    },
    {
     "data": {
      "text/plain": [
       "<Figure size 720x504 with 0 Axes>"
      ]
     },
     "metadata": {},
     "output_type": "display_data"
    },
    {
     "data": {
      "image/png": "[encoded data removed]",
      "text/plain": [
       "<Figure size 432x288 with 1 Axes>"
      ]
     },
     "metadata": {},
     "output_type": "display_data"
    }
   ],
   "source": [
    "df_auser= auser_data[[\"Depth_to_Groundwater_SAL\",\"Depth_to_Groundwater_LT2\",\"Depth_to_Groundwater_CoS\"]]\n",
    "sns.set(style=\"whitegrid\")\n",
    "plt.figure(figsize=(10,7))\n",
    "sns.color_palette(\"husl\", 9)\n",
    "#sns.lineplot(data=df_auser)\n",
    "df_auser.plot(linewidth=2, fontsize=12)"
   ]
  },
  {
   "cell_type": "markdown",
   "metadata": {
    "id": "y07n61Sc9WbP"
   },
   "source": [
    "#### Handling Missing Values"
   ]
  },
  {
   "cell_type": "code",
   "execution_count": 10,
   "metadata": {
    "colab": {
     "base_uri": "https://localhost:8080/"
    },
    "executionInfo": {
     "elapsed": 475,
     "status": "ok",
     "timestamp": 1613359992963,
     "user": {
      "displayName": "Rajas Ubhare",
      "photoUrl": "https://lh3.googleusercontent.com/a-/AOh14GgTyVuS-EanMTwGO6A_TkULjaAwiMI_buYA3sQNQg=s64",
      "userId": "10235052903806704162"
     },
     "user_tz": 480
    },
    "id": "NHXJWaW39YzX",
    "outputId": "78324914-bb63-48af-da5e-dc0e9cdd2575"
   },
   "outputs": [
    {
     "name": "stdout",
     "output_type": "stream",
     "text": [
      "The percentage of missing values in dataset\n"
     ]
    },
    {
     "data": {
      "text/plain": [
       "Rainfall_Gallicano                         35.06\n",
       "Rainfall_Pontetetto                        35.06\n",
       "Rainfall_Monte_Serra                       35.14\n",
       "Rainfall_Orentano                          35.06\n",
       "Rainfall_Borgo_a_Mozzano                   35.06\n",
       "Rainfall_Piaggione                         39.54\n",
       "Rainfall_Calavorno                         35.06\n",
       "Rainfall_Croce_Arcana                      35.06\n",
       "Rainfall_Tereglio_Coreglia_Antelminelli    35.06\n",
       "Rainfall_Fabbriche_di_Vallico              35.06\n",
       "Depth_to_Groundwater_LT2                   41.11\n",
       "Depth_to_Groundwater_SAL                   44.26\n",
       "Depth_to_Groundwater_PAG                   53.31\n",
       "Depth_to_Groundwater_CoS                   47.08\n",
       "Depth_to_Groundwater_DIEC                  59.90\n",
       "Temperature_Orentano                        0.00\n",
       "Temperature_Monte_Serra                     0.00\n",
       "Temperature_Ponte_a_Moriano                 0.00\n",
       "Temperature_Lucca_Orto_Botanico             0.00\n",
       "Volume_POL                                 30.59\n",
       "Volume_CC1                                 30.59\n",
       "Volume_CC2                                 30.59\n",
       "Volume_CSA                                 30.59\n",
       "Volume_CSAL                                30.59\n",
       "Hydrometry_Monte_S_Quirico                 11.20\n",
       "Hydrometry_Piaggione                       24.96\n",
       "dtype: float64"
      ]
     },
     "execution_count": 10,
     "metadata": {},
     "output_type": "execute_result"
    }
   ],
   "source": [
    "print(\"The percentage of missing values in dataset\")\n",
    "((auser_data.isnull() | auser_data.isna()).sum() * 100 / auser_data.index.size).round(2)"
   ]
  },
  {
   "cell_type": "markdown",
   "metadata": {
    "id": "uKzNwByc0olg"
   },
   "source": [
    "After looking at the percentage of missing values in each columns we will remove the columns with missing value % more than 50% because it might afftec the performance of our model.\n",
    "\n",
    "So we will remove *Depth_to_Groundwater_DIEC* and *Depth_to_Groundwater_PAG*"
   ]
  },
  {
   "cell_type": "code",
   "execution_count": 11,
   "metadata": {
    "id": "TFzLZL9l0oUd"
   },
   "outputs": [],
   "source": [
    "auser_data= auser_data.drop(columns=['Depth_to_Groundwater_DIEC','Depth_to_Groundwater_PAG'])"
   ]
  },
  {
   "cell_type": "code",
   "execution_count": 12,
   "metadata": {
    "id": "qwAfH1BlJo1J"
   },
   "outputs": [],
   "source": [
    "auser_data= auser_data.dropna(0,how='all',thresh=22)"
   ]
  },
  {
   "cell_type": "markdown",
   "metadata": {
    "id": "ljY7bFVDEvCQ"
   },
   "source": [
    "Now we will interpolate the missing data."
   ]
  },
  {
   "cell_type": "code",
   "execution_count": 13,
   "metadata": {
    "id": "f0ea222nHiH5"
   },
   "outputs": [],
   "source": [
    "auser_data = auser_data.interpolate(method = 'linear')"
   ]
  },
  {
   "cell_type": "code",
   "execution_count": 14,
   "metadata": {
    "id": "putpaugwIEjE"
   },
   "outputs": [],
   "source": [
    "auser_data = auser_data.apply(lambda x: x.fillna(x.mean()),axis=0)"
   ]
  },
  {
   "cell_type": "code",
   "execution_count": 15,
   "metadata": {
    "colab": {
     "base_uri": "https://localhost:8080/"
    },
    "executionInfo": {
     "elapsed": 514,
     "status": "ok",
     "timestamp": 1613359998973,
     "user": {
      "displayName": "Rajas Ubhare",
      "photoUrl": "https://lh3.googleusercontent.com/a-/AOh14GgTyVuS-EanMTwGO6A_TkULjaAwiMI_buYA3sQNQg=s64",
      "userId": "10235052903806704162"
     },
     "user_tz": 480
    },
    "id": "11NH95hBK27p",
    "outputId": "77abcc3a-6e24-44fa-b616-c87c40f700d9"
   },
   "outputs": [
    {
     "name": "stdout",
     "output_type": "stream",
     "text": [
      "The percentage of missing values in dataset\n"
     ]
    },
    {
     "data": {
      "text/plain": [
       "Rainfall_Gallicano                         0.0\n",
       "Rainfall_Pontetetto                        0.0\n",
       "Rainfall_Monte_Serra                       0.0\n",
       "Rainfall_Orentano                          0.0\n",
       "Rainfall_Borgo_a_Mozzano                   0.0\n",
       "Rainfall_Piaggione                         0.0\n",
       "Rainfall_Calavorno                         0.0\n",
       "Rainfall_Croce_Arcana                      0.0\n",
       "Rainfall_Tereglio_Coreglia_Antelminelli    0.0\n",
       "Rainfall_Fabbriche_di_Vallico              0.0\n",
       "Depth_to_Groundwater_LT2                   0.0\n",
       "Depth_to_Groundwater_SAL                   0.0\n",
       "Depth_to_Groundwater_CoS                   0.0\n",
       "Temperature_Orentano                       0.0\n",
       "Temperature_Monte_Serra                    0.0\n",
       "Temperature_Ponte_a_Moriano                0.0\n",
       "Temperature_Lucca_Orto_Botanico            0.0\n",
       "Volume_POL                                 0.0\n",
       "Volume_CC1                                 0.0\n",
       "Volume_CC2                                 0.0\n",
       "Volume_CSA                                 0.0\n",
       "Volume_CSAL                                0.0\n",
       "Hydrometry_Monte_S_Quirico                 0.0\n",
       "Hydrometry_Piaggione                       0.0\n",
       "dtype: float64"
      ]
     },
     "execution_count": 15,
     "metadata": {},
     "output_type": "execute_result"
    }
   ],
   "source": [
    "print(\"The percentage of missing values in dataset\")\n",
    "((auser_data.isnull() | auser_data.isna()).sum() * 100 / auser_data.index.size).round(2)"
   ]
  },
  {
   "cell_type": "code",
   "execution_count": 16,
   "metadata": {
    "colab": {
     "base_uri": "https://localhost:8080/",
     "height": 314
    },
    "executionInfo": {
     "elapsed": 1108,
     "status": "ok",
     "timestamp": 1613360002549,
     "user": {
      "displayName": "Rajas Ubhare",
      "photoUrl": "https://lh3.googleusercontent.com/a-/AOh14GgTyVuS-EanMTwGO6A_TkULjaAwiMI_buYA3sQNQg=s64",
      "userId": "10235052903806704162"
     },
     "user_tz": 480
    },
    "id": "RavQtpmiITLk",
    "outputId": "b8c40326-ce84-4b81-ac1a-1f83610f0136"
   },
   "outputs": [
    {
     "data": {
      "text/plain": [
       "<matplotlib.axes._subplots.AxesSubplot at 0x1c67f40e670>"
      ]
     },
     "execution_count": 16,
     "metadata": {},
     "output_type": "execute_result"
    },
    {
     "data": {
      "text/plain": [
       "<Figure size 720x504 with 0 Axes>"
      ]
     },
     "metadata": {},
     "output_type": "display_data"
    },
    {
     "data": {
      "image/png": "[encoded data removed]",
      "text/plain": [
       "<Figure size 432x288 with 1 Axes>"
      ]
     },
     "metadata": {},
     "output_type": "display_data"
    }
   ],
   "source": [
    "auser_plot= auser_data[[\"Depth_to_Groundwater_SAL\",\"Depth_to_Groundwater_LT2\",\"Depth_to_Groundwater_CoS\"]]\n",
    "sns.set(style=\"whitegrid\")\n",
    "plt.figure(figsize=(10,7))\n",
    "sns.color_palette(\"husl\", 9)\n",
    "#sns.lineplot(data=plot, legend=\"full\", err_style=\"bars\")\n",
    "auser_plot.plot(linewidth=1, fontsize=12)"
   ]
  },
  {
   "cell_type": "code",
   "execution_count": 17,
   "metadata": {
    "colab": {
     "base_uri": "https://localhost:8080/",
     "height": 681
    },
    "executionInfo": {
     "elapsed": 2998,
     "status": "ok",
     "timestamp": 1613360006344,
     "user": {
      "displayName": "Rajas Ubhare",
      "photoUrl": "https://lh3.googleusercontent.com/a-/AOh14GgTyVuS-EanMTwGO6A_TkULjaAwiMI_buYA3sQNQg=s64",
      "userId": "10235052903806704162"
     },
     "user_tz": 480
    },
    "id": "Y-PUGB2wM7iV",
    "outputId": "c39cb2d1-fbc5-4296-9e14-a4a17cc8a592"
   },
   "outputs": [
    {
     "data": {
      "image/png": "[encoded data removed]",
      "text/plain": [
       "<Figure size 1080x792 with 10 Axes>"
      ]
     },
     "metadata": {},
     "output_type": "display_data"
    }
   ],
   "source": [
    "\n",
    "fig, axs = plt.subplots(5, 2,figsize=(15,11))\n",
    "axs[0, 0].plot(auser_data[[\"Rainfall_Monte_Serra\"]])\n",
    "axs[0, 0].set_title('Rainfall_Monte_Serra')\n",
    "axs[0, 1].plot(auser_data[[\"Rainfall_Piaggione\"]])\n",
    "axs[0, 1].set_title('Rainfall_Piaggione')\n",
    "axs[1, 0].plot(auser_data[[\"Rainfall_Gallicano\"]])\n",
    "axs[1, 0].set_title('Rainfall_Gallicano')\n",
    "axs[1, 1].plot(auser_data[[\"Rainfall_Pontetetto\"]])\n",
    "axs[1, 1].set_title('Rainfall_Pontetetto')\n",
    "axs[2, 0].plot(auser_data[[\"Rainfall_Orentano\"]])\n",
    "axs[2, 0].set_title('Rainfall_Orentano')\n",
    "axs[2, 1].plot(auser_data[[\"Rainfall_Borgo_a_Mozzano\"]])\n",
    "axs[2, 1].set_title('Rainfall_Borgo_a_Mozzano')\n",
    "axs[3, 0].plot(auser_data[[\"Rainfall_Calavorno\"]])\n",
    "axs[3, 0].set_title('Rainfall_Calavorno')\n",
    "axs[3, 1].plot(auser_data[[\"Rainfall_Croce_Arcana\"]])\n",
    "axs[3, 1].set_title('Rainfall_Croce_Arcana')\n",
    "axs[4, 0].plot(auser_data[[\"Rainfall_Tereglio_Coreglia_Antelminelli\"]])\n",
    "axs[4, 0].set_title('Rainfall_Tereglio_Coreglia_Antelminelli')\n",
    "axs[4, 1].plot(auser_data[[\"Rainfall_Fabbriche_di_Vallico\"]])\n",
    "axs[4, 1].set_title('Rainfall_Fabbriche_di_Vallico')\n",
    "\n",
    "for ax in axs.flat:\n",
    "    ax.set(xlabel='Date', ylabel='Rainfall(mm)')\n",
    "\n",
    "# Hide x labels and tick labels for top plots and y ticks for right plots.\n",
    "for ax in axs.flat:\n",
    "    ax.label_outer()"
   ]
  },
  {
   "cell_type": "markdown",
   "metadata": {
    "id": "lyvxuNG4bi8e"
   },
   "source": [
    "Now we will plot correlation matrix for all the features/independent variables."
   ]
  },
  {
   "cell_type": "code",
   "execution_count": 18,
   "metadata": {
    "colab": {
     "base_uri": "https://localhost:8080/",
     "height": 759
    },
    "executionInfo": {
     "elapsed": 2323,
     "status": "ok",
     "timestamp": 1612655913911,
     "user": {
      "displayName": "Rajas Ubhare",
      "photoUrl": "https://lh3.googleusercontent.com/a-/AOh14GgTyVuS-EanMTwGO6A_TkULjaAwiMI_buYA3sQNQg=s64",
      "userId": "10235052903806704162"
     },
     "user_tz": 480
    },
    "id": "CQb5kDV1bh_6",
    "outputId": "764ad3dc-b9f6-4a83-ed88-5554b3842bd6"
   },
   "outputs": [
    {
     "data": {
      "text/plain": [
       "<matplotlib.axes._subplots.AxesSubplot at 0x1c67ff77a00>"
      ]
     },
     "execution_count": 18,
     "metadata": {},
     "output_type": "execute_result"
    },
    {
     "data": {
      "image/png": "[encoded data removed]",
      "text/plain": [
       "<Figure size 792x648 with 2 Axes>"
      ]
     },
     "metadata": {},
     "output_type": "display_data"
    }
   ],
   "source": [
    "sns.set(style=\"dark\")\n",
    "\n",
    "# Compute the correlation matrix\n",
    "corr = auser_data.corr(method=\"pearson\")\n",
    "\n",
    "# Generate a mask for the upper triangle\n",
    "mask = np.triu(np.ones_like(corr, dtype=bool))\n",
    "\n",
    "# Set up the matplotlib figure\n",
    "f, ax = plt.subplots(figsize=(11, 9))\n",
    "\n",
    "# Generate a custom diverging colormap\n",
    "cmap = sns.diverging_palette(230, 20, as_cmap=True)\n",
    "\n",
    "# Draw the heatmap with the mask and correct aspect ratio\n",
    "sns.heatmap(corr, mask=mask, cmap=cmap, vmax=.3, center=0,\n",
    "            square=True, linewidths=.5, cbar_kws={\"shrink\": .5})"
   ]
  },
  {
   "cell_type": "markdown",
   "metadata": {
    "id": "O1hAgkjNPzLW"
   },
   "source": [
    "### Checking The Stationarity"
   ]
  },
  {
   "cell_type": "markdown",
   "metadata": {
    "id": "P_HlJHf2P4tL"
   },
   "source": [
    "In order to check the stationarity of the time series (i.e identify wether the time series is stationary or not) we perform Augmented Dickey-Fuller test (ADF Test.)"
   ]
  },
  {
   "cell_type": "markdown",
   "metadata": {
    "id": "bTxtW8hH4ply"
   },
   "source": [
    "For AD Fuller test:\n",
    "\n",
    "1. Null Hypothesis - Series possesses a unit root and hence is not stationary.\n",
    "2. Alternate Hypothesis - Series is stationary"
   ]
  },
  {
   "cell_type": "code",
   "execution_count": 19,
   "metadata": {},
   "outputs": [
    {
     "name": "stdout",
     "output_type": "stream",
     "text": [
      "Requirement already satisfied: seaborn in c:\\users\\csuftitan\\anaconda3\\lib\\site-packages (0.11.0)\n",
      "Requirement already satisfied: matplotlib>=2.2 in c:\\users\\csuftitan\\anaconda3\\lib\\site-packages (from seaborn) (3.2.2)\n",
      "Requirement already satisfied: numpy>=1.15 in c:\\users\\csuftitan\\anaconda3\\lib\\site-packages (from seaborn) (1.19.5)\n",
      "Requirement already satisfied: pandas>=0.23 in c:\\users\\csuftitan\\anaconda3\\lib\\site-packages (from seaborn) (1.0.5)\n",
      "Requirement already satisfied: scipy>=1.0 in c:\\users\\csuftitan\\anaconda3\\lib\\site-packages (from seaborn) (1.5.0)\n",
      "Requirement already satisfied: kiwisolver>=1.0.1 in c:\\users\\csuftitan\\anaconda3\\lib\\site-packages (from matplotlib>=2.2->seaborn) (1.2.0)\n",
      "Requirement already satisfied: python-dateutil>=2.1 in c:\\users\\csuftitan\\anaconda3\\lib\\site-packages (from matplotlib>=2.2->seaborn) (2.8.1)\n",
      "Requirement already satisfied: pyparsing!=2.0.4,!=2.1.2,!=2.1.6,>=2.0.1 in c:\\users\\csuftitan\\anaconda3\\lib\\site-packages (from matplotlib>=2.2->seaborn) (2.4.7)\n",
      "Requirement already satisfied: cycler>=0.10 in c:\\users\\csuftitan\\anaconda3\\lib\\site-packages (from matplotlib>=2.2->seaborn) (0.10.0)\n",
      "Requirement already satisfied: pytz>=2017.2 in c:\\users\\csuftitan\\anaconda3\\lib\\site-packages (from pandas>=0.23->seaborn) (2020.1)\n",
      "Requirement already satisfied: six>=1.5 in c:\\users\\csuftitan\\anaconda3\\lib\\site-packages (from python-dateutil>=2.1->matplotlib>=2.2->seaborn) (1.15.0)\n"
     ]
    }
   ],
   "source": [
    "!pip install seaborn"
   ]
  },
  {
   "cell_type": "code",
   "execution_count": 20,
   "metadata": {
    "colab": {
     "base_uri": "https://localhost:8080/"
    },
    "executionInfo": {
     "elapsed": 7320,
     "status": "ok",
     "timestamp": 1613360019776,
     "user": {
      "displayName": "Rajas Ubhare",
      "photoUrl": "https://lh3.googleusercontent.com/a-/AOh14GgTyVuS-EanMTwGO6A_TkULjaAwiMI_buYA3sQNQg=s64",
      "userId": "10235052903806704162"
     },
     "user_tz": 480
    },
    "id": "ldgxT-C9-UNM",
    "outputId": "45441559-2c64-4a00-e998-fd429418c4c8"
   },
   "outputs": [
    {
     "name": "stdout",
     "output_type": "stream",
     "text": [
      "AUGMENTED DICKEY FULLER TEST \n",
      "\n",
      "\n",
      "Rainfall_Gallicano - Series is Stationary\n",
      " \n",
      "Rainfall_Pontetetto - Series is Stationary\n",
      " \n",
      "Rainfall_Monte_Serra - Series is Stationary\n",
      " \n",
      "Rainfall_Orentano - Series is Stationary\n",
      " \n",
      "Rainfall_Borgo_a_Mozzano - Series is Stationary\n",
      " \n",
      "Rainfall_Piaggione - Series is Stationary\n",
      " \n",
      "Rainfall_Calavorno - Series is Stationary\n",
      " \n",
      "Rainfall_Croce_Arcana - Series is Stationary\n",
      " \n",
      "Rainfall_Tereglio_Coreglia_Antelminelli - Series is Stationary\n",
      " \n",
      "Rainfall_Fabbriche_di_Vallico - Series is Stationary\n",
      " \n",
      "Depth_to_Groundwater_LT2 - Series is NOT Stationary\n",
      " \n",
      "Depth_to_Groundwater_SAL - Series is Stationary\n",
      " \n",
      "Depth_to_Groundwater_CoS - Series is Stationary\n",
      " \n",
      "Temperature_Orentano - Series is Stationary\n",
      " \n",
      "Temperature_Monte_Serra - Series is Stationary\n",
      " \n",
      "Temperature_Ponte_a_Moriano - Series is Stationary\n",
      " \n",
      "Temperature_Lucca_Orto_Botanico - Series is Stationary\n",
      " \n",
      "Volume_POL - Series is NOT Stationary\n",
      " \n",
      "Volume_CC1 - Series is NOT Stationary\n",
      " \n",
      "Volume_CC2 - Series is NOT Stationary\n",
      " \n",
      "Volume_CSA - Series is NOT Stationary\n",
      " \n",
      "Volume_CSAL - Series is NOT Stationary\n",
      " \n",
      "Hydrometry_Monte_S_Quirico - Series is Stationary\n",
      " \n",
      "Hydrometry_Piaggione - Series is Stationary\n",
      " \n"
     ]
    }
   ],
   "source": [
    "from statsmodels.tsa.stattools import adfuller\n",
    "print(\"AUGMENTED DICKEY FULLER TEST \\n\\n\")\n",
    "for i in range(len(auser_data.columns)):\n",
    "  result = adfuller(auser_data[auser_data.columns[i]])\n",
    "\n",
    "  if result[1] > 0.05 :\n",
    "    print('{} - Series is NOT Stationary'.format(auser_data.columns[i]))\n",
    "    print(\" \")\n",
    "  else:\n",
    "    print('{} - Series is Stationary'.format(auser_data.columns[i]))\n",
    "    print(\" \")"
   ]
  },
  {
   "cell_type": "markdown",
   "metadata": {
    "id": "Bt4kgR3XAjyY"
   },
   "source": [
    "Now we will remove the Non- Stationarity by using Differencing"
   ]
  },
  {
   "cell_type": "code",
   "execution_count": 21,
   "metadata": {
    "colab": {
     "base_uri": "https://localhost:8080/",
     "height": 450
    },
    "executionInfo": {
     "elapsed": 4476,
     "status": "ok",
     "timestamp": 1613360021277,
     "user": {
      "displayName": "Rajas Ubhare",
      "photoUrl": "https://lh3.googleusercontent.com/a-/AOh14GgTyVuS-EanMTwGO6A_TkULjaAwiMI_buYA3sQNQg=s64",
      "userId": "10235052903806704162"
     },
     "user_tz": 480
    },
    "id": "oxbYiD5uyagr",
    "outputId": "e1156ad9-0d65-4cb8-8278-7f31063de8d5"
   },
   "outputs": [
    {
     "data": {
      "text/plain": [
       "<matplotlib.axes._subplots.AxesSubplot at 0x1c622959700>"
      ]
     },
     "execution_count": 21,
     "metadata": {},
     "output_type": "execute_result"
    },
    {
     "data": {
      "image/png": "[encoded data removed]",
      "text/plain": [
       "<Figure size 432x288 with 1 Axes>"
      ]
     },
     "metadata": {},
     "output_type": "display_data"
    }
   ],
   "source": [
    "auser_data.dropna().plot()"
   ]
  },
  {
   "cell_type": "code",
   "execution_count": 22,
   "metadata": {
    "colab": {
     "base_uri": "https://localhost:8080/",
     "height": 450
    },
    "executionInfo": {
     "elapsed": 1804,
     "status": "ok",
     "timestamp": 1613360025134,
     "user": {
      "displayName": "Rajas Ubhare",
      "photoUrl": "https://lh3.googleusercontent.com/a-/AOh14GgTyVuS-EanMTwGO6A_TkULjaAwiMI_buYA3sQNQg=s64",
      "userId": "10235052903806704162"
     },
     "user_tz": 480
    },
    "id": "5jeuIT0JyOuM",
    "outputId": "769d2948-3934-438a-e2a8-40f44c78ab46"
   },
   "outputs": [
    {
     "data": {
      "text/plain": [
       "<matplotlib.axes._subplots.AxesSubplot at 0x1c67ff89940>"
      ]
     },
     "execution_count": 22,
     "metadata": {},
     "output_type": "execute_result"
    },
    {
     "data": {
      "image/png": "[encoded data removed]",
      "text/plain": [
       "<Figure size 432x288 with 1 Axes>"
      ]
     },
     "metadata": {},
     "output_type": "display_data"
    }
   ],
   "source": [
    "auser_data=auser_data-auser_data.shift(1)\n",
    "auser_data.dropna().plot()"
   ]
  },
  {
   "cell_type": "code",
   "execution_count": 23,
   "metadata": {
    "colab": {
     "base_uri": "https://localhost:8080/",
     "height": 340
    },
    "executionInfo": {
     "elapsed": 619,
     "status": "ok",
     "timestamp": 1612659750875,
     "user": {
      "displayName": "Rajas Ubhare",
      "photoUrl": "https://lh3.googleusercontent.com/a-/AOh14GgTyVuS-EanMTwGO6A_TkULjaAwiMI_buYA3sQNQg=s64",
      "userId": "10235052903806704162"
     },
     "user_tz": 480
    },
    "id": "iGE_GYN90tEK",
    "outputId": "3b6a401b-cf92-4e20-d5de-542035b676f1"
   },
   "outputs": [
    {
     "data": {
      "text/html": [
       "<div>\n",
       "<style scoped>\n",
       "    .dataframe tbody tr th:only-of-type {\n",
       "        vertical-align: middle;\n",
       "    }\n",
       "\n",
       "    .dataframe tbody tr th {\n",
       "        vertical-align: top;\n",
       "    }\n",
       "\n",
       "    .dataframe thead th {\n",
       "        text-align: right;\n",
       "    }\n",
       "</style>\n",
       "<table border=\"1\" class=\"dataframe\">\n",
       "  <thead>\n",
       "    <tr style=\"text-align: right;\">\n",
       "      <th></th>\n",
       "      <th>Rainfall_Gallicano</th>\n",
       "      <th>Rainfall_Pontetetto</th>\n",
       "      <th>Rainfall_Monte_Serra</th>\n",
       "      <th>Rainfall_Orentano</th>\n",
       "      <th>Rainfall_Borgo_a_Mozzano</th>\n",
       "      <th>Rainfall_Piaggione</th>\n",
       "      <th>Rainfall_Calavorno</th>\n",
       "      <th>Rainfall_Croce_Arcana</th>\n",
       "      <th>Rainfall_Tereglio_Coreglia_Antelminelli</th>\n",
       "      <th>Rainfall_Fabbriche_di_Vallico</th>\n",
       "      <th>...</th>\n",
       "      <th>Temperature_Monte_Serra</th>\n",
       "      <th>Temperature_Ponte_a_Moriano</th>\n",
       "      <th>Temperature_Lucca_Orto_Botanico</th>\n",
       "      <th>Volume_POL</th>\n",
       "      <th>Volume_CC1</th>\n",
       "      <th>Volume_CC2</th>\n",
       "      <th>Volume_CSA</th>\n",
       "      <th>Volume_CSAL</th>\n",
       "      <th>Hydrometry_Monte_S_Quirico</th>\n",
       "      <th>Hydrometry_Piaggione</th>\n",
       "    </tr>\n",
       "    <tr>\n",
       "      <th>Date</th>\n",
       "      <th></th>\n",
       "      <th></th>\n",
       "      <th></th>\n",
       "      <th></th>\n",
       "      <th></th>\n",
       "      <th></th>\n",
       "      <th></th>\n",
       "      <th></th>\n",
       "      <th></th>\n",
       "      <th></th>\n",
       "      <th></th>\n",
       "      <th></th>\n",
       "      <th></th>\n",
       "      <th></th>\n",
       "      <th></th>\n",
       "      <th></th>\n",
       "      <th></th>\n",
       "      <th></th>\n",
       "      <th></th>\n",
       "      <th></th>\n",
       "      <th></th>\n",
       "    </tr>\n",
       "  </thead>\n",
       "  <tbody>\n",
       "    <tr>\n",
       "      <th>2006-01-01</th>\n",
       "      <td>NaN</td>\n",
       "      <td>NaN</td>\n",
       "      <td>NaN</td>\n",
       "      <td>NaN</td>\n",
       "      <td>NaN</td>\n",
       "      <td>NaN</td>\n",
       "      <td>NaN</td>\n",
       "      <td>NaN</td>\n",
       "      <td>NaN</td>\n",
       "      <td>NaN</td>\n",
       "      <td>...</td>\n",
       "      <td>NaN</td>\n",
       "      <td>NaN</td>\n",
       "      <td>NaN</td>\n",
       "      <td>NaN</td>\n",
       "      <td>NaN</td>\n",
       "      <td>NaN</td>\n",
       "      <td>NaN</td>\n",
       "      <td>NaN</td>\n",
       "      <td>NaN</td>\n",
       "      <td>NaN</td>\n",
       "    </tr>\n",
       "    <tr>\n",
       "      <th>2006-01-02</th>\n",
       "      <td>-34.0</td>\n",
       "      <td>-17.6</td>\n",
       "      <td>-21.2</td>\n",
       "      <td>-35.2</td>\n",
       "      <td>-23.4</td>\n",
       "      <td>-27.8</td>\n",
       "      <td>-27.6</td>\n",
       "      <td>0.0</td>\n",
       "      <td>-11.2</td>\n",
       "      <td>-33.8</td>\n",
       "      <td>...</td>\n",
       "      <td>0.0</td>\n",
       "      <td>0.45</td>\n",
       "      <td>-0.50</td>\n",
       "      <td>-545.00323</td>\n",
       "      <td>-912.20961</td>\n",
       "      <td>-669.30039</td>\n",
       "      <td>0.0</td>\n",
       "      <td>0.0</td>\n",
       "      <td>0.03</td>\n",
       "      <td>0.15</td>\n",
       "    </tr>\n",
       "    <tr>\n",
       "      <th>2006-01-03</th>\n",
       "      <td>-3.0</td>\n",
       "      <td>-8.4</td>\n",
       "      <td>-0.2</td>\n",
       "      <td>-7.8</td>\n",
       "      <td>-6.0</td>\n",
       "      <td>-7.2</td>\n",
       "      <td>-3.6</td>\n",
       "      <td>0.0</td>\n",
       "      <td>0.2</td>\n",
       "      <td>-4.0</td>\n",
       "      <td>...</td>\n",
       "      <td>0.0</td>\n",
       "      <td>0.70</td>\n",
       "      <td>0.85</td>\n",
       "      <td>0.00000</td>\n",
       "      <td>0.00000</td>\n",
       "      <td>0.00000</td>\n",
       "      <td>0.0</td>\n",
       "      <td>0.0</td>\n",
       "      <td>-0.05</td>\n",
       "      <td>-0.25</td>\n",
       "    </tr>\n",
       "    <tr>\n",
       "      <th>2006-01-04</th>\n",
       "      <td>-0.2</td>\n",
       "      <td>0.2</td>\n",
       "      <td>0.0</td>\n",
       "      <td>-0.2</td>\n",
       "      <td>0.0</td>\n",
       "      <td>-0.2</td>\n",
       "      <td>0.2</td>\n",
       "      <td>0.0</td>\n",
       "      <td>-0.2</td>\n",
       "      <td>-0.2</td>\n",
       "      <td>...</td>\n",
       "      <td>0.0</td>\n",
       "      <td>-2.45</td>\n",
       "      <td>-2.35</td>\n",
       "      <td>0.00000</td>\n",
       "      <td>0.00000</td>\n",
       "      <td>0.00000</td>\n",
       "      <td>0.0</td>\n",
       "      <td>0.0</td>\n",
       "      <td>-0.05</td>\n",
       "      <td>-0.26</td>\n",
       "    </tr>\n",
       "    <tr>\n",
       "      <th>2006-01-05</th>\n",
       "      <td>0.0</td>\n",
       "      <td>-0.2</td>\n",
       "      <td>0.0</td>\n",
       "      <td>0.0</td>\n",
       "      <td>0.0</td>\n",
       "      <td>0.0</td>\n",
       "      <td>-0.2</td>\n",
       "      <td>0.0</td>\n",
       "      <td>0.0</td>\n",
       "      <td>0.0</td>\n",
       "      <td>...</td>\n",
       "      <td>0.0</td>\n",
       "      <td>0.55</td>\n",
       "      <td>0.40</td>\n",
       "      <td>0.00000</td>\n",
       "      <td>0.00000</td>\n",
       "      <td>0.00000</td>\n",
       "      <td>0.0</td>\n",
       "      <td>0.0</td>\n",
       "      <td>-0.05</td>\n",
       "      <td>-0.03</td>\n",
       "    </tr>\n",
       "  </tbody>\n",
       "</table>\n",
       "<p>5 rows × 24 columns</p>\n",
       "</div>"
      ],
      "text/plain": [
       "            Rainfall_Gallicano  Rainfall_Pontetetto  Rainfall_Monte_Serra  \\\n",
       "Date                                                                        \n",
       "2006-01-01                 NaN                  NaN                   NaN   \n",
       "2006-01-02               -34.0                -17.6                 -21.2   \n",
       "2006-01-03                -3.0                 -8.4                  -0.2   \n",
       "2006-01-04                -0.2                  0.2                   0.0   \n",
       "2006-01-05                 0.0                 -0.2                   0.0   \n",
       "\n",
       "            Rainfall_Orentano  Rainfall_Borgo_a_Mozzano  Rainfall_Piaggione  \\\n",
       "Date                                                                          \n",
       "2006-01-01                NaN                       NaN                 NaN   \n",
       "2006-01-02              -35.2                     -23.4               -27.8   \n",
       "2006-01-03               -7.8                      -6.0                -7.2   \n",
       "2006-01-04               -0.2                       0.0                -0.2   \n",
       "2006-01-05                0.0                       0.0                 0.0   \n",
       "\n",
       "            Rainfall_Calavorno  Rainfall_Croce_Arcana  \\\n",
       "Date                                                    \n",
       "2006-01-01                 NaN                    NaN   \n",
       "2006-01-02               -27.6                    0.0   \n",
       "2006-01-03                -3.6                    0.0   \n",
       "2006-01-04                 0.2                    0.0   \n",
       "2006-01-05                -0.2                    0.0   \n",
       "\n",
       "            Rainfall_Tereglio_Coreglia_Antelminelli  \\\n",
       "Date                                                  \n",
       "2006-01-01                                      NaN   \n",
       "2006-01-02                                    -11.2   \n",
       "2006-01-03                                      0.2   \n",
       "2006-01-04                                     -0.2   \n",
       "2006-01-05                                      0.0   \n",
       "\n",
       "            Rainfall_Fabbriche_di_Vallico  ...  Temperature_Monte_Serra  \\\n",
       "Date                                       ...                            \n",
       "2006-01-01                            NaN  ...                      NaN   \n",
       "2006-01-02                          -33.8  ...                      0.0   \n",
       "2006-01-03                           -4.0  ...                      0.0   \n",
       "2006-01-04                           -0.2  ...                      0.0   \n",
       "2006-01-05                            0.0  ...                      0.0   \n",
       "\n",
       "            Temperature_Ponte_a_Moriano  Temperature_Lucca_Orto_Botanico  \\\n",
       "Date                                                                       \n",
       "2006-01-01                          NaN                              NaN   \n",
       "2006-01-02                         0.45                            -0.50   \n",
       "2006-01-03                         0.70                             0.85   \n",
       "2006-01-04                        -2.45                            -2.35   \n",
       "2006-01-05                         0.55                             0.40   \n",
       "\n",
       "            Volume_POL  Volume_CC1  Volume_CC2  Volume_CSA  Volume_CSAL  \\\n",
       "Date                                                                      \n",
       "2006-01-01         NaN         NaN         NaN         NaN          NaN   \n",
       "2006-01-02  -545.00323  -912.20961  -669.30039         0.0          0.0   \n",
       "2006-01-03     0.00000     0.00000     0.00000         0.0          0.0   \n",
       "2006-01-04     0.00000     0.00000     0.00000         0.0          0.0   \n",
       "2006-01-05     0.00000     0.00000     0.00000         0.0          0.0   \n",
       "\n",
       "            Hydrometry_Monte_S_Quirico  Hydrometry_Piaggione  \n",
       "Date                                                          \n",
       "2006-01-01                         NaN                   NaN  \n",
       "2006-01-02                        0.03                  0.15  \n",
       "2006-01-03                       -0.05                 -0.25  \n",
       "2006-01-04                       -0.05                 -0.26  \n",
       "2006-01-05                       -0.05                 -0.03  \n",
       "\n",
       "[5 rows x 24 columns]"
      ]
     },
     "execution_count": 23,
     "metadata": {},
     "output_type": "execute_result"
    }
   ],
   "source": [
    "auser_data.head()"
   ]
  },
  {
   "cell_type": "markdown",
   "metadata": {
    "id": "5xx9wbDGAxug"
   },
   "source": [
    "We will remove the first row because it consist of missing values or NAN"
   ]
  },
  {
   "cell_type": "code",
   "execution_count": 24,
   "metadata": {
    "id": "lyvpRKC41nB6"
   },
   "outputs": [],
   "source": [
    "auser_data = auser_data.iloc[1:]"
   ]
  },
  {
   "cell_type": "markdown",
   "metadata": {
    "id": "Al2jb6vLA7mb"
   },
   "source": [
    "#### Confirming Stationarity"
   ]
  },
  {
   "cell_type": "markdown",
   "metadata": {
    "id": "H7M7GSxXCRgZ"
   },
   "source": [
    "Now we will run the AD Fuller Test on the data to confirm if the all the timeseries are stationary or not."
   ]
  },
  {
   "cell_type": "code",
   "execution_count": 25,
   "metadata": {
    "colab": {
     "base_uri": "https://localhost:8080/"
    },
    "executionInfo": {
     "elapsed": 6457,
     "status": "ok",
     "timestamp": 1612660223508,
     "user": {
      "displayName": "Rajas Ubhare",
      "photoUrl": "https://lh3.googleusercontent.com/a-/AOh14GgTyVuS-EanMTwGO6A_TkULjaAwiMI_buYA3sQNQg=s64",
      "userId": "10235052903806704162"
     },
     "user_tz": 480
    },
    "id": "3YyaFXoYCb3R",
    "outputId": "c5a7c37a-1a34-4647-975a-06fdf3ff66a5"
   },
   "outputs": [
    {
     "name": "stdout",
     "output_type": "stream",
     "text": [
      "AUGMENTED DICKEY FULLER TEST \n",
      "\n",
      "\n",
      "Rainfall_Gallicano - Series is Stationary\n",
      " \n",
      "Rainfall_Pontetetto - Series is Stationary\n",
      " \n",
      "Rainfall_Monte_Serra - Series is Stationary\n",
      " \n",
      "Rainfall_Orentano - Series is Stationary\n",
      " \n",
      "Rainfall_Borgo_a_Mozzano - Series is Stationary\n",
      " \n",
      "Rainfall_Piaggione - Series is Stationary\n",
      " \n",
      "Rainfall_Calavorno - Series is Stationary\n",
      " \n",
      "Rainfall_Croce_Arcana - Series is Stationary\n",
      " \n",
      "Rainfall_Tereglio_Coreglia_Antelminelli - Series is Stationary\n",
      " \n",
      "Rainfall_Fabbriche_di_Vallico - Series is Stationary\n",
      " \n",
      "Depth_to_Groundwater_LT2 - Series is Stationary\n",
      " \n",
      "Depth_to_Groundwater_SAL - Series is Stationary\n",
      " \n",
      "Depth_to_Groundwater_CoS - Series is Stationary\n",
      " \n",
      "Temperature_Orentano - Series is Stationary\n",
      " \n",
      "Temperature_Monte_Serra - Series is Stationary\n",
      " \n",
      "Temperature_Ponte_a_Moriano - Series is Stationary\n",
      " \n",
      "Temperature_Lucca_Orto_Botanico - Series is Stationary\n",
      " \n",
      "Volume_POL - Series is Stationary\n",
      " \n",
      "Volume_CC1 - Series is Stationary\n",
      " \n",
      "Volume_CC2 - Series is Stationary\n",
      " \n",
      "Volume_CSA - Series is Stationary\n",
      " \n",
      "Volume_CSAL - Series is Stationary\n",
      " \n",
      "Hydrometry_Monte_S_Quirico - Series is Stationary\n",
      " \n",
      "Hydrometry_Piaggione - Series is Stationary\n",
      " \n"
     ]
    }
   ],
   "source": [
    "from statsmodels.tsa.stattools import adfuller\n",
    "print(\"AUGMENTED DICKEY FULLER TEST \\n\\n\")\n",
    "for i in range(len(auser_data.columns)):\n",
    "  result = adfuller(auser_data[auser_data.columns[i]])\n",
    "\n",
    "  if result[1] > 0.05 :\n",
    "    print('{} - Series is NOT Stationary'.format(auser_data.columns[i]))\n",
    "    print(\" \")\n",
    "  else:\n",
    "    print('{} - Series is Stationary'.format(auser_data.columns[i]))\n",
    "    print(\" \")"
   ]
  },
  {
   "cell_type": "markdown",
   "metadata": {
    "id": "FeMH_SACCnMH"
   },
   "source": [
    "Since the time Series is stationary we can proceed with the model building section."
   ]
  },
  {
   "cell_type": "markdown",
   "metadata": {
    "id": "OMQi8X35dM2B"
   },
   "source": [
    "### Building Predictive Models"
   ]
  },
  {
   "cell_type": "markdown",
   "metadata": {
    "id": "gFXYN1wKJJKK"
   },
   "source": [
    "#### Split Data into Training and Testing set"
   ]
  },
  {
   "cell_type": "code",
   "execution_count": 26,
   "metadata": {
    "colab": {
     "base_uri": "https://localhost:8080/",
     "height": 340
    },
    "executionInfo": {
     "elapsed": 620,
     "status": "ok",
     "timestamp": 1612660294376,
     "user": {
      "displayName": "Rajas Ubhare",
      "photoUrl": "https://lh3.googleusercontent.com/a-/AOh14GgTyVuS-EanMTwGO6A_TkULjaAwiMI_buYA3sQNQg=s64",
      "userId": "10235052903806704162"
     },
     "user_tz": 480
    },
    "id": "Un4fwYyfKjaR",
    "outputId": "d649f68d-4214-4403-fc1c-2098ff073ff4"
   },
   "outputs": [
    {
     "data": {
      "text/html": [
       "<div>\n",
       "<style scoped>\n",
       "    .dataframe tbody tr th:only-of-type {\n",
       "        vertical-align: middle;\n",
       "    }\n",
       "\n",
       "    .dataframe tbody tr th {\n",
       "        vertical-align: top;\n",
       "    }\n",
       "\n",
       "    .dataframe thead th {\n",
       "        text-align: right;\n",
       "    }\n",
       "</style>\n",
       "<table border=\"1\" class=\"dataframe\">\n",
       "  <thead>\n",
       "    <tr style=\"text-align: right;\">\n",
       "      <th></th>\n",
       "      <th>Rainfall_Gallicano</th>\n",
       "      <th>Rainfall_Pontetetto</th>\n",
       "      <th>Rainfall_Monte_Serra</th>\n",
       "      <th>Rainfall_Orentano</th>\n",
       "      <th>Rainfall_Borgo_a_Mozzano</th>\n",
       "      <th>Rainfall_Piaggione</th>\n",
       "      <th>Rainfall_Calavorno</th>\n",
       "      <th>Rainfall_Croce_Arcana</th>\n",
       "      <th>Rainfall_Tereglio_Coreglia_Antelminelli</th>\n",
       "      <th>Rainfall_Fabbriche_di_Vallico</th>\n",
       "      <th>...</th>\n",
       "      <th>Volume_POL</th>\n",
       "      <th>Volume_CC1</th>\n",
       "      <th>Volume_CC2</th>\n",
       "      <th>Volume_CSA</th>\n",
       "      <th>Volume_CSAL</th>\n",
       "      <th>Hydrometry_Monte_S_Quirico</th>\n",
       "      <th>Hydrometry_Piaggione</th>\n",
       "      <th>Depth_to_Groundwater_SAL</th>\n",
       "      <th>Depth_to_Groundwater_LT2</th>\n",
       "      <th>Depth_to_Groundwater_CoS</th>\n",
       "    </tr>\n",
       "    <tr>\n",
       "      <th>Date</th>\n",
       "      <th></th>\n",
       "      <th></th>\n",
       "      <th></th>\n",
       "      <th></th>\n",
       "      <th></th>\n",
       "      <th></th>\n",
       "      <th></th>\n",
       "      <th></th>\n",
       "      <th></th>\n",
       "      <th></th>\n",
       "      <th></th>\n",
       "      <th></th>\n",
       "      <th></th>\n",
       "      <th></th>\n",
       "      <th></th>\n",
       "      <th></th>\n",
       "      <th></th>\n",
       "      <th></th>\n",
       "      <th></th>\n",
       "      <th></th>\n",
       "      <th></th>\n",
       "    </tr>\n",
       "  </thead>\n",
       "  <tbody>\n",
       "    <tr>\n",
       "      <th>2006-01-02</th>\n",
       "      <td>-34.0</td>\n",
       "      <td>-17.6</td>\n",
       "      <td>-21.2</td>\n",
       "      <td>-35.2</td>\n",
       "      <td>-23.4</td>\n",
       "      <td>-27.8</td>\n",
       "      <td>-27.6</td>\n",
       "      <td>0.0</td>\n",
       "      <td>-11.2</td>\n",
       "      <td>-33.8</td>\n",
       "      <td>...</td>\n",
       "      <td>-545.00323</td>\n",
       "      <td>-912.20961</td>\n",
       "      <td>-669.30039</td>\n",
       "      <td>0.0</td>\n",
       "      <td>0.0</td>\n",
       "      <td>0.03</td>\n",
       "      <td>0.15</td>\n",
       "      <td>0.0</td>\n",
       "      <td>-0.02</td>\n",
       "      <td>0.0</td>\n",
       "    </tr>\n",
       "    <tr>\n",
       "      <th>2006-01-03</th>\n",
       "      <td>-3.0</td>\n",
       "      <td>-8.4</td>\n",
       "      <td>-0.2</td>\n",
       "      <td>-7.8</td>\n",
       "      <td>-6.0</td>\n",
       "      <td>-7.2</td>\n",
       "      <td>-3.6</td>\n",
       "      <td>0.0</td>\n",
       "      <td>0.2</td>\n",
       "      <td>-4.0</td>\n",
       "      <td>...</td>\n",
       "      <td>0.00000</td>\n",
       "      <td>0.00000</td>\n",
       "      <td>0.00000</td>\n",
       "      <td>0.0</td>\n",
       "      <td>0.0</td>\n",
       "      <td>-0.05</td>\n",
       "      <td>-0.25</td>\n",
       "      <td>0.0</td>\n",
       "      <td>-0.06</td>\n",
       "      <td>0.0</td>\n",
       "    </tr>\n",
       "    <tr>\n",
       "      <th>2006-01-04</th>\n",
       "      <td>-0.2</td>\n",
       "      <td>0.2</td>\n",
       "      <td>0.0</td>\n",
       "      <td>-0.2</td>\n",
       "      <td>0.0</td>\n",
       "      <td>-0.2</td>\n",
       "      <td>0.2</td>\n",
       "      <td>0.0</td>\n",
       "      <td>-0.2</td>\n",
       "      <td>-0.2</td>\n",
       "      <td>...</td>\n",
       "      <td>0.00000</td>\n",
       "      <td>0.00000</td>\n",
       "      <td>0.00000</td>\n",
       "      <td>0.0</td>\n",
       "      <td>0.0</td>\n",
       "      <td>-0.05</td>\n",
       "      <td>-0.26</td>\n",
       "      <td>0.0</td>\n",
       "      <td>0.00</td>\n",
       "      <td>0.0</td>\n",
       "    </tr>\n",
       "    <tr>\n",
       "      <th>2006-01-05</th>\n",
       "      <td>0.0</td>\n",
       "      <td>-0.2</td>\n",
       "      <td>0.0</td>\n",
       "      <td>0.0</td>\n",
       "      <td>0.0</td>\n",
       "      <td>0.0</td>\n",
       "      <td>-0.2</td>\n",
       "      <td>0.0</td>\n",
       "      <td>0.0</td>\n",
       "      <td>0.0</td>\n",
       "      <td>...</td>\n",
       "      <td>0.00000</td>\n",
       "      <td>0.00000</td>\n",
       "      <td>0.00000</td>\n",
       "      <td>0.0</td>\n",
       "      <td>0.0</td>\n",
       "      <td>-0.05</td>\n",
       "      <td>-0.03</td>\n",
       "      <td>0.0</td>\n",
       "      <td>0.00</td>\n",
       "      <td>0.0</td>\n",
       "    </tr>\n",
       "    <tr>\n",
       "      <th>2006-01-06</th>\n",
       "      <td>0.0</td>\n",
       "      <td>0.0</td>\n",
       "      <td>0.0</td>\n",
       "      <td>0.0</td>\n",
       "      <td>0.0</td>\n",
       "      <td>0.0</td>\n",
       "      <td>0.0</td>\n",
       "      <td>0.4</td>\n",
       "      <td>0.0</td>\n",
       "      <td>0.0</td>\n",
       "      <td>...</td>\n",
       "      <td>0.00000</td>\n",
       "      <td>0.00000</td>\n",
       "      <td>0.00000</td>\n",
       "      <td>0.0</td>\n",
       "      <td>0.0</td>\n",
       "      <td>-0.03</td>\n",
       "      <td>-0.03</td>\n",
       "      <td>0.0</td>\n",
       "      <td>-0.02</td>\n",
       "      <td>0.0</td>\n",
       "    </tr>\n",
       "  </tbody>\n",
       "</table>\n",
       "<p>5 rows × 24 columns</p>\n",
       "</div>"
      ],
      "text/plain": [
       "            Rainfall_Gallicano  Rainfall_Pontetetto  Rainfall_Monte_Serra  \\\n",
       "Date                                                                        \n",
       "2006-01-02               -34.0                -17.6                 -21.2   \n",
       "2006-01-03                -3.0                 -8.4                  -0.2   \n",
       "2006-01-04                -0.2                  0.2                   0.0   \n",
       "2006-01-05                 0.0                 -0.2                   0.0   \n",
       "2006-01-06                 0.0                  0.0                   0.0   \n",
       "\n",
       "            Rainfall_Orentano  Rainfall_Borgo_a_Mozzano  Rainfall_Piaggione  \\\n",
       "Date                                                                          \n",
       "2006-01-02              -35.2                     -23.4               -27.8   \n",
       "2006-01-03               -7.8                      -6.0                -7.2   \n",
       "2006-01-04               -0.2                       0.0                -0.2   \n",
       "2006-01-05                0.0                       0.0                 0.0   \n",
       "2006-01-06                0.0                       0.0                 0.0   \n",
       "\n",
       "            Rainfall_Calavorno  Rainfall_Croce_Arcana  \\\n",
       "Date                                                    \n",
       "2006-01-02               -27.6                    0.0   \n",
       "2006-01-03                -3.6                    0.0   \n",
       "2006-01-04                 0.2                    0.0   \n",
       "2006-01-05                -0.2                    0.0   \n",
       "2006-01-06                 0.0                    0.4   \n",
       "\n",
       "            Rainfall_Tereglio_Coreglia_Antelminelli  \\\n",
       "Date                                                  \n",
       "2006-01-02                                    -11.2   \n",
       "2006-01-03                                      0.2   \n",
       "2006-01-04                                     -0.2   \n",
       "2006-01-05                                      0.0   \n",
       "2006-01-06                                      0.0   \n",
       "\n",
       "            Rainfall_Fabbriche_di_Vallico  ...  Volume_POL  Volume_CC1  \\\n",
       "Date                                       ...                           \n",
       "2006-01-02                          -33.8  ...  -545.00323  -912.20961   \n",
       "2006-01-03                           -4.0  ...     0.00000     0.00000   \n",
       "2006-01-04                           -0.2  ...     0.00000     0.00000   \n",
       "2006-01-05                            0.0  ...     0.00000     0.00000   \n",
       "2006-01-06                            0.0  ...     0.00000     0.00000   \n",
       "\n",
       "            Volume_CC2  Volume_CSA  Volume_CSAL  Hydrometry_Monte_S_Quirico  \\\n",
       "Date                                                                          \n",
       "2006-01-02  -669.30039         0.0          0.0                        0.03   \n",
       "2006-01-03     0.00000         0.0          0.0                       -0.05   \n",
       "2006-01-04     0.00000         0.0          0.0                       -0.05   \n",
       "2006-01-05     0.00000         0.0          0.0                       -0.05   \n",
       "2006-01-06     0.00000         0.0          0.0                       -0.03   \n",
       "\n",
       "            Hydrometry_Piaggione  Depth_to_Groundwater_SAL  \\\n",
       "Date                                                         \n",
       "2006-01-02                  0.15                       0.0   \n",
       "2006-01-03                 -0.25                       0.0   \n",
       "2006-01-04                 -0.26                       0.0   \n",
       "2006-01-05                 -0.03                       0.0   \n",
       "2006-01-06                 -0.03                       0.0   \n",
       "\n",
       "            Depth_to_Groundwater_LT2  Depth_to_Groundwater_CoS  \n",
       "Date                                                            \n",
       "2006-01-02                     -0.02                       0.0  \n",
       "2006-01-03                     -0.06                       0.0  \n",
       "2006-01-04                      0.00                       0.0  \n",
       "2006-01-05                      0.00                       0.0  \n",
       "2006-01-06                     -0.02                       0.0  \n",
       "\n",
       "[5 rows x 24 columns]"
      ]
     },
     "execution_count": 26,
     "metadata": {},
     "output_type": "execute_result"
    }
   ],
   "source": [
    "temp=auser_data\n",
    "temp= temp.drop(columns=[\"Depth_to_Groundwater_SAL\",\"Depth_to_Groundwater_LT2\",\"Depth_to_Groundwater_CoS\"])\n",
    "\n",
    "df= auser_data[[\"Depth_to_Groundwater_SAL\",\"Depth_to_Groundwater_LT2\",\"Depth_to_Groundwater_CoS\"]]\n",
    "new= pd.merge(temp, df, left_index=True, right_index=True)\n",
    "\n",
    "# Update the main dataframe i.e. auser_data\n",
    "auser_data=new\n",
    "auser_data.head()"
   ]
  },
  {
   "cell_type": "code",
   "execution_count": 27,
   "metadata": {
    "colab": {
     "base_uri": "https://localhost:8080/"
    },
    "executionInfo": {
     "elapsed": 581,
     "status": "ok",
     "timestamp": 1612660310787,
     "user": {
      "displayName": "Rajas Ubhare",
      "photoUrl": "https://lh3.googleusercontent.com/a-/AOh14GgTyVuS-EanMTwGO6A_TkULjaAwiMI_buYA3sQNQg=s64",
      "userId": "10235052903806704162"
     },
     "user_tz": 480
    },
    "id": "DNdS2PfXPZ1C",
    "outputId": "2a810753-7c9b-42fc-ad0c-0c3179e9c0e3"
   },
   "outputs": [
    {
     "data": {
      "text/plain": [
       "(5102, 24)"
      ]
     },
     "execution_count": 27,
     "metadata": {},
     "output_type": "execute_result"
    }
   ],
   "source": [
    "auser_data.shape"
   ]
  },
  {
   "cell_type": "code",
   "execution_count": 28,
   "metadata": {
    "id": "DVkup5CFQIKI"
   },
   "outputs": [],
   "source": [
    "X, Y = np.split(auser_data,[-3],axis=1)"
   ]
  },
  {
   "cell_type": "code",
   "execution_count": 29,
   "metadata": {
    "colab": {
     "base_uri": "https://localhost:8080/"
    },
    "executionInfo": {
     "elapsed": 583,
     "status": "ok",
     "timestamp": 1612660316565,
     "user": {
      "displayName": "Rajas Ubhare",
      "photoUrl": "https://lh3.googleusercontent.com/a-/AOh14GgTyVuS-EanMTwGO6A_TkULjaAwiMI_buYA3sQNQg=s64",
      "userId": "10235052903806704162"
     },
     "user_tz": 480
    },
    "id": "a1gvJJKu2i5e",
    "outputId": "056ed541-3486-4982-bb11-d99c8f7bb96c"
   },
   "outputs": [
    {
     "data": {
      "text/plain": [
       "(5102, 21)"
      ]
     },
     "execution_count": 29,
     "metadata": {},
     "output_type": "execute_result"
    }
   ],
   "source": [
    "X.shape"
   ]
  },
  {
   "cell_type": "code",
   "execution_count": 30,
   "metadata": {
    "colab": {
     "base_uri": "https://localhost:8080/"
    },
    "executionInfo": {
     "elapsed": 542,
     "status": "ok",
     "timestamp": 1612660319682,
     "user": {
      "displayName": "Rajas Ubhare",
      "photoUrl": "https://lh3.googleusercontent.com/a-/AOh14GgTyVuS-EanMTwGO6A_TkULjaAwiMI_buYA3sQNQg=s64",
      "userId": "10235052903806704162"
     },
     "user_tz": 480
    },
    "id": "NL_bcHDOPTdh",
    "outputId": "2d803d96-5103-4935-fc85-61b0a1572af9"
   },
   "outputs": [
    {
     "data": {
      "text/plain": [
       "(5102, 3)"
      ]
     },
     "execution_count": 30,
     "metadata": {},
     "output_type": "execute_result"
    }
   ],
   "source": [
    "Y.shape"
   ]
  },
  {
   "cell_type": "code",
   "execution_count": 31,
   "metadata": {
    "id": "gSpve9APREWQ"
   },
   "outputs": [],
   "source": [
    "from sklearn.model_selection import train_test_split\n",
    "X_train, X_test, Y_train, Y_test = train_test_split(X, Y, test_size = 0.2, random_state = 12)"
   ]
  },
  {
   "cell_type": "code",
   "execution_count": 32,
   "metadata": {
    "colab": {
     "base_uri": "https://localhost:8080/"
    },
    "executionInfo": {
     "elapsed": 545,
     "status": "ok",
     "timestamp": 1612660327414,
     "user": {
      "displayName": "Rajas Ubhare",
      "photoUrl": "https://lh3.googleusercontent.com/a-/AOh14GgTyVuS-EanMTwGO6A_TkULjaAwiMI_buYA3sQNQg=s64",
      "userId": "10235052903806704162"
     },
     "user_tz": 480
    },
    "id": "anDh9193WD3n",
    "outputId": "f9e06ccb-5223-42f8-e6e2-46b3d18eeca0"
   },
   "outputs": [
    {
     "data": {
      "text/plain": [
       "(4081, 21)"
      ]
     },
     "execution_count": 32,
     "metadata": {},
     "output_type": "execute_result"
    }
   ],
   "source": [
    "X_train.shape"
   ]
  },
  {
   "cell_type": "markdown",
   "metadata": {
    "id": "ClEJVN6LuuGh"
   },
   "source": [
    "We will use Standard Scalar Scalar for scaling the features of our dataset."
   ]
  },
  {
   "cell_type": "code",
   "execution_count": 33,
   "metadata": {
    "id": "4Xy6PUs4U4Ly"
   },
   "outputs": [],
   "source": [
    "# Feature Scaling\n",
    "from sklearn.preprocessing import MinMaxScaler\n",
    "from sklearn.preprocessing import StandardScaler\n",
    "sc = StandardScaler()\n",
    "X_train = sc.fit_transform(X_train)\n",
    "X_test = sc.transform(X_test)"
   ]
  },
  {
   "cell_type": "code",
   "execution_count": 34,
   "metadata": {
    "colab": {
     "base_uri": "https://localhost:8080/",
     "height": 317
    },
    "executionInfo": {
     "elapsed": 629,
     "status": "ok",
     "timestamp": 1612673003998,
     "user": {
      "displayName": "Rajas Ubhare",
      "photoUrl": "https://lh3.googleusercontent.com/a-/AOh14GgTyVuS-EanMTwGO6A_TkULjaAwiMI_buYA3sQNQg=s64",
      "userId": "10235052903806704162"
     },
     "user_tz": 480
    },
    "id": "HjLIMDiOsq5g",
    "outputId": "765cb059-f7be-4d52-fa1c-3c88450c9c59"
   },
   "outputs": [
    {
     "data": {
      "text/html": [
       "<div>\n",
       "<style scoped>\n",
       "    .dataframe tbody tr th:only-of-type {\n",
       "        vertical-align: middle;\n",
       "    }\n",
       "\n",
       "    .dataframe tbody tr th {\n",
       "        vertical-align: top;\n",
       "    }\n",
       "\n",
       "    .dataframe thead th {\n",
       "        text-align: right;\n",
       "    }\n",
       "</style>\n",
       "<table border=\"1\" class=\"dataframe\">\n",
       "  <thead>\n",
       "    <tr style=\"text-align: right;\">\n",
       "      <th></th>\n",
       "      <th>Rainfall_Gallicano</th>\n",
       "      <th>Rainfall_Pontetetto</th>\n",
       "      <th>Rainfall_Monte_Serra</th>\n",
       "      <th>Rainfall_Orentano</th>\n",
       "      <th>Rainfall_Borgo_a_Mozzano</th>\n",
       "      <th>Rainfall_Piaggione</th>\n",
       "      <th>Rainfall_Calavorno</th>\n",
       "      <th>Rainfall_Croce_Arcana</th>\n",
       "      <th>Rainfall_Tereglio_Coreglia_Antelminelli</th>\n",
       "      <th>Rainfall_Fabbriche_di_Vallico</th>\n",
       "      <th>...</th>\n",
       "      <th>Temperature_Monte_Serra</th>\n",
       "      <th>Temperature_Ponte_a_Moriano</th>\n",
       "      <th>Temperature_Lucca_Orto_Botanico</th>\n",
       "      <th>Volume_POL</th>\n",
       "      <th>Volume_CC1</th>\n",
       "      <th>Volume_CC2</th>\n",
       "      <th>Volume_CSA</th>\n",
       "      <th>Volume_CSAL</th>\n",
       "      <th>Hydrometry_Monte_S_Quirico</th>\n",
       "      <th>Hydrometry_Piaggione</th>\n",
       "    </tr>\n",
       "  </thead>\n",
       "  <tbody>\n",
       "    <tr>\n",
       "      <th>count</th>\n",
       "      <td>5102.000000</td>\n",
       "      <td>5102.000000</td>\n",
       "      <td>5102.000000</td>\n",
       "      <td>5102.000000</td>\n",
       "      <td>5102.000000</td>\n",
       "      <td>5102.000000</td>\n",
       "      <td>5102.000000</td>\n",
       "      <td>5.102000e+03</td>\n",
       "      <td>5102.000000</td>\n",
       "      <td>5102.000000</td>\n",
       "      <td>...</td>\n",
       "      <td>5102.000000</td>\n",
       "      <td>5102.000000</td>\n",
       "      <td>5102.000000</td>\n",
       "      <td>5102.000000</td>\n",
       "      <td>5102.000000</td>\n",
       "      <td>5102.000000</td>\n",
       "      <td>5102.000000</td>\n",
       "      <td>5102.000000</td>\n",
       "      <td>5102.000000</td>\n",
       "      <td>5102.000000</td>\n",
       "    </tr>\n",
       "    <tr>\n",
       "      <th>mean</th>\n",
       "      <td>-0.007291</td>\n",
       "      <td>-0.005096</td>\n",
       "      <td>-0.004194</td>\n",
       "      <td>-0.008467</td>\n",
       "      <td>-0.005762</td>\n",
       "      <td>-0.006899</td>\n",
       "      <td>-0.006115</td>\n",
       "      <td>6.963375e-19</td>\n",
       "      <td>-0.002195</td>\n",
       "      <td>-0.007448</td>\n",
       "      <td>...</td>\n",
       "      <td>0.003900</td>\n",
       "      <td>-0.001000</td>\n",
       "      <td>0.003773</td>\n",
       "      <td>0.620473</td>\n",
       "      <td>1.858895</td>\n",
       "      <td>0.692527</td>\n",
       "      <td>-1.198628</td>\n",
       "      <td>-0.618973</td>\n",
       "      <td>-0.000057</td>\n",
       "      <td>-0.000318</td>\n",
       "    </tr>\n",
       "    <tr>\n",
       "      <th>std</th>\n",
       "      <td>17.529629</td>\n",
       "      <td>12.698680</td>\n",
       "      <td>13.813925</td>\n",
       "      <td>10.933417</td>\n",
       "      <td>15.306339</td>\n",
       "      <td>12.978307</td>\n",
       "      <td>15.093358</td>\n",
       "      <td>1.200783e+01</td>\n",
       "      <td>13.390832</td>\n",
       "      <td>19.525415</td>\n",
       "      <td>...</td>\n",
       "      <td>1.986552</td>\n",
       "      <td>1.522767</td>\n",
       "      <td>1.764239</td>\n",
       "      <td>284.338754</td>\n",
       "      <td>456.745902</td>\n",
       "      <td>340.752783</td>\n",
       "      <td>165.510420</td>\n",
       "      <td>163.832420</td>\n",
       "      <td>0.098579</td>\n",
       "      <td>0.270990</td>\n",
       "    </tr>\n",
       "    <tr>\n",
       "      <th>min</th>\n",
       "      <td>-312.400000</td>\n",
       "      <td>-141.600000</td>\n",
       "      <td>-137.600000</td>\n",
       "      <td>-107.400000</td>\n",
       "      <td>-171.400000</td>\n",
       "      <td>-114.800000</td>\n",
       "      <td>-199.000000</td>\n",
       "      <td>-2.628000e+02</td>\n",
       "      <td>-146.400000</td>\n",
       "      <td>-185.600000</td>\n",
       "      <td>...</td>\n",
       "      <td>-25.050000</td>\n",
       "      <td>-20.750000</td>\n",
       "      <td>-7.900000</td>\n",
       "      <td>-2952.628645</td>\n",
       "      <td>-2095.329600</td>\n",
       "      <td>-1890.038172</td>\n",
       "      <td>-5087.258065</td>\n",
       "      <td>-3680.838710</td>\n",
       "      <td>-0.880000</td>\n",
       "      <td>-2.490000</td>\n",
       "    </tr>\n",
       "    <tr>\n",
       "      <th>25%</th>\n",
       "      <td>-0.200000</td>\n",
       "      <td>-0.200000</td>\n",
       "      <td>-0.200000</td>\n",
       "      <td>-0.200000</td>\n",
       "      <td>-0.200000</td>\n",
       "      <td>0.000000</td>\n",
       "      <td>-0.200000</td>\n",
       "      <td>-2.000000e-01</td>\n",
       "      <td>-0.200000</td>\n",
       "      <td>-0.400000</td>\n",
       "      <td>...</td>\n",
       "      <td>-1.050000</td>\n",
       "      <td>-0.500000</td>\n",
       "      <td>-1.000000</td>\n",
       "      <td>0.000000</td>\n",
       "      <td>0.000000</td>\n",
       "      <td>0.000000</td>\n",
       "      <td>0.000000</td>\n",
       "      <td>0.000000</td>\n",
       "      <td>-0.020000</td>\n",
       "      <td>-0.010000</td>\n",
       "    </tr>\n",
       "    <tr>\n",
       "      <th>50%</th>\n",
       "      <td>0.000000</td>\n",
       "      <td>0.000000</td>\n",
       "      <td>0.000000</td>\n",
       "      <td>0.000000</td>\n",
       "      <td>0.000000</td>\n",
       "      <td>0.000000</td>\n",
       "      <td>0.000000</td>\n",
       "      <td>0.000000e+00</td>\n",
       "      <td>0.000000</td>\n",
       "      <td>0.000000</td>\n",
       "      <td>...</td>\n",
       "      <td>0.000000</td>\n",
       "      <td>0.000000</td>\n",
       "      <td>0.050000</td>\n",
       "      <td>0.000000</td>\n",
       "      <td>0.000000</td>\n",
       "      <td>0.000000</td>\n",
       "      <td>0.000000</td>\n",
       "      <td>0.000000</td>\n",
       "      <td>0.000000</td>\n",
       "      <td>-0.000783</td>\n",
       "    </tr>\n",
       "    <tr>\n",
       "      <th>75%</th>\n",
       "      <td>0.200000</td>\n",
       "      <td>0.000000</td>\n",
       "      <td>0.200000</td>\n",
       "      <td>0.200000</td>\n",
       "      <td>0.200000</td>\n",
       "      <td>0.200000</td>\n",
       "      <td>0.200000</td>\n",
       "      <td>2.000000e-01</td>\n",
       "      <td>0.200000</td>\n",
       "      <td>0.200000</td>\n",
       "      <td>...</td>\n",
       "      <td>1.100000</td>\n",
       "      <td>0.600000</td>\n",
       "      <td>1.000000</td>\n",
       "      <td>0.000000</td>\n",
       "      <td>0.000000</td>\n",
       "      <td>0.000000</td>\n",
       "      <td>0.000000</td>\n",
       "      <td>0.000000</td>\n",
       "      <td>0.010000</td>\n",
       "      <td>0.000000</td>\n",
       "    </tr>\n",
       "    <tr>\n",
       "      <th>max</th>\n",
       "      <td>318.800000</td>\n",
       "      <td>146.600000</td>\n",
       "      <td>152.200000</td>\n",
       "      <td>108.800000</td>\n",
       "      <td>165.800000</td>\n",
       "      <td>132.400000</td>\n",
       "      <td>209.000000</td>\n",
       "      <td>2.850000e+02</td>\n",
       "      <td>147.200000</td>\n",
       "      <td>197.000000</td>\n",
       "      <td>...</td>\n",
       "      <td>26.850000</td>\n",
       "      <td>9.050000</td>\n",
       "      <td>14.450000</td>\n",
       "      <td>2098.688000</td>\n",
       "      <td>3360.395610</td>\n",
       "      <td>3946.022452</td>\n",
       "      <td>2721.689307</td>\n",
       "      <td>4056.070968</td>\n",
       "      <td>1.280000</td>\n",
       "      <td>3.860000</td>\n",
       "    </tr>\n",
       "  </tbody>\n",
       "</table>\n",
       "<p>8 rows × 21 columns</p>\n",
       "</div>"
      ],
      "text/plain": [
       "       Rainfall_Gallicano  Rainfall_Pontetetto  Rainfall_Monte_Serra  \\\n",
       "count         5102.000000          5102.000000           5102.000000   \n",
       "mean            -0.007291            -0.005096             -0.004194   \n",
       "std             17.529629            12.698680             13.813925   \n",
       "min           -312.400000          -141.600000           -137.600000   \n",
       "25%             -0.200000            -0.200000             -0.200000   \n",
       "50%              0.000000             0.000000              0.000000   \n",
       "75%              0.200000             0.000000              0.200000   \n",
       "max            318.800000           146.600000            152.200000   \n",
       "\n",
       "       Rainfall_Orentano  Rainfall_Borgo_a_Mozzano  Rainfall_Piaggione  \\\n",
       "count        5102.000000               5102.000000         5102.000000   \n",
       "mean           -0.008467                 -0.005762           -0.006899   \n",
       "std            10.933417                 15.306339           12.978307   \n",
       "min          -107.400000               -171.400000         -114.800000   \n",
       "25%            -0.200000                 -0.200000            0.000000   \n",
       "50%             0.000000                  0.000000            0.000000   \n",
       "75%             0.200000                  0.200000            0.200000   \n",
       "max           108.800000                165.800000          132.400000   \n",
       "\n",
       "       Rainfall_Calavorno  Rainfall_Croce_Arcana  \\\n",
       "count         5102.000000           5.102000e+03   \n",
       "mean            -0.006115           6.963375e-19   \n",
       "std             15.093358           1.200783e+01   \n",
       "min           -199.000000          -2.628000e+02   \n",
       "25%             -0.200000          -2.000000e-01   \n",
       "50%              0.000000           0.000000e+00   \n",
       "75%              0.200000           2.000000e-01   \n",
       "max            209.000000           2.850000e+02   \n",
       "\n",
       "       Rainfall_Tereglio_Coreglia_Antelminelli  Rainfall_Fabbriche_di_Vallico  \\\n",
       "count                              5102.000000                    5102.000000   \n",
       "mean                                 -0.002195                      -0.007448   \n",
       "std                                  13.390832                      19.525415   \n",
       "min                                -146.400000                    -185.600000   \n",
       "25%                                  -0.200000                      -0.400000   \n",
       "50%                                   0.000000                       0.000000   \n",
       "75%                                   0.200000                       0.200000   \n",
       "max                                 147.200000                     197.000000   \n",
       "\n",
       "       ...  Temperature_Monte_Serra  Temperature_Ponte_a_Moriano  \\\n",
       "count  ...              5102.000000                  5102.000000   \n",
       "mean   ...                 0.003900                    -0.001000   \n",
       "std    ...                 1.986552                     1.522767   \n",
       "min    ...               -25.050000                   -20.750000   \n",
       "25%    ...                -1.050000                    -0.500000   \n",
       "50%    ...                 0.000000                     0.000000   \n",
       "75%    ...                 1.100000                     0.600000   \n",
       "max    ...                26.850000                     9.050000   \n",
       "\n",
       "       Temperature_Lucca_Orto_Botanico   Volume_POL   Volume_CC1   Volume_CC2  \\\n",
       "count                      5102.000000  5102.000000  5102.000000  5102.000000   \n",
       "mean                          0.003773     0.620473     1.858895     0.692527   \n",
       "std                           1.764239   284.338754   456.745902   340.752783   \n",
       "min                          -7.900000 -2952.628645 -2095.329600 -1890.038172   \n",
       "25%                          -1.000000     0.000000     0.000000     0.000000   \n",
       "50%                           0.050000     0.000000     0.000000     0.000000   \n",
       "75%                           1.000000     0.000000     0.000000     0.000000   \n",
       "max                          14.450000  2098.688000  3360.395610  3946.022452   \n",
       "\n",
       "        Volume_CSA  Volume_CSAL  Hydrometry_Monte_S_Quirico  \\\n",
       "count  5102.000000  5102.000000                 5102.000000   \n",
       "mean     -1.198628    -0.618973                   -0.000057   \n",
       "std     165.510420   163.832420                    0.098579   \n",
       "min   -5087.258065 -3680.838710                   -0.880000   \n",
       "25%       0.000000     0.000000                   -0.020000   \n",
       "50%       0.000000     0.000000                    0.000000   \n",
       "75%       0.000000     0.000000                    0.010000   \n",
       "max    2721.689307  4056.070968                    1.280000   \n",
       "\n",
       "       Hydrometry_Piaggione  \n",
       "count           5102.000000  \n",
       "mean              -0.000318  \n",
       "std                0.270990  \n",
       "min               -2.490000  \n",
       "25%               -0.010000  \n",
       "50%               -0.000783  \n",
       "75%                0.000000  \n",
       "max                3.860000  \n",
       "\n",
       "[8 rows x 21 columns]"
      ]
     },
     "execution_count": 34,
     "metadata": {},
     "output_type": "execute_result"
    }
   ],
   "source": [
    "X.describe()"
   ]
  },
  {
   "cell_type": "markdown",
   "metadata": {
    "id": "2GdPdzs0I_U0"
   },
   "source": [
    "#### 1. LSTM Model."
   ]
  },
  {
   "cell_type": "code",
   "execution_count": 37,
   "metadata": {},
   "outputs": [
    {
     "ename": "ModuleNotFoundError",
     "evalue": "No module named 'tensorflow'",
     "output_type": "error",
     "traceback": [
      "\u001b[1;31m---------------------------------------------------------------------------\u001b[0m",
      "\u001b[1;31mModuleNotFoundError\u001b[0m                       Traceback (most recent call last)",
      "\u001b[1;32m<ipython-input-37-64156d691fe5>\u001b[0m in \u001b[0;36m<module>\u001b[1;34m\u001b[0m\n\u001b[1;32m----> 1\u001b[1;33m \u001b[1;32mimport\u001b[0m \u001b[0mtensorflow\u001b[0m \u001b[1;32mas\u001b[0m \u001b[0mtf\u001b[0m\u001b[1;33m\u001b[0m\u001b[1;33m\u001b[0m\u001b[0m\n\u001b[0m",
      "\u001b[1;31mModuleNotFoundError\u001b[0m: No module named 'tensorflow'"
     ]
    }
   ],
   "source": [
    "import tensorflow as tf"
   ]
  },
  {
   "cell_type": "code",
   "execution_count": 35,
   "metadata": {
    "id": "PbRMVdRaJC-h"
   },
   "outputs": [
    {
     "ename": "ModuleNotFoundError",
     "evalue": "No module named 'tensorflow'",
     "output_type": "error",
     "traceback": [
      "\u001b[1;31m---------------------------------------------------------------------------\u001b[0m",
      "\u001b[1;31mModuleNotFoundError\u001b[0m                       Traceback (most recent call last)",
      "\u001b[1;32m<ipython-input-35-bb99ca5e1092>\u001b[0m in \u001b[0;36m<module>\u001b[1;34m\u001b[0m\n\u001b[0;32m      1\u001b[0m \u001b[1;31m# Import necessary libraries and packages from Keras for building mode\u001b[0m\u001b[1;33m\u001b[0m\u001b[1;33m\u001b[0m\u001b[1;33m\u001b[0m\u001b[0m\n\u001b[1;32m----> 2\u001b[1;33m \u001b[1;32mimport\u001b[0m \u001b[0mtensorflow\u001b[0m \u001b[1;32mas\u001b[0m \u001b[0mtf\u001b[0m\u001b[1;33m\u001b[0m\u001b[1;33m\u001b[0m\u001b[0m\n\u001b[0m\u001b[0;32m      3\u001b[0m \u001b[1;32mfrom\u001b[0m \u001b[0mkeras\u001b[0m\u001b[1;33m.\u001b[0m\u001b[0mcallbacks\u001b[0m \u001b[1;32mimport\u001b[0m \u001b[0mEarlyStopping\u001b[0m\u001b[1;33m\u001b[0m\u001b[1;33m\u001b[0m\u001b[0m\n\u001b[0;32m      4\u001b[0m \u001b[1;32mfrom\u001b[0m \u001b[0mkeras\u001b[0m\u001b[1;33m.\u001b[0m\u001b[0mmodels\u001b[0m \u001b[1;32mimport\u001b[0m \u001b[0mSequential\u001b[0m\u001b[1;33m\u001b[0m\u001b[1;33m\u001b[0m\u001b[0m\n\u001b[0;32m      5\u001b[0m \u001b[1;32mfrom\u001b[0m \u001b[0mkeras\u001b[0m\u001b[1;33m.\u001b[0m\u001b[0mlayers\u001b[0m \u001b[1;32mimport\u001b[0m \u001b[0mDense\u001b[0m\u001b[1;33m\u001b[0m\u001b[1;33m\u001b[0m\u001b[0m\n",
      "\u001b[1;31mModuleNotFoundError\u001b[0m: No module named 'tensorflow'"
     ]
    }
   ],
   "source": [
    "# Import necessary libraries and packages from Keras for building mode\n",
    "import tensorflow as tf\n",
    "from keras.callbacks import EarlyStopping\n",
    "from keras.models import Sequential\n",
    "from keras.layers import Dense\n",
    "from keras.layers import LSTM\n",
    "from keras.layers import Dropout\n",
    "from keras.optimizers import Adam"
   ]
  },
  {
   "cell_type": "code",
   "execution_count": null,
   "metadata": {},
   "outputs": [],
   "source": []
  },
  {
   "cell_type": "code",
   "execution_count": null,
   "metadata": {
    "id": "fDP6DLzZh1He"
   },
   "outputs": [],
   "source": [
    "# reshape input to be 3D [samples, timesteps, features]\n",
    "X_train = X_train.reshape((X_train.shape[0], 1, X_train.shape[1]))\n",
    "X_test = X_test.reshape((X_test.shape[0], 1, X_test.shape[1]))"
   ]
  },
  {
   "cell_type": "code",
   "execution_count": 41,
   "metadata": {
    "id": "kmBOuEYVVUHP"
   },
   "outputs": [
    {
     "ename": "NameError",
     "evalue": "name 'Sequential' is not defined",
     "output_type": "error",
     "traceback": [
      "\u001b[1;31m---------------------------------------------------------------------------\u001b[0m",
      "\u001b[1;31mNameError\u001b[0m                                 Traceback (most recent call last)",
      "\u001b[1;32m<ipython-input-41-662b401072b7>\u001b[0m in \u001b[0;36m<module>\u001b[1;34m\u001b[0m\n\u001b[0;32m      1\u001b[0m \u001b[1;31m# Initialize the Neural Network based on LSTM RNN\u001b[0m\u001b[1;33m\u001b[0m\u001b[1;33m\u001b[0m\u001b[1;33m\u001b[0m\u001b[0m\n\u001b[1;32m----> 2\u001b[1;33m \u001b[0mmodel\u001b[0m \u001b[1;33m=\u001b[0m \u001b[0mSequential\u001b[0m\u001b[1;33m(\u001b[0m\u001b[1;33m)\u001b[0m\u001b[1;33m\u001b[0m\u001b[1;33m\u001b[0m\u001b[0m\n\u001b[0m\u001b[0;32m      3\u001b[0m \u001b[1;33m\u001b[0m\u001b[0m\n\u001b[0;32m      4\u001b[0m \u001b[1;31m# Add 1st LSTM RNN layer\u001b[0m\u001b[1;33m\u001b[0m\u001b[1;33m\u001b[0m\u001b[1;33m\u001b[0m\u001b[0m\n\u001b[0;32m      5\u001b[0m \u001b[0mmodel\u001b[0m\u001b[1;33m.\u001b[0m\u001b[0madd\u001b[0m\u001b[1;33m(\u001b[0m\u001b[0mLSTM\u001b[0m\u001b[1;33m(\u001b[0m\u001b[0munits\u001b[0m\u001b[1;33m=\u001b[0m\u001b[1;36m64\u001b[0m\u001b[1;33m,\u001b[0m \u001b[0mreturn_sequences\u001b[0m\u001b[1;33m=\u001b[0m\u001b[1;32mTrue\u001b[0m\u001b[1;33m,\u001b[0m \u001b[0minput_shape\u001b[0m\u001b[1;33m=\u001b[0m\u001b[1;33m(\u001b[0m\u001b[1;36m1\u001b[0m\u001b[1;33m,\u001b[0m \u001b[1;36m21\u001b[0m\u001b[1;33m)\u001b[0m\u001b[1;33m)\u001b[0m\u001b[1;33m)\u001b[0m\u001b[1;33m\u001b[0m\u001b[1;33m\u001b[0m\u001b[0m\n",
      "\u001b[1;31mNameError\u001b[0m: name 'Sequential' is not defined"
     ]
    }
   ],
   "source": [
    "# Initialize the Neural Network based on LSTM RNN\n",
    "model = Sequential()\n",
    "\n",
    "# Add 1st LSTM RNN layer\n",
    "model.add(LSTM(units=64, return_sequences=True, input_shape=(1, 21)))\n",
    "\n",
    "# Adding 2nd LSTM layer\n",
    "model.add(LSTM(units=32, return_sequences=True))\n",
    "\n",
    "# Adding 3rd LSTM layer\n",
    "model.add(LSTM(units=16, return_sequences=False))\n",
    "\n",
    "# Adding Dropout\n",
    "model.add(Dropout(0.25))\n",
    "\n",
    "# Output layer\n",
    "model.add(Dense(units=3, activation='linear'))\n",
    "\n",
    "# Compiling the Neural Network\n",
    "model.compile(optimizer = Adam(learning_rate=0.01), loss='mean_squared_error')"
   ]
  },
  {
   "cell_type": "code",
   "execution_count": 40,
   "metadata": {
    "colab": {
     "base_uri": "https://localhost:8080/"
    },
    "executionInfo": {
     "elapsed": 43980,
     "status": "ok",
     "timestamp": 1612674531801,
     "user": {
      "displayName": "Rajas Ubhare",
      "photoUrl": "https://lh3.googleusercontent.com/a-/AOh14GgTyVuS-EanMTwGO6A_TkULjaAwiMI_buYA3sQNQg=s64",
      "userId": "10235052903806704162"
     },
     "user_tz": 480
    },
    "id": "O0B2mAeuWgIO",
    "outputId": "10a082ab-582c-4764-8bfc-2d45bd28717b"
   },
   "outputs": [
    {
     "ename": "NameError",
     "evalue": "name 'model' is not defined",
     "output_type": "error",
     "traceback": [
      "\u001b[1;31m---------------------------------------------------------------------------\u001b[0m",
      "\u001b[1;31mNameError\u001b[0m                                 Traceback (most recent call last)",
      "\u001b[1;32m<ipython-input-40-12ca96cc6bea>\u001b[0m in \u001b[0;36m<module>\u001b[1;34m\u001b[0m\n\u001b[0;32m      5\u001b[0m \u001b[1;31m#tb = TensorBoard('logs')\u001b[0m\u001b[1;33m\u001b[0m\u001b[1;33m\u001b[0m\u001b[1;33m\u001b[0m\u001b[0m\n\u001b[0;32m      6\u001b[0m \u001b[1;33m\u001b[0m\u001b[0m\n\u001b[1;32m----> 7\u001b[1;33m \u001b[0mhistory\u001b[0m \u001b[1;33m=\u001b[0m \u001b[0mmodel\u001b[0m\u001b[1;33m.\u001b[0m\u001b[0mfit\u001b[0m\u001b[1;33m(\u001b[0m\u001b[0mX_train\u001b[0m\u001b[1;33m,\u001b[0m \u001b[0mY_train\u001b[0m\u001b[1;33m,\u001b[0m \u001b[0mshuffle\u001b[0m\u001b[1;33m=\u001b[0m\u001b[1;32mTrue\u001b[0m\u001b[1;33m,\u001b[0m \u001b[0mepochs\u001b[0m\u001b[1;33m=\u001b[0m\u001b[1;36m250\u001b[0m\u001b[1;33m,\u001b[0m \u001b[0mvalidation_split\u001b[0m\u001b[1;33m=\u001b[0m\u001b[1;36m0.2\u001b[0m\u001b[1;33m,\u001b[0m \u001b[0mverbose\u001b[0m\u001b[1;33m=\u001b[0m\u001b[1;36m1\u001b[0m\u001b[1;33m,\u001b[0m \u001b[0mbatch_size\u001b[0m\u001b[1;33m=\u001b[0m\u001b[1;36m256\u001b[0m\u001b[1;33m)\u001b[0m\u001b[1;33m\u001b[0m\u001b[1;33m\u001b[0m\u001b[0m\n\u001b[0m",
      "\u001b[1;31mNameError\u001b[0m: name 'model' is not defined"
     ]
    }
   ],
   "source": [
    "#early_stopping = EarlyStopping(monitor='val_loss', min_delta=1e-10, patience=10, verbose=1)\n",
    "#rlr = ReduceLROnPlateau(monitor='val_loss', factor=0.5, patience=10, verbose=1)\n",
    "#mcp = ModelCheckpoint(filepath='weights.h5', monitor='val_loss', verbose=1, save_best_only=True, save_weights_only=True)\n",
    "#  callbacks=[early_stopping, rlr, mcp, tb]\n",
    "#tb = TensorBoard('logs')\n",
    "\n",
    "history = model.fit(X_train, Y_train, shuffle=True, epochs=250, validation_split=0.2, verbose=1, batch_size=256)"
   ]
  },
  {
   "cell_type": "code",
   "execution_count": null,
   "metadata": {
    "id": "tB8L9BDIkCdF"
   },
   "outputs": [],
   "source": [
    "model.save_weights(\"Auser_M3.h5\")"
   ]
  },
  {
   "cell_type": "code",
   "execution_count": null,
   "metadata": {
    "id": "Jb3TNxo7i549"
   },
   "outputs": [],
   "source": [
    "train_pred = model.predict(X_train)"
   ]
  },
  {
   "cell_type": "code",
   "execution_count": null,
   "metadata": {
    "colab": {
     "base_uri": "https://localhost:8080/"
    },
    "executionInfo": {
     "elapsed": 560,
     "status": "ok",
     "timestamp": 1612674566899,
     "user": {
      "displayName": "Rajas Ubhare",
      "photoUrl": "https://lh3.googleusercontent.com/a-/AOh14GgTyVuS-EanMTwGO6A_TkULjaAwiMI_buYA3sQNQg=s64",
      "userId": "10235052903806704162"
     },
     "user_tz": 480
    },
    "id": "S7HGfP6djaeh",
    "outputId": "fdf4d52e-0527-433c-df4f-e39fa565769a"
   },
   "outputs": [],
   "source": [
    "print(train_pred)\n"
   ]
  },
  {
   "cell_type": "code",
   "execution_count": null,
   "metadata": {
    "colab": {
     "base_uri": "https://localhost:8080/"
    },
    "executionInfo": {
     "elapsed": 564,
     "status": "ok",
     "timestamp": 1612674569074,
     "user": {
      "displayName": "Rajas Ubhare",
      "photoUrl": "https://lh3.googleusercontent.com/a-/AOh14GgTyVuS-EanMTwGO6A_TkULjaAwiMI_buYA3sQNQg=s64",
      "userId": "10235052903806704162"
     },
     "user_tz": 480
    },
    "id": "js6qpEnrNYaN",
    "outputId": "04614286-5084-405a-f8c3-50af6bfbcd6d"
   },
   "outputs": [],
   "source": [
    "print(Y_train)"
   ]
  },
  {
   "cell_type": "code",
   "execution_count": null,
   "metadata": {
    "id": "QZ9_3aBQjhPr"
   },
   "outputs": [],
   "source": [
    "test_pred = model.predict(X_test)"
   ]
  },
  {
   "cell_type": "code",
   "execution_count": null,
   "metadata": {
    "colab": {
     "base_uri": "https://localhost:8080/"
    },
    "executionInfo": {
     "elapsed": 545,
     "status": "ok",
     "timestamp": 1612674581816,
     "user": {
      "displayName": "Rajas Ubhare",
      "photoUrl": "https://lh3.googleusercontent.com/a-/AOh14GgTyVuS-EanMTwGO6A_TkULjaAwiMI_buYA3sQNQg=s64",
      "userId": "10235052903806704162"
     },
     "user_tz": 480
    },
    "id": "GGP6UlqKnE89",
    "outputId": "5b8dd203-d4b2-41aa-dc00-b916cb3d3f5f"
   },
   "outputs": [],
   "source": [
    "print(test_pred)\n",
    "\n",
    "print(Y_test)"
   ]
  },
  {
   "cell_type": "code",
   "execution_count": null,
   "metadata": {
    "colab": {
     "base_uri": "https://localhost:8080/"
    },
    "executionInfo": {
     "elapsed": 448,
     "status": "ok",
     "timestamp": 1612674590295,
     "user": {
      "displayName": "Rajas Ubhare",
      "photoUrl": "https://lh3.googleusercontent.com/a-/AOh14GgTyVuS-EanMTwGO6A_TkULjaAwiMI_buYA3sQNQg=s64",
      "userId": "10235052903806704162"
     },
     "user_tz": 480
    },
    "id": "Wa0A3NV6jkrd",
    "outputId": "57c6bb5d-6021-4bfc-c285-98569da0b418"
   },
   "outputs": [],
   "source": [
    "from sklearn.metrics import mean_squared_error, mean_absolute_error\n",
    "\n",
    "train_mse = mean_squared_error(Y_train, train_pred)\n",
    "print('Train MSE: %.3f' % train_mse)\n",
    "\n",
    "test_mse = mean_squared_error(Y_test, test_pred)\n",
    "print('Test MSE: %.3f' % test_mse)\n",
    "\n",
    "train_mae = mean_absolute_error(Y_train, train_pred)\n",
    "print('Train MAE: %.3f' % train_mae)\n",
    "\n",
    "test_mae = mean_absolute_error(Y_test, test_pred)\n",
    "print('Test MAE: %.3f' % test_mae)"
   ]
  },
  {
   "cell_type": "markdown",
   "metadata": {
    "id": "Kn2hMOpYxdqq"
   },
   "source": [
    "## DOGANELLA"
   ]
  },
  {
   "cell_type": "markdown",
   "metadata": {
    "id": "TaQ7rxg_ycXU"
   },
   "source": [
    "### Exploratory Data Analysis"
   ]
  },
  {
   "cell_type": "markdown",
   "metadata": {
    "id": "nXLewelryxgh"
   },
   "source": [
    "#### Importing The Libraries"
   ]
  },
  {
   "cell_type": "code",
   "execution_count": null,
   "metadata": {
    "id": "0xhrqeHdxmra"
   },
   "outputs": [],
   "source": [
    "import pandas as pd\n",
    "import numpy as np\n",
    "import matplotlib.pyplot as plt\n",
    "import seaborn as sns\n",
    "sns.set_style('whitegrid')\n",
    "import warnings\n",
    "import gc\n",
    "import missingno as mn\n",
    "import datetime\n",
    "warnings.simplefilter(action='ignore', category=FutureWarning)\n",
    "warnings.simplefilter(action='ignore', category=DeprecationWarning)\n",
    "%matplotlib inline"
   ]
  },
  {
   "cell_type": "code",
   "execution_count": null,
   "metadata": {
    "colab": {
     "base_uri": "https://localhost:8080/",
     "height": 439
    },
    "executionInfo": {
     "elapsed": 711,
     "status": "ok",
     "timestamp": 1613363019917,
     "user": {
      "displayName": "Rajas Ubhare",
      "photoUrl": "https://lh3.googleusercontent.com/a-/AOh14GgTyVuS-EanMTwGO6A_TkULjaAwiMI_buYA3sQNQg=s64",
      "userId": "10235052903806704162"
     },
     "user_tz": 480
    },
    "id": "ci50GcOYy7xY",
    "outputId": "50763168-be62-463b-f598-ef7f8af97f44"
   },
   "outputs": [],
   "source": [
    "doganella = pd.read_csv('/content/drive/MyDrive/STUDY/Kaggle_Water_Analytics/Data/Aquifer_Doganella.csv',parse_dates=True)\n",
    "doganella"
   ]
  },
  {
   "cell_type": "markdown",
   "metadata": {
    "id": "NgqIrHu-2XDe"
   },
   "source": [
    "Determine the shape or structure of the data frame."
   ]
  },
  {
   "cell_type": "code",
   "execution_count": null,
   "metadata": {
    "colab": {
     "base_uri": "https://localhost:8080/"
    },
    "executionInfo": {
     "elapsed": 458,
     "status": "ok",
     "timestamp": 1613363022323,
     "user": {
      "displayName": "Rajas Ubhare",
      "photoUrl": "https://lh3.googleusercontent.com/a-/AOh14GgTyVuS-EanMTwGO6A_TkULjaAwiMI_buYA3sQNQg=s64",
      "userId": "10235052903806704162"
     },
     "user_tz": 480
    },
    "id": "wDKC0vhr2Xyq",
    "outputId": "ed220e98-bd28-41b9-8e8d-41be257a90a9"
   },
   "outputs": [],
   "source": [
    "print('Shape: ', doganella.shape)"
   ]
  },
  {
   "cell_type": "markdown",
   "metadata": {
    "id": "CbYc8wYp71TI"
   },
   "source": [
    "#### Handling Missing Values"
   ]
  },
  {
   "cell_type": "code",
   "execution_count": null,
   "metadata": {
    "colab": {
     "base_uri": "https://localhost:8080/"
    },
    "executionInfo": {
     "elapsed": 342,
     "status": "ok",
     "timestamp": 1613363023985,
     "user": {
      "displayName": "Rajas Ubhare",
      "photoUrl": "https://lh3.googleusercontent.com/a-/AOh14GgTyVuS-EanMTwGO6A_TkULjaAwiMI_buYA3sQNQg=s64",
      "userId": "10235052903806704162"
     },
     "user_tz": 480
    },
    "id": "vJXUy3bp03Pq",
    "outputId": "d7bce44f-e838-444f-c143-c96073188023"
   },
   "outputs": [],
   "source": [
    "print(\"The percentage of missing values in dataset\")\n",
    "((doganella.isnull() | doganella.isna()).sum() * 100 / doganella.index.size).round(2)"
   ]
  },
  {
   "cell_type": "code",
   "execution_count": null,
   "metadata": {
    "colab": {
     "base_uri": "https://localhost:8080/",
     "height": 439
    },
    "executionInfo": {
     "elapsed": 494,
     "status": "ok",
     "timestamp": 1613363025633,
     "user": {
      "displayName": "Rajas Ubhare",
      "photoUrl": "https://lh3.googleusercontent.com/a-/AOh14GgTyVuS-EanMTwGO6A_TkULjaAwiMI_buYA3sQNQg=s64",
      "userId": "10235052903806704162"
     },
     "user_tz": 480
    },
    "id": "4RgGehPT1e7h",
    "outputId": "25d3bbf5-01cc-4559-86e9-033546081a24"
   },
   "outputs": [],
   "source": [
    "doganella = doganella.dropna(0,how ='all',thresh=7)\n",
    "doganella"
   ]
  },
  {
   "cell_type": "code",
   "execution_count": null,
   "metadata": {
    "colab": {
     "base_uri": "https://localhost:8080/"
    },
    "executionInfo": {
     "elapsed": 628,
     "status": "ok",
     "timestamp": 1613363028169,
     "user": {
      "displayName": "Rajas Ubhare",
      "photoUrl": "https://lh3.googleusercontent.com/a-/AOh14GgTyVuS-EanMTwGO6A_TkULjaAwiMI_buYA3sQNQg=s64",
      "userId": "10235052903806704162"
     },
     "user_tz": 480
    },
    "id": "E359hIqH6hJK",
    "outputId": "e77ebb73-fb3e-4673-9886-d55a847cfc4b"
   },
   "outputs": [],
   "source": [
    "print(\"The percentage of missing values in dataset\")\n",
    "((doganella.isnull() | doganella.isna()).sum() * 100 / doganella.index.size).round(2)"
   ]
  },
  {
   "cell_type": "code",
   "execution_count": null,
   "metadata": {
    "colab": {
     "base_uri": "https://localhost:8080/"
    },
    "executionInfo": {
     "elapsed": 455,
     "status": "ok",
     "timestamp": 1613363036764,
     "user": {
      "displayName": "Rajas Ubhare",
      "photoUrl": "https://lh3.googleusercontent.com/a-/AOh14GgTyVuS-EanMTwGO6A_TkULjaAwiMI_buYA3sQNQg=s64",
      "userId": "10235052903806704162"
     },
     "user_tz": 480
    },
    "id": "d81emkYB58N4",
    "outputId": "405aa26e-5cd2-47fd-a39e-303f3b72f5ce"
   },
   "outputs": [],
   "source": [
    "doganella.shape"
   ]
  },
  {
   "cell_type": "code",
   "execution_count": null,
   "metadata": {
    "colab": {
     "base_uri": "https://localhost:8080/",
     "height": 237
    },
    "executionInfo": {
     "elapsed": 3282,
     "status": "ok",
     "timestamp": 1613362946046,
     "user": {
      "displayName": "Rajas Ubhare",
      "photoUrl": "https://lh3.googleusercontent.com/a-/AOh14GgTyVuS-EanMTwGO6A_TkULjaAwiMI_buYA3sQNQg=s64",
      "userId": "10235052903806704162"
     },
     "user_tz": 480
    },
    "id": "4Pyju2H37Mk5",
    "outputId": "87899123-4e6d-406b-f091-6c99da76615a"
   },
   "outputs": [],
   "source": [
    "doganella_plot = doganella[['Depth_to_Groundwater_Pozzo_1','Depth_to_Groundwater_Pozzo_2', 'Depth_to_Groundwater_Pozzo_3', 'Depth_to_Groundwater_Pozzo_4', 'Depth_to_Groundwater_Pozzo_5', 'Depth_to_Groundwater_Pozzo_6', 'Depth_to_Groundwater_Pozzo_7', 'Depth_to_Groundwater_Pozzo_8', 'Depth_to_Groundwater_Pozzo_9']]\n",
    "sns.set(style=\"whitegrid\")\n",
    "plt.figure(figsize=(35,7))\n",
    "sns.color_palette(\"husl\", 9)\n",
    "sns.lineplot(data=doganella_plot)\n",
    "#df_auser.plot(linewidth=2, fontsize=12)"
   ]
  },
  {
   "cell_type": "code",
   "execution_count": null,
   "metadata": {
    "id": "CPyZ1Ykj7XSp"
   },
   "outputs": [],
   "source": [
    "doganella = doganella.set_index('Date')\n",
    "doganella.index = pd.to_datetime(doganella.index)"
   ]
  },
  {
   "cell_type": "code",
   "execution_count": null,
   "metadata": {
    "id": "Wt3LF-ge7muw"
   },
   "outputs": [],
   "source": [
    "doganella = doganella.interpolate(method = 'time')"
   ]
  },
  {
   "cell_type": "code",
   "execution_count": null,
   "metadata": {
    "id": "ySjySNf07ov6"
   },
   "outputs": [],
   "source": [
    "doganella = doganella.apply(lambda x: x.fillna(x.mean()),axis=0)"
   ]
  },
  {
   "cell_type": "code",
   "execution_count": null,
   "metadata": {
    "colab": {
     "base_uri": "https://localhost:8080/"
    },
    "executionInfo": {
     "elapsed": 447,
     "status": "ok",
     "timestamp": 1613363683752,
     "user": {
      "displayName": "Rajas Ubhare",
      "photoUrl": "https://lh3.googleusercontent.com/a-/AOh14GgTyVuS-EanMTwGO6A_TkULjaAwiMI_buYA3sQNQg=s64",
      "userId": "10235052903806704162"
     },
     "user_tz": 480
    },
    "id": "G2qJot1h76mD",
    "outputId": "5ff7602c-6b96-4b86-9749-02b45d1ff4b4"
   },
   "outputs": [],
   "source": [
    "print(\"The percentage of missing values in dataset\")\n",
    "((doganella.isnull() | doganella.isna()).sum() * 100 / doganella.index.size).round(2)"
   ]
  },
  {
   "cell_type": "code",
   "execution_count": null,
   "metadata": {
    "id": "IECwHVcA8EG9"
   },
   "outputs": [],
   "source": []
  },
  {
   "cell_type": "markdown",
   "metadata": {
    "id": "oZGfvGW38F3z"
   },
   "source": [
    "### Checking The Stationarity"
   ]
  },
  {
   "cell_type": "markdown",
   "metadata": {
    "id": "dvsQQWpo8F37"
   },
   "source": [
    "In order to check the stationarity of the time series (i.e identify wether the time series is stationary or not) we perform Augmented Dickey-Fuller test (ADF Test.)"
   ]
  },
  {
   "cell_type": "markdown",
   "metadata": {
    "id": "CWkqRinF8F37"
   },
   "source": [
    "For AD Fuller test:\n",
    "\n",
    "1. Null Hypothesis - Series possesses a unit root and hence is not stationary.\n",
    "2. Alternate Hypothesis - Series is stationary"
   ]
  },
  {
   "cell_type": "code",
   "execution_count": null,
   "metadata": {
    "colab": {
     "base_uri": "https://localhost:8080/"
    },
    "executionInfo": {
     "elapsed": 3499,
     "status": "ok",
     "timestamp": 1613363235965,
     "user": {
      "displayName": "Rajas Ubhare",
      "photoUrl": "https://lh3.googleusercontent.com/a-/AOh14GgTyVuS-EanMTwGO6A_TkULjaAwiMI_buYA3sQNQg=s64",
      "userId": "10235052903806704162"
     },
     "user_tz": 480
    },
    "id": "bC9Fg_kq8F37",
    "outputId": "05d52c92-bcec-43eb-d29f-4b1dd79a2161"
   },
   "outputs": [],
   "source": [
    "from statsmodels.tsa.stattools import adfuller\n",
    "print(\"AUGMENTED DICKEY FULLER TEST \\n\\n\")\n",
    "for i in range(len(doganella.columns)):\n",
    "  result = adfuller(doganella[doganella.columns[i]])\n",
    "\n",
    "  if result[1] > 0.05 :\n",
    "    print('{} - Series is NOT Stationary'.format(doganella.columns[i]))\n",
    "    print(\" \")\n",
    "  else:\n",
    "    print('{} - Series is Stationary'.format(doganella.columns[i]))\n",
    "    print(\" \")"
   ]
  },
  {
   "cell_type": "markdown",
   "metadata": {
    "id": "zUjeQeiH8F38"
   },
   "source": [
    "Now we will remove the Non- Stationarity by using Differencing"
   ]
  },
  {
   "cell_type": "code",
   "execution_count": null,
   "metadata": {
    "colab": {
     "base_uri": "https://localhost:8080/",
     "height": 401
    },
    "executionInfo": {
     "elapsed": 1750,
     "status": "ok",
     "timestamp": 1613363254087,
     "user": {
      "displayName": "Rajas Ubhare",
      "photoUrl": "https://lh3.googleusercontent.com/a-/AOh14GgTyVuS-EanMTwGO6A_TkULjaAwiMI_buYA3sQNQg=s64",
      "userId": "10235052903806704162"
     },
     "user_tz": 480
    },
    "id": "P-v0ZHwc8F38",
    "outputId": "a90a0f23-e800-4aea-ec9c-21eae233b727"
   },
   "outputs": [],
   "source": [
    "doganella.dropna().plot()"
   ]
  },
  {
   "cell_type": "code",
   "execution_count": null,
   "metadata": {
    "colab": {
     "base_uri": "https://localhost:8080/",
     "height": 401
    },
    "executionInfo": {
     "elapsed": 1596,
     "status": "ok",
     "timestamp": 1613363285401,
     "user": {
      "displayName": "Rajas Ubhare",
      "photoUrl": "https://lh3.googleusercontent.com/a-/AOh14GgTyVuS-EanMTwGO6A_TkULjaAwiMI_buYA3sQNQg=s64",
      "userId": "10235052903806704162"
     },
     "user_tz": 480
    },
    "id": "fWXoEA628F38",
    "outputId": "4ced1d48-8042-4bf8-aa90-1fb918eed027"
   },
   "outputs": [],
   "source": [
    "doganella=doganella-doganella.shift(1)\n",
    "doganella.dropna().plot()"
   ]
  },
  {
   "cell_type": "code",
   "execution_count": null,
   "metadata": {
    "colab": {
     "base_uri": "https://localhost:8080/",
     "height": 340
    },
    "executionInfo": {
     "elapsed": 504,
     "status": "ok",
     "timestamp": 1613363293201,
     "user": {
      "displayName": "Rajas Ubhare",
      "photoUrl": "https://lh3.googleusercontent.com/a-/AOh14GgTyVuS-EanMTwGO6A_TkULjaAwiMI_buYA3sQNQg=s64",
      "userId": "10235052903806704162"
     },
     "user_tz": 480
    },
    "id": "JAsRCh2o8F38",
    "outputId": "409c956d-af62-4296-e38e-0a29f8641fac"
   },
   "outputs": [],
   "source": [
    "doganella.head()"
   ]
  },
  {
   "cell_type": "markdown",
   "metadata": {
    "id": "sjfCpoHH8F39"
   },
   "source": [
    "We will remove the first row because it consist of missing values or NAN"
   ]
  },
  {
   "cell_type": "code",
   "execution_count": null,
   "metadata": {
    "id": "w7Derjhl8F39"
   },
   "outputs": [],
   "source": [
    "doganella = doganella.iloc[1:]"
   ]
  },
  {
   "cell_type": "markdown",
   "metadata": {
    "id": "SoLWAcN28F39"
   },
   "source": [
    "#### Confirming Stationarity"
   ]
  },
  {
   "cell_type": "markdown",
   "metadata": {
    "id": "qUq3TIE28F39"
   },
   "source": [
    "Now we will run the AD Fuller Test on the data to confirm if the all the timeseries are stationary or not."
   ]
  },
  {
   "cell_type": "code",
   "execution_count": null,
   "metadata": {
    "colab": {
     "base_uri": "https://localhost:8080/"
    },
    "executionInfo": {
     "elapsed": 3696,
     "status": "ok",
     "timestamp": 1613363340238,
     "user": {
      "displayName": "Rajas Ubhare",
      "photoUrl": "https://lh3.googleusercontent.com/a-/AOh14GgTyVuS-EanMTwGO6A_TkULjaAwiMI_buYA3sQNQg=s64",
      "userId": "10235052903806704162"
     },
     "user_tz": 480
    },
    "id": "ikklSmX98F39",
    "outputId": "b14cab9e-0b7c-41a9-8dc0-0eb4394fdfb8"
   },
   "outputs": [],
   "source": [
    "from statsmodels.tsa.stattools import adfuller\n",
    "print(\"AUGMENTED DICKEY FULLER TEST \\n\\n\")\n",
    "for i in range(len(doganella.columns)):\n",
    "  result = adfuller(doganella[doganella.columns[i]])\n",
    "\n",
    "  if result[1] > 0.05 :\n",
    "    print('{} - Series is NOT Stationary'.format(doganella.columns[i]))\n",
    "    print(\" \")\n",
    "  else:\n",
    "    print('{} - Series is Stationary'.format(doganella.columns[i]))\n",
    "    print(\" \")"
   ]
  },
  {
   "cell_type": "markdown",
   "metadata": {
    "id": "kEOm4MMq8F3-"
   },
   "source": [
    "Since the time Series is stationary we can proceed with the model building section."
   ]
  },
  {
   "cell_type": "code",
   "execution_count": null,
   "metadata": {
    "id": "4KBXKlVb83Ww"
   },
   "outputs": [],
   "source": []
  },
  {
   "cell_type": "markdown",
   "metadata": {
    "id": "b3OoaY2J9H2K"
   },
   "source": [
    "### Building Predictive Models"
   ]
  },
  {
   "cell_type": "markdown",
   "metadata": {
    "id": "pP_VO4J49H2O"
   },
   "source": [
    "#### Split Data into Training and Testing set"
   ]
  },
  {
   "cell_type": "code",
   "execution_count": null,
   "metadata": {
    "colab": {
     "base_uri": "https://localhost:8080/",
     "height": 340
    },
    "executionInfo": {
     "elapsed": 564,
     "status": "ok",
     "timestamp": 1613363528258,
     "user": {
      "displayName": "Rajas Ubhare",
      "photoUrl": "https://lh3.googleusercontent.com/a-/AOh14GgTyVuS-EanMTwGO6A_TkULjaAwiMI_buYA3sQNQg=s64",
      "userId": "10235052903806704162"
     },
     "user_tz": 480
    },
    "id": "gRmdwogg9H2O",
    "outputId": "6ac0dbb9-9c6f-493f-9c21-4c9ad6469d96"
   },
   "outputs": [],
   "source": [
    "temp=doganella\n",
    "temp= temp.drop(columns=['Depth_to_Groundwater_Pozzo_1','Depth_to_Groundwater_Pozzo_2', 'Depth_to_Groundwater_Pozzo_3', 'Depth_to_Groundwater_Pozzo_4', 'Depth_to_Groundwater_Pozzo_5', 'Depth_to_Groundwater_Pozzo_6', 'Depth_to_Groundwater_Pozzo_7', 'Depth_to_Groundwater_Pozzo_8', 'Depth_to_Groundwater_Pozzo_9'])\n",
    "\n",
    "df= doganella[['Depth_to_Groundwater_Pozzo_1','Depth_to_Groundwater_Pozzo_2', 'Depth_to_Groundwater_Pozzo_3', 'Depth_to_Groundwater_Pozzo_4', 'Depth_to_Groundwater_Pozzo_5', 'Depth_to_Groundwater_Pozzo_6', 'Depth_to_Groundwater_Pozzo_7', 'Depth_to_Groundwater_Pozzo_8', 'Depth_to_Groundwater_Pozzo_9']]\n",
    "new= pd.merge(temp, df, left_index=True, right_index=True)\n",
    "\n",
    "# Update the main dataframe i.e. auser_data\n",
    "doganella=new\n",
    "doganella.head()"
   ]
  },
  {
   "cell_type": "code",
   "execution_count": null,
   "metadata": {
    "colab": {
     "base_uri": "https://localhost:8080/",
     "height": 340
    },
    "executionInfo": {
     "elapsed": 555,
     "status": "ok",
     "timestamp": 1613365977787,
     "user": {
      "displayName": "Rajas Ubhare",
      "photoUrl": "https://lh3.googleusercontent.com/a-/AOh14GgTyVuS-EanMTwGO6A_TkULjaAwiMI_buYA3sQNQg=s64",
      "userId": "10235052903806704162"
     },
     "user_tz": 480
    },
    "id": "feXZuit9GwAn",
    "outputId": "b0fbaa13-1faf-495d-b6f4-c55f638f668d"
   },
   "outputs": [],
   "source": [
    "doganella.tail()"
   ]
  },
  {
   "cell_type": "code",
   "execution_count": null,
   "metadata": {
    "colab": {
     "base_uri": "https://localhost:8080/"
    },
    "executionInfo": {
     "elapsed": 468,
     "status": "ok",
     "timestamp": 1613363545218,
     "user": {
      "displayName": "Rajas Ubhare",
      "photoUrl": "https://lh3.googleusercontent.com/a-/AOh14GgTyVuS-EanMTwGO6A_TkULjaAwiMI_buYA3sQNQg=s64",
      "userId": "10235052903806704162"
     },
     "user_tz": 480
    },
    "id": "xBkU1pxZ9H2Q",
    "outputId": "8296f272-3ac3-443c-fa0f-27f42499d6d8"
   },
   "outputs": [],
   "source": [
    "doganella.shape"
   ]
  },
  {
   "cell_type": "code",
   "execution_count": null,
   "metadata": {
    "id": "sUK9fMY39H2Q"
   },
   "outputs": [],
   "source": [
    "X, Y = np.split(doganella,[-9],axis=1)"
   ]
  },
  {
   "cell_type": "code",
   "execution_count": null,
   "metadata": {
    "colab": {
     "base_uri": "https://localhost:8080/"
    },
    "executionInfo": {
     "elapsed": 489,
     "status": "ok",
     "timestamp": 1613364249271,
     "user": {
      "displayName": "Rajas Ubhare",
      "photoUrl": "https://lh3.googleusercontent.com/a-/AOh14GgTyVuS-EanMTwGO6A_TkULjaAwiMI_buYA3sQNQg=s64",
      "userId": "10235052903806704162"
     },
     "user_tz": 480
    },
    "id": "LOj7io979H2Q",
    "outputId": "946519ad-9f55-4ff4-dd03-97874c2ea66c"
   },
   "outputs": [],
   "source": [
    "X.shape"
   ]
  },
  {
   "cell_type": "code",
   "execution_count": null,
   "metadata": {
    "colab": {
     "base_uri": "https://localhost:8080/"
    },
    "executionInfo": {
     "elapsed": 432,
     "status": "ok",
     "timestamp": 1613364251862,
     "user": {
      "displayName": "Rajas Ubhare",
      "photoUrl": "https://lh3.googleusercontent.com/a-/AOh14GgTyVuS-EanMTwGO6A_TkULjaAwiMI_buYA3sQNQg=s64",
      "userId": "10235052903806704162"
     },
     "user_tz": 480
    },
    "id": "oBEp4Mcm9H2R",
    "outputId": "d4384607-9c6d-4771-9e30-9cf005aa62a4"
   },
   "outputs": [],
   "source": [
    "Y.shape"
   ]
  },
  {
   "cell_type": "code",
   "execution_count": null,
   "metadata": {
    "id": "ifmcSwSA9H2R"
   },
   "outputs": [],
   "source": [
    "from sklearn.model_selection import train_test_split\n",
    "X_train, X_test, Y_train, Y_test = train_test_split(X, Y, test_size = 0.2, random_state = 12)"
   ]
  },
  {
   "cell_type": "code",
   "execution_count": null,
   "metadata": {
    "colab": {
     "base_uri": "https://localhost:8080/"
    },
    "executionInfo": {
     "elapsed": 464,
     "status": "ok",
     "timestamp": 1613364258823,
     "user": {
      "displayName": "Rajas Ubhare",
      "photoUrl": "https://lh3.googleusercontent.com/a-/AOh14GgTyVuS-EanMTwGO6A_TkULjaAwiMI_buYA3sQNQg=s64",
      "userId": "10235052903806704162"
     },
     "user_tz": 480
    },
    "id": "a8cbswOB9H2R",
    "outputId": "805ce287-19ce-48b1-fc54-832435347160"
   },
   "outputs": [],
   "source": [
    "X_train.shape"
   ]
  },
  {
   "cell_type": "markdown",
   "metadata": {
    "id": "n7i2fExU9H2S"
   },
   "source": [
    "We will use Standard Scalar Scalar for scaling the features of our dataset."
   ]
  },
  {
   "cell_type": "code",
   "execution_count": null,
   "metadata": {
    "id": "5qTZavQS9H2S"
   },
   "outputs": [],
   "source": [
    "# Feature Scaling\n",
    "from sklearn.preprocessing import MinMaxScaler\n",
    "from sklearn.preprocessing import StandardScaler\n",
    "sc = StandardScaler()\n",
    "X_train = sc.fit_transform(X_train)\n",
    "X_test = sc.transform(X_test)"
   ]
  },
  {
   "cell_type": "code",
   "execution_count": null,
   "metadata": {
    "colab": {
     "base_uri": "https://localhost:8080/",
     "height": 317
    },
    "executionInfo": {
     "elapsed": 468,
     "status": "ok",
     "timestamp": 1613364262054,
     "user": {
      "displayName": "Rajas Ubhare",
      "photoUrl": "https://lh3.googleusercontent.com/a-/AOh14GgTyVuS-EanMTwGO6A_TkULjaAwiMI_buYA3sQNQg=s64",
      "userId": "10235052903806704162"
     },
     "user_tz": 480
    },
    "id": "RMCmVVas9H2S",
    "outputId": "87ff11fa-571b-48dc-925e-fa2afdaa7f89"
   },
   "outputs": [],
   "source": [
    "X.describe()"
   ]
  },
  {
   "cell_type": "markdown",
   "metadata": {
    "id": "olZBQ3CL9H2S"
   },
   "source": [
    "#### 1. LSTM Model."
   ]
  },
  {
   "cell_type": "code",
   "execution_count": null,
   "metadata": {
    "id": "vq2WPx3a9H2T"
   },
   "outputs": [],
   "source": [
    "# Import necessary libraries and packages from Keras for building model\n",
    "import tensorflow as tf\n",
    "from keras.callbacks import EarlyStopping\n",
    "from keras.models import Sequential\n",
    "from keras.layers import Dense\n",
    "from keras.layers import LSTM\n",
    "from keras.layers import Dropout\n",
    "from keras.optimizers import Adam"
   ]
  },
  {
   "cell_type": "code",
   "execution_count": null,
   "metadata": {
    "id": "-xCG39lI9H2T"
   },
   "outputs": [],
   "source": [
    "# reshape input to be 3D [samples, timesteps, features]\n",
    "X_train = X_train.reshape((X_train.shape[0], 1, X_train.shape[1]))\n",
    "X_test = X_test.reshape((X_test.shape[0], 1, X_test.shape[1]))"
   ]
  },
  {
   "cell_type": "code",
   "execution_count": null,
   "metadata": {
    "id": "aFMmg5ja9H2T"
   },
   "outputs": [],
   "source": [
    "# Initialize the Neural Network based on LSTM RNN\n",
    "model = Sequential()\n",
    "\n",
    "# Add 1st LSTM RNN layer\n",
    "model.add(LSTM(units=32, return_sequences=True, input_shape=(1, 12)))\n",
    "\n",
    "# Adding 2nd LSTM layer\n",
    "#model.add(LSTM(units=32, return_sequences=True))\n",
    "\n",
    "# Adding 3rd LSTM layer\n",
    "model.add(LSTM(units=16, return_sequences=False))\n",
    "\n",
    "# Adding Dropout\n",
    "model.add(Dropout(0.25))\n",
    "\n",
    "# Output layer\n",
    "model.add(Dense(units=9, activation='linear'))\n",
    "\n",
    "# Compiling the Neural Network\n",
    "model.compile(optimizer = Adam(learning_rate=0.01), loss='mean_squared_error')"
   ]
  },
  {
   "cell_type": "code",
   "execution_count": null,
   "metadata": {
    "colab": {
     "base_uri": "https://localhost:8080/"
    },
    "executionInfo": {
     "elapsed": 21439,
     "status": "ok",
     "timestamp": 1613365708958,
     "user": {
      "displayName": "Rajas Ubhare",
      "photoUrl": "https://lh3.googleusercontent.com/a-/AOh14GgTyVuS-EanMTwGO6A_TkULjaAwiMI_buYA3sQNQg=s64",
      "userId": "10235052903806704162"
     },
     "user_tz": 480
    },
    "id": "hho0rApU9H2T",
    "outputId": "dd19ce44-34b0-4f11-a5bd-e541e2267104"
   },
   "outputs": [],
   "source": [
    "#early_stopping = EarlyStopping(monitor='val_loss', min_delta=1e-10, patience=10, verbose=1)\n",
    "#rlr = ReduceLROnPlateau(monitor='val_loss', factor=0.5, patience=10, verbose=1)\n",
    "#mcp = ModelCheckpoint(filepath='weights.h5', monitor='val_loss', verbose=1, save_best_only=True, save_weights_only=True)\n",
    "#  callbacks=[early_stopping, rlr, mcp, tb]\n",
    "#tb = TensorBoard('logs')\n",
    "\n",
    "history = model.fit(X_train, Y_train, shuffle=True, epochs=200, validation_split=0.1, verbose=1, batch_size=256)"
   ]
  },
  {
   "cell_type": "code",
   "execution_count": null,
   "metadata": {
    "id": "t0WGempp9H2U"
   },
   "outputs": [],
   "source": [
    "model.save_weights(\"Doganella_M1.h5\")"
   ]
  },
  {
   "cell_type": "code",
   "execution_count": null,
   "metadata": {
    "id": "mcw0iq_H9H2U"
   },
   "outputs": [],
   "source": [
    "train_pred = model.predict(X_train)"
   ]
  },
  {
   "cell_type": "code",
   "execution_count": null,
   "metadata": {
    "colab": {
     "base_uri": "https://localhost:8080/"
    },
    "executionInfo": {
     "elapsed": 464,
     "status": "ok",
     "timestamp": 1613366204310,
     "user": {
      "displayName": "Rajas Ubhare",
      "photoUrl": "https://lh3.googleusercontent.com/a-/AOh14GgTyVuS-EanMTwGO6A_TkULjaAwiMI_buYA3sQNQg=s64",
      "userId": "10235052903806704162"
     },
     "user_tz": 480
    },
    "id": "rcXm9u9T9H2U",
    "outputId": "46c3e70d-fe1c-4db6-8bf0-c641cd4cc93f"
   },
   "outputs": [],
   "source": [
    "print(train_pred)\n"
   ]
  },
  {
   "cell_type": "code",
   "execution_count": null,
   "metadata": {
    "colab": {
     "base_uri": "https://localhost:8080/"
    },
    "executionInfo": {
     "elapsed": 447,
     "status": "ok",
     "timestamp": 1613366207703,
     "user": {
      "displayName": "Rajas Ubhare",
      "photoUrl": "https://lh3.googleusercontent.com/a-/AOh14GgTyVuS-EanMTwGO6A_TkULjaAwiMI_buYA3sQNQg=s64",
      "userId": "10235052903806704162"
     },
     "user_tz": 480
    },
    "id": "DIR_s78v9H2U",
    "outputId": "dd574ba3-0e98-4365-edec-7a0c70aa45f7"
   },
   "outputs": [],
   "source": [
    "print(Y_train)"
   ]
  },
  {
   "cell_type": "code",
   "execution_count": null,
   "metadata": {
    "id": "Eb0jDXV19H2U"
   },
   "outputs": [],
   "source": [
    "test_pred = model.predict(X_test)"
   ]
  },
  {
   "cell_type": "code",
   "execution_count": null,
   "metadata": {
    "colab": {
     "base_uri": "https://localhost:8080/"
    },
    "executionInfo": {
     "elapsed": 465,
     "status": "ok",
     "timestamp": 1613366216388,
     "user": {
      "displayName": "Rajas Ubhare",
      "photoUrl": "https://lh3.googleusercontent.com/a-/AOh14GgTyVuS-EanMTwGO6A_TkULjaAwiMI_buYA3sQNQg=s64",
      "userId": "10235052903806704162"
     },
     "user_tz": 480
    },
    "id": "pj9g1Diz9H2V",
    "outputId": "ee35773c-1ecd-439c-8e68-41a03b99b06c"
   },
   "outputs": [],
   "source": [
    "print(test_pred)\n",
    "\n",
    "print(Y_test)"
   ]
  },
  {
   "cell_type": "code",
   "execution_count": null,
   "metadata": {
    "colab": {
     "base_uri": "https://localhost:8080/"
    },
    "executionInfo": {
     "elapsed": 470,
     "status": "ok",
     "timestamp": 1613366222107,
     "user": {
      "displayName": "Rajas Ubhare",
      "photoUrl": "https://lh3.googleusercontent.com/a-/AOh14GgTyVuS-EanMTwGO6A_TkULjaAwiMI_buYA3sQNQg=s64",
      "userId": "10235052903806704162"
     },
     "user_tz": 480
    },
    "id": "EoH0mOr49H2V",
    "outputId": "57ddb3c5-ad9e-4485-ab28-31712d7aaf25"
   },
   "outputs": [],
   "source": [
    "from sklearn.metrics import mean_squared_error, mean_absolute_error\n",
    "\n",
    "train_mse = mean_squared_error(Y_train, train_pred)\n",
    "print('Train MSE: %.3f' % train_mse)\n",
    "\n",
    "test_mse = mean_squared_error(Y_test, test_pred)\n",
    "print('Test MSE: %.3f' % test_mse)\n",
    "\n",
    "train_mae = mean_absolute_error(Y_train, train_pred)\n",
    "print('Train MAE: %.3f' % train_mae)\n",
    "\n",
    "test_mae = mean_absolute_error(Y_test, test_pred)\n",
    "print('Test MAE: %.3f' % test_mae)"
   ]
  },
  {
   "cell_type": "markdown",
   "metadata": {
    "id": "uvt9U0llIBjv"
   },
   "source": [
    "## LUCO"
   ]
  },
  {
   "cell_type": "markdown",
   "metadata": {
    "id": "Bb_dbQytIUKc"
   },
   "source": [
    "### Exploratory Data Analysis"
   ]
  },
  {
   "cell_type": "markdown",
   "metadata": {
    "id": "e6HjJXrlIUKj"
   },
   "source": [
    "#### Importing The Libraries"
   ]
  },
  {
   "cell_type": "code",
   "execution_count": null,
   "metadata": {
    "id": "nDw-uKP7IUKj"
   },
   "outputs": [],
   "source": [
    "import pandas as pd\n",
    "import numpy as np\n",
    "import matplotlib.pyplot as plt\n",
    "import seaborn as sns\n",
    "sns.set_style('whitegrid')\n",
    "import warnings\n",
    "import gc\n",
    "import missingno as mn\n",
    "import datetime\n",
    "warnings.simplefilter(action='ignore', category=FutureWarning)\n",
    "warnings.simplefilter(action='ignore', category=DeprecationWarning)\n",
    "%matplotlib inline"
   ]
  },
  {
   "cell_type": "code",
   "execution_count": null,
   "metadata": {
    "colab": {
     "base_uri": "https://localhost:8080/",
     "height": 439
    },
    "executionInfo": {
     "elapsed": 594,
     "status": "ok",
     "timestamp": 1613367071160,
     "user": {
      "displayName": "Rajas Ubhare",
      "photoUrl": "https://lh3.googleusercontent.com/a-/AOh14GgTyVuS-EanMTwGO6A_TkULjaAwiMI_buYA3sQNQg=s64",
      "userId": "10235052903806704162"
     },
     "user_tz": 480
    },
    "id": "vWR3Bm-nIUKj",
    "outputId": "19f767fd-d27a-4665-cc02-7ec9811f7384"
   },
   "outputs": [],
   "source": [
    "luco = pd.read_csv('/content/drive/MyDrive/STUDY/Kaggle_Water_Analytics/Data/Aquifer_Luco.csv',parse_dates=True)\n",
    "luco"
   ]
  },
  {
   "cell_type": "markdown",
   "metadata": {
    "id": "9ilEHx5dIUKk"
   },
   "source": [
    "Determine the shape or structure of the data frame."
   ]
  },
  {
   "cell_type": "code",
   "execution_count": null,
   "metadata": {
    "colab": {
     "base_uri": "https://localhost:8080/"
    },
    "executionInfo": {
     "elapsed": 452,
     "status": "ok",
     "timestamp": 1613366441457,
     "user": {
      "displayName": "Rajas Ubhare",
      "photoUrl": "https://lh3.googleusercontent.com/a-/AOh14GgTyVuS-EanMTwGO6A_TkULjaAwiMI_buYA3sQNQg=s64",
      "userId": "10235052903806704162"
     },
     "user_tz": 480
    },
    "id": "RHMm8PGyIUKk",
    "outputId": "6f2a771e-d941-4ec7-dde5-e419e28b77ff"
   },
   "outputs": [],
   "source": [
    "print('Shape: ', luco.shape)"
   ]
  },
  {
   "cell_type": "markdown",
   "metadata": {
    "id": "GEPpoIhPIUKl"
   },
   "source": [
    "#### Handling Missing Values"
   ]
  },
  {
   "cell_type": "code",
   "execution_count": null,
   "metadata": {
    "colab": {
     "base_uri": "https://localhost:8080/"
    },
    "executionInfo": {
     "elapsed": 460,
     "status": "ok",
     "timestamp": 1613366525608,
     "user": {
      "displayName": "Rajas Ubhare",
      "photoUrl": "https://lh3.googleusercontent.com/a-/AOh14GgTyVuS-EanMTwGO6A_TkULjaAwiMI_buYA3sQNQg=s64",
      "userId": "10235052903806704162"
     },
     "user_tz": 480
    },
    "id": "2MzxCWrsIUKl",
    "outputId": "0e479a43-6dab-4233-d904-aa0e1704becb"
   },
   "outputs": [],
   "source": [
    "print(\"The percentage of missing values in dataset\")\n",
    "((luco.isnull() | luco.isna()).sum() * 100 / luco.index.size).round(2)"
   ]
  },
  {
   "cell_type": "code",
   "execution_count": null,
   "metadata": {
    "colab": {
     "base_uri": "https://localhost:8080/",
     "height": 439
    },
    "executionInfo": {
     "elapsed": 551,
     "status": "ok",
     "timestamp": 1613367076283,
     "user": {
      "displayName": "Rajas Ubhare",
      "photoUrl": "https://lh3.googleusercontent.com/a-/AOh14GgTyVuS-EanMTwGO6A_TkULjaAwiMI_buYA3sQNQg=s64",
      "userId": "10235052903806704162"
     },
     "user_tz": 480
    },
    "id": "Mudrx6IDIUKl",
    "outputId": "3db404aa-bb95-4e78-e3cf-9e9e76dc2d4e"
   },
   "outputs": [],
   "source": [
    "luco = luco.dropna(0,how ='all',thresh=8)\n",
    "luco"
   ]
  },
  {
   "cell_type": "code",
   "execution_count": null,
   "metadata": {
    "colab": {
     "base_uri": "https://localhost:8080/"
    },
    "executionInfo": {
     "elapsed": 479,
     "status": "ok",
     "timestamp": 1613367082260,
     "user": {
      "displayName": "Rajas Ubhare",
      "photoUrl": "https://lh3.googleusercontent.com/a-/AOh14GgTyVuS-EanMTwGO6A_TkULjaAwiMI_buYA3sQNQg=s64",
      "userId": "10235052903806704162"
     },
     "user_tz": 480
    },
    "id": "2edMQ1U9IUKl",
    "outputId": "cf7229de-cc56-4c29-d684-dfcf8a8ab71f"
   },
   "outputs": [],
   "source": [
    "print(\"The percentage of missing values in dataset\")\n",
    "((luco.isnull() | luco.isna()).sum() * 100 / luco.index.size).round(2)"
   ]
  },
  {
   "cell_type": "code",
   "execution_count": null,
   "metadata": {
    "colab": {
     "base_uri": "https://localhost:8080/"
    },
    "executionInfo": {
     "elapsed": 640,
     "status": "ok",
     "timestamp": 1613367102155,
     "user": {
      "displayName": "Rajas Ubhare",
      "photoUrl": "https://lh3.googleusercontent.com/a-/AOh14GgTyVuS-EanMTwGO6A_TkULjaAwiMI_buYA3sQNQg=s64",
      "userId": "10235052903806704162"
     },
     "user_tz": 480
    },
    "id": "K3L5LL26IUKm",
    "outputId": "8bf8a8eb-eac3-4094-852e-e0ea7226f7aa"
   },
   "outputs": [],
   "source": [
    "luco.shape"
   ]
  },
  {
   "cell_type": "code",
   "execution_count": null,
   "metadata": {
    "colab": {
     "base_uri": "https://localhost:8080/",
     "height": 244
    },
    "executionInfo": {
     "elapsed": 3517,
     "status": "ok",
     "timestamp": 1613367210940,
     "user": {
      "displayName": "Rajas Ubhare",
      "photoUrl": "https://lh3.googleusercontent.com/a-/AOh14GgTyVuS-EanMTwGO6A_TkULjaAwiMI_buYA3sQNQg=s64",
      "userId": "10235052903806704162"
     },
     "user_tz": 480
    },
    "id": "u4q9Xv-EIUKm",
    "outputId": "d354944b-9652-4582-f7f8-60cfe4eb0888"
   },
   "outputs": [],
   "source": [
    "luco_plot = luco[['Depth_to_Groundwater_Podere_Casetta']]\n",
    "sns.set(style=\"whitegrid\")\n",
    "plt.figure(figsize=(35,7))\n",
    "sns.color_palette(\"husl\", 9)\n",
    "sns.lineplot(data=doganella_plot)\n",
    "#df_auser.plot(linewidth=2, fontsize=12)"
   ]
  },
  {
   "cell_type": "code",
   "execution_count": null,
   "metadata": {
    "id": "0hvPdMglIUKm"
   },
   "outputs": [],
   "source": [
    "luco = luco.set_index('Date')\n",
    "luco.index = pd.to_datetime(luco.index)"
   ]
  },
  {
   "cell_type": "code",
   "execution_count": null,
   "metadata": {
    "id": "8AI7IRTIIUKm"
   },
   "outputs": [],
   "source": [
    "luco = luco.interpolate(method = 'time')"
   ]
  },
  {
   "cell_type": "code",
   "execution_count": null,
   "metadata": {
    "id": "xrCreGLDIUKm"
   },
   "outputs": [],
   "source": [
    "luco = luco.apply(lambda x: x.fillna(x.mean()),axis=0)"
   ]
  },
  {
   "cell_type": "code",
   "execution_count": null,
   "metadata": {
    "colab": {
     "base_uri": "https://localhost:8080/"
    },
    "executionInfo": {
     "elapsed": 506,
     "status": "ok",
     "timestamp": 1613367275407,
     "user": {
      "displayName": "Rajas Ubhare",
      "photoUrl": "https://lh3.googleusercontent.com/a-/AOh14GgTyVuS-EanMTwGO6A_TkULjaAwiMI_buYA3sQNQg=s64",
      "userId": "10235052903806704162"
     },
     "user_tz": 480
    },
    "id": "CiNN-UZaIUKm",
    "outputId": "3ae071eb-1c11-4f31-d3f8-f6893f07c2fe"
   },
   "outputs": [],
   "source": [
    "print(\"The percentage of missing values in dataset\")\n",
    "((luco.isnull() | luco.isna()).sum() * 100 / luco.index.size).round(2)"
   ]
  },
  {
   "cell_type": "markdown",
   "metadata": {
    "id": "p3K1kYqHNpCT"
   },
   "source": [
    "### Checking The Stationarity"
   ]
  },
  {
   "cell_type": "markdown",
   "metadata": {
    "id": "ukBo8s5RNpCd"
   },
   "source": [
    "In order to check the stationarity of the time series (i.e identify wether the time series is stationary or not) we perform Augmented Dickey-Fuller test (ADF Test.)"
   ]
  },
  {
   "cell_type": "markdown",
   "metadata": {
    "id": "76Y4Q9qgNpCe"
   },
   "source": [
    "For AD Fuller test:\n",
    "\n",
    "1. Null Hypothesis - Series possesses a unit root and hence is not stationary.\n",
    "2. Alternate Hypothesis - Series is stationary"
   ]
  },
  {
   "cell_type": "code",
   "execution_count": null,
   "metadata": {
    "colab": {
     "base_uri": "https://localhost:8080/"
    },
    "executionInfo": {
     "elapsed": 8136,
     "status": "ok",
     "timestamp": 1613367827508,
     "user": {
      "displayName": "Rajas Ubhare",
      "photoUrl": "https://lh3.googleusercontent.com/a-/AOh14GgTyVuS-EanMTwGO6A_TkULjaAwiMI_buYA3sQNQg=s64",
      "userId": "10235052903806704162"
     },
     "user_tz": 480
    },
    "id": "rJgQXsl5NpCe",
    "outputId": "d1eaec31-378e-43a7-bc29-5fd29af76193"
   },
   "outputs": [],
   "source": [
    "from statsmodels.tsa.stattools import adfuller\n",
    "print(\"AUGMENTED DICKEY FULLER TEST \\n\\n\")\n",
    "for i in range(len(luco.columns)):\n",
    "  result = adfuller(luco[luco.columns[i]])\n",
    "\n",
    "  if result[1] > 0.05 :\n",
    "    print('{} - Series is NOT Stationary'.format(luco.columns[i]))\n",
    "    print(\" \")\n",
    "  else:\n",
    "    print('{} - Series is Stationary'.format(luco.columns[i]))\n",
    "    print(\" \")"
   ]
  },
  {
   "cell_type": "markdown",
   "metadata": {
    "id": "F9aXy3ScNpCf"
   },
   "source": [
    "Now we will remove the Non- Stationarity by using Differencing"
   ]
  },
  {
   "cell_type": "code",
   "execution_count": null,
   "metadata": {
    "colab": {
     "base_uri": "https://localhost:8080/",
     "height": 401
    },
    "executionInfo": {
     "elapsed": 1950,
     "status": "ok",
     "timestamp": 1613367830139,
     "user": {
      "displayName": "Rajas Ubhare",
      "photoUrl": "https://lh3.googleusercontent.com/a-/AOh14GgTyVuS-EanMTwGO6A_TkULjaAwiMI_buYA3sQNQg=s64",
      "userId": "10235052903806704162"
     },
     "user_tz": 480
    },
    "id": "C-w-SyI5NpCf",
    "outputId": "77df783e-d9f3-4d19-be6a-6eb8254d897a"
   },
   "outputs": [],
   "source": [
    "luco.dropna().plot()"
   ]
  },
  {
   "cell_type": "code",
   "execution_count": null,
   "metadata": {
    "colab": {
     "base_uri": "https://localhost:8080/",
     "height": 401
    },
    "executionInfo": {
     "elapsed": 1924,
     "status": "ok",
     "timestamp": 1613367854100,
     "user": {
      "displayName": "Rajas Ubhare",
      "photoUrl": "https://lh3.googleusercontent.com/a-/AOh14GgTyVuS-EanMTwGO6A_TkULjaAwiMI_buYA3sQNQg=s64",
      "userId": "10235052903806704162"
     },
     "user_tz": 480
    },
    "id": "TMqdj5yuNpCf",
    "outputId": "ffb8be4a-5cb9-4177-a502-27417dc976d5"
   },
   "outputs": [],
   "source": [
    "luco= luco-luco.shift(1)\n",
    "luco.dropna().plot()"
   ]
  },
  {
   "cell_type": "code",
   "execution_count": null,
   "metadata": {
    "colab": {
     "base_uri": "https://localhost:8080/",
     "height": 340
    },
    "executionInfo": {
     "elapsed": 485,
     "status": "ok",
     "timestamp": 1613367859436,
     "user": {
      "displayName": "Rajas Ubhare",
      "photoUrl": "https://lh3.googleusercontent.com/a-/AOh14GgTyVuS-EanMTwGO6A_TkULjaAwiMI_buYA3sQNQg=s64",
      "userId": "10235052903806704162"
     },
     "user_tz": 480
    },
    "id": "OdKFjWemNpCf",
    "outputId": "238b5679-a864-4339-d47c-956d5240c10b"
   },
   "outputs": [],
   "source": [
    "luco.head()"
   ]
  },
  {
   "cell_type": "markdown",
   "metadata": {
    "id": "0OuJOWqSNpCg"
   },
   "source": [
    "We will remove the first row because it consist of missing values or NAN"
   ]
  },
  {
   "cell_type": "code",
   "execution_count": null,
   "metadata": {
    "id": "frAhNbDRNpCg"
   },
   "outputs": [],
   "source": [
    "luco = luco.iloc[1:]"
   ]
  },
  {
   "cell_type": "markdown",
   "metadata": {
    "id": "8F02nse_NpCg"
   },
   "source": [
    "#### Confirming Stationarity"
   ]
  },
  {
   "cell_type": "markdown",
   "metadata": {
    "id": "jAvMu8pjNpCg"
   },
   "source": [
    "Now we will run the AD Fuller Test on the data to confirm if the all the timeseries are stationary or not."
   ]
  },
  {
   "cell_type": "code",
   "execution_count": null,
   "metadata": {
    "colab": {
     "base_uri": "https://localhost:8080/"
    },
    "executionInfo": {
     "elapsed": 8043,
     "status": "ok",
     "timestamp": 1613367902638,
     "user": {
      "displayName": "Rajas Ubhare",
      "photoUrl": "https://lh3.googleusercontent.com/a-/AOh14GgTyVuS-EanMTwGO6A_TkULjaAwiMI_buYA3sQNQg=s64",
      "userId": "10235052903806704162"
     },
     "user_tz": 480
    },
    "id": "7XeZX8DDNpCg",
    "outputId": "943ab650-6401-42e1-852b-50dfcd4771a3"
   },
   "outputs": [],
   "source": [
    "from statsmodels.tsa.stattools import adfuller\n",
    "print(\"AUGMENTED DICKEY FULLER TEST \\n\\n\")\n",
    "for i in range(len(luco.columns)):\n",
    "  result = adfuller(luco[luco.columns[i]])\n",
    "\n",
    "  if result[1] > 0.05 :\n",
    "    print('{} - Series is NOT Stationary'.format(luco.columns[i]))\n",
    "    print(\" \")\n",
    "  else:\n",
    "    print('{} - Series is Stationary'.format(luco.columns[i]))\n",
    "    print(\" \")"
   ]
  },
  {
   "cell_type": "markdown",
   "metadata": {
    "id": "ZSK-n17ANpCh"
   },
   "source": [
    "Since the time Series is stationary we can proceed with the model building section."
   ]
  },
  {
   "cell_type": "code",
   "execution_count": null,
   "metadata": {
    "id": "Gr4SAIlRNpCh"
   },
   "outputs": [],
   "source": []
  },
  {
   "cell_type": "markdown",
   "metadata": {
    "id": "oMgGmnPkOLkF"
   },
   "source": [
    "### Building Predictive Models"
   ]
  },
  {
   "cell_type": "markdown",
   "metadata": {
    "id": "dv2ZsO-vOLkH"
   },
   "source": [
    "#### Split Data into Training and Testing set"
   ]
  },
  {
   "cell_type": "code",
   "execution_count": null,
   "metadata": {
    "colab": {
     "base_uri": "https://localhost:8080/",
     "height": 340
    },
    "executionInfo": {
     "elapsed": 443,
     "status": "ok",
     "timestamp": 1613368005157,
     "user": {
      "displayName": "Rajas Ubhare",
      "photoUrl": "https://lh3.googleusercontent.com/a-/AOh14GgTyVuS-EanMTwGO6A_TkULjaAwiMI_buYA3sQNQg=s64",
      "userId": "10235052903806704162"
     },
     "user_tz": 480
    },
    "id": "B42Uon7COLkI",
    "outputId": "0ce6680c-8b04-4750-9101-1b578795e030"
   },
   "outputs": [],
   "source": [
    "temp=luco\n",
    "temp= temp.drop(columns=['Depth_to_Groundwater_Podere_Casetta'])\n",
    "\n",
    "df= luco[['Depth_to_Groundwater_Podere_Casetta']]\n",
    "new= pd.merge(temp, df, left_index=True, right_index=True)\n",
    "\n",
    "# Update the main dataframe i.e. auser_data\n",
    "luco= new\n",
    "luco.head()"
   ]
  },
  {
   "cell_type": "code",
   "execution_count": null,
   "metadata": {
    "colab": {
     "base_uri": "https://localhost:8080/",
     "height": 640
    },
    "executionInfo": {
     "elapsed": 518,
     "status": "ok",
     "timestamp": 1613369141656,
     "user": {
      "displayName": "Rajas Ubhare",
      "photoUrl": "https://lh3.googleusercontent.com/a-/AOh14GgTyVuS-EanMTwGO6A_TkULjaAwiMI_buYA3sQNQg=s64",
      "userId": "10235052903806704162"
     },
     "user_tz": 480
    },
    "id": "BKxisBWVOLkI",
    "outputId": "5674dee4-4321-4431-d55a-695da0e7fc54"
   },
   "outputs": [],
   "source": [
    "luco.tail(500)"
   ]
  },
  {
   "cell_type": "code",
   "execution_count": null,
   "metadata": {
    "colab": {
     "base_uri": "https://localhost:8080/"
    },
    "executionInfo": {
     "elapsed": 445,
     "status": "ok",
     "timestamp": 1613368034247,
     "user": {
      "displayName": "Rajas Ubhare",
      "photoUrl": "https://lh3.googleusercontent.com/a-/AOh14GgTyVuS-EanMTwGO6A_TkULjaAwiMI_buYA3sQNQg=s64",
      "userId": "10235052903806704162"
     },
     "user_tz": 480
    },
    "id": "mfTaNH-1OLkJ",
    "outputId": "3b0be78f-a916-4b9e-9b94-9b5e179307ad"
   },
   "outputs": [],
   "source": [
    "luco.shape"
   ]
  },
  {
   "cell_type": "code",
   "execution_count": null,
   "metadata": {
    "id": "KoT9M4d_OLkJ"
   },
   "outputs": [],
   "source": [
    "X, Y = np.split(luco,[-1],axis=1)"
   ]
  },
  {
   "cell_type": "code",
   "execution_count": null,
   "metadata": {
    "colab": {
     "base_uri": "https://localhost:8080/"
    },
    "executionInfo": {
     "elapsed": 453,
     "status": "ok",
     "timestamp": 1613368048237,
     "user": {
      "displayName": "Rajas Ubhare",
      "photoUrl": "https://lh3.googleusercontent.com/a-/AOh14GgTyVuS-EanMTwGO6A_TkULjaAwiMI_buYA3sQNQg=s64",
      "userId": "10235052903806704162"
     },
     "user_tz": 480
    },
    "id": "SLqg9Ix1OLkJ",
    "outputId": "f2c00248-0fa1-46a3-bf8b-eb16f75fbcfe"
   },
   "outputs": [],
   "source": [
    "X.shape"
   ]
  },
  {
   "cell_type": "code",
   "execution_count": null,
   "metadata": {
    "colab": {
     "base_uri": "https://localhost:8080/"
    },
    "executionInfo": {
     "elapsed": 490,
     "status": "ok",
     "timestamp": 1613368051160,
     "user": {
      "displayName": "Rajas Ubhare",
      "photoUrl": "https://lh3.googleusercontent.com/a-/AOh14GgTyVuS-EanMTwGO6A_TkULjaAwiMI_buYA3sQNQg=s64",
      "userId": "10235052903806704162"
     },
     "user_tz": 480
    },
    "id": "oYICuF5sOLkJ",
    "outputId": "14982410-1def-4f6a-8b52-7399d2780f76"
   },
   "outputs": [],
   "source": [
    "Y.shape"
   ]
  },
  {
   "cell_type": "code",
   "execution_count": null,
   "metadata": {
    "id": "jGwmEio4OLkK"
   },
   "outputs": [],
   "source": [
    "from sklearn.model_selection import train_test_split\n",
    "X_train, X_test, Y_train, Y_test = train_test_split(X, Y, test_size = 0.2, random_state = 12)"
   ]
  },
  {
   "cell_type": "code",
   "execution_count": null,
   "metadata": {
    "colab": {
     "base_uri": "https://localhost:8080/"
    },
    "executionInfo": {
     "elapsed": 439,
     "status": "ok",
     "timestamp": 1613368059907,
     "user": {
      "displayName": "Rajas Ubhare",
      "photoUrl": "https://lh3.googleusercontent.com/a-/AOh14GgTyVuS-EanMTwGO6A_TkULjaAwiMI_buYA3sQNQg=s64",
      "userId": "10235052903806704162"
     },
     "user_tz": 480
    },
    "id": "U8s7DEl_OLkK",
    "outputId": "b7abbe50-6a09-4d2e-bc42-47df5ac93a16"
   },
   "outputs": [],
   "source": [
    "X_train.shape"
   ]
  },
  {
   "cell_type": "markdown",
   "metadata": {
    "id": "2BfzqGceOLkK"
   },
   "source": [
    "We will use Standard Scalar Scalar for scaling the features of our dataset."
   ]
  },
  {
   "cell_type": "code",
   "execution_count": null,
   "metadata": {
    "id": "8511TLMtOLkK"
   },
   "outputs": [],
   "source": [
    "# Feature Scaling\n",
    "from sklearn.preprocessing import MinMaxScaler\n",
    "from sklearn.preprocessing import StandardScaler\n",
    "sc = StandardScaler()\n",
    "X_train = sc.fit_transform(X_train)\n",
    "X_test = sc.transform(X_test)"
   ]
  },
  {
   "cell_type": "code",
   "execution_count": null,
   "metadata": {
    "colab": {
     "base_uri": "https://localhost:8080/",
     "height": 317
    },
    "executionInfo": {
     "elapsed": 436,
     "status": "ok",
     "timestamp": 1613368064417,
     "user": {
      "displayName": "Rajas Ubhare",
      "photoUrl": "https://lh3.googleusercontent.com/a-/AOh14GgTyVuS-EanMTwGO6A_TkULjaAwiMI_buYA3sQNQg=s64",
      "userId": "10235052903806704162"
     },
     "user_tz": 480
    },
    "id": "64CFVA5GOLkL",
    "outputId": "7a0fa3dd-7ff1-4603-a3b2-81346c24d42a"
   },
   "outputs": [],
   "source": [
    "X.describe()"
   ]
  },
  {
   "cell_type": "markdown",
   "metadata": {
    "id": "RfdOPwh0OLkL"
   },
   "source": [
    "#### 1. LSTM Model."
   ]
  },
  {
   "cell_type": "code",
   "execution_count": null,
   "metadata": {
    "id": "7PvzURYsOLkL"
   },
   "outputs": [],
   "source": [
    "# Import necessary libraries and packages from Keras for building model\n",
    "import tensorflow as tf\n",
    "from keras.callbacks import EarlyStopping\n",
    "from keras.models import Sequential\n",
    "from keras.layers import Dense\n",
    "from keras.layers import LSTM\n",
    "from keras.layers import Dropout\n",
    "from keras.optimizers import Adam"
   ]
  },
  {
   "cell_type": "code",
   "execution_count": null,
   "metadata": {
    "id": "988RB5pkOLkL"
   },
   "outputs": [],
   "source": [
    "# reshape input to be 3D [samples, timesteps, features]\n",
    "X_train = X_train.reshape((X_train.shape[0], 1, X_train.shape[1]))\n",
    "X_test = X_test.reshape((X_test.shape[0], 1, X_test.shape[1]))"
   ]
  },
  {
   "cell_type": "code",
   "execution_count": null,
   "metadata": {
    "id": "uKTXrIesOLkL"
   },
   "outputs": [],
   "source": [
    "# Initialize the Neural Network based on LSTM RNN\n",
    "model = Sequential()\n",
    "\n",
    "# Add 1st LSTM RNN layer\n",
    "model.add(LSTM(units=32, return_sequences=True, input_shape=(1, 20)))\n",
    "\n",
    "# Adding 2nd LSTM layer\n",
    "#model.add(LSTM(units=32, return_sequences=True))\n",
    "\n",
    "# Adding 3rd LSTM layer\n",
    "model.add(LSTM(units=16, return_sequences=False))\n",
    "\n",
    "# Adding Dropout\n",
    "model.add(Dropout(0.3))\n",
    "\n",
    "# Output layer\n",
    "model.add(Dense(units=1, activation='linear'))\n",
    "\n",
    "# Compiling the Neural Network\n",
    "model.compile(optimizer = Adam(learning_rate=0.01), loss='mean_squared_error')"
   ]
  },
  {
   "cell_type": "code",
   "execution_count": null,
   "metadata": {
    "colab": {
     "base_uri": "https://localhost:8080/"
    },
    "executionInfo": {
     "elapsed": 52028,
     "status": "ok",
     "timestamp": 1613368488066,
     "user": {
      "displayName": "Rajas Ubhare",
      "photoUrl": "https://lh3.googleusercontent.com/a-/AOh14GgTyVuS-EanMTwGO6A_TkULjaAwiMI_buYA3sQNQg=s64",
      "userId": "10235052903806704162"
     },
     "user_tz": 480
    },
    "id": "KN_WKlAHOLkM",
    "outputId": "6c10a88e-ab8a-421c-fe38-6573c428901c"
   },
   "outputs": [],
   "source": [
    "#early_stopping = EarlyStopping(monitor='val_loss', min_delta=1e-10, patience=10, verbose=1)\n",
    "#rlr = ReduceLROnPlateau(monitor='val_loss', factor=0.5, patience=10, verbose=1)\n",
    "#mcp = ModelCheckpoint(filepath='weights.h5', monitor='val_loss', verbose=1, save_best_only=True, save_weights_only=True)\n",
    "#  callbacks=[early_stopping, rlr, mcp, tb]\n",
    "#tb = TensorBoard('logs')\n",
    "\n",
    "history = model.fit(X_train, Y_train, shuffle=True, epochs=150, validation_split=0.2, verbose=1, batch_size=64)"
   ]
  },
  {
   "cell_type": "code",
   "execution_count": null,
   "metadata": {
    "id": "TE60mpeEOLkM"
   },
   "outputs": [],
   "source": [
    "model.save_weights(\"luco_M1.h5\")"
   ]
  },
  {
   "cell_type": "code",
   "execution_count": null,
   "metadata": {
    "id": "570PM2DeOLkM"
   },
   "outputs": [],
   "source": [
    "train_pred = model.predict(X_train)"
   ]
  },
  {
   "cell_type": "code",
   "execution_count": null,
   "metadata": {
    "colab": {
     "base_uri": "https://localhost:8080/"
    },
    "executionInfo": {
     "elapsed": 474,
     "status": "ok",
     "timestamp": 1613368507950,
     "user": {
      "displayName": "Rajas Ubhare",
      "photoUrl": "https://lh3.googleusercontent.com/a-/AOh14GgTyVuS-EanMTwGO6A_TkULjaAwiMI_buYA3sQNQg=s64",
      "userId": "10235052903806704162"
     },
     "user_tz": 480
    },
    "id": "ROOYb9XqOLkM",
    "outputId": "180f38b8-1593-4cb2-bbce-e6930522e8ee"
   },
   "outputs": [],
   "source": [
    "print(train_pred)\n"
   ]
  },
  {
   "cell_type": "code",
   "execution_count": null,
   "metadata": {
    "colab": {
     "base_uri": "https://localhost:8080/"
    },
    "executionInfo": {
     "elapsed": 453,
     "status": "ok",
     "timestamp": 1613368509497,
     "user": {
      "displayName": "Rajas Ubhare",
      "photoUrl": "https://lh3.googleusercontent.com/a-/AOh14GgTyVuS-EanMTwGO6A_TkULjaAwiMI_buYA3sQNQg=s64",
      "userId": "10235052903806704162"
     },
     "user_tz": 480
    },
    "id": "ons5f9IdOLkM",
    "outputId": "f59a2ae2-8e98-4eb3-c6ad-1ba8606796d8"
   },
   "outputs": [],
   "source": [
    "print(Y_train)"
   ]
  },
  {
   "cell_type": "code",
   "execution_count": null,
   "metadata": {
    "id": "oR1FL1vUOLkN"
   },
   "outputs": [],
   "source": [
    "test_pred = model.predict(X_test)"
   ]
  },
  {
   "cell_type": "code",
   "execution_count": null,
   "metadata": {
    "colab": {
     "base_uri": "https://localhost:8080/"
    },
    "executionInfo": {
     "elapsed": 436,
     "status": "ok",
     "timestamp": 1613368943017,
     "user": {
      "displayName": "Rajas Ubhare",
      "photoUrl": "https://lh3.googleusercontent.com/a-/AOh14GgTyVuS-EanMTwGO6A_TkULjaAwiMI_buYA3sQNQg=s64",
      "userId": "10235052903806704162"
     },
     "user_tz": 480
    },
    "id": "mnHxzEVfOLkN",
    "outputId": "45cea1fc-5fea-4d0b-b85e-ab1d43602381"
   },
   "outputs": [],
   "source": [
    "print(test_pred)\n",
    "\n"
   ]
  },
  {
   "cell_type": "code",
   "execution_count": null,
   "metadata": {
    "colab": {
     "base_uri": "https://localhost:8080/"
    },
    "executionInfo": {
     "elapsed": 408,
     "status": "ok",
     "timestamp": 1613369028729,
     "user": {
      "displayName": "Rajas Ubhare",
      "photoUrl": "https://lh3.googleusercontent.com/a-/AOh14GgTyVuS-EanMTwGO6A_TkULjaAwiMI_buYA3sQNQg=s64",
      "userId": "10235052903806704162"
     },
     "user_tz": 480
    },
    "id": "BhSOP7LkSHOt",
    "outputId": "0ff4e3d5-dd0e-45d2-ce30-250e7032e057"
   },
   "outputs": [],
   "source": [
    "Y_test.iloc[:,-1].values*100"
   ]
  },
  {
   "cell_type": "code",
   "execution_count": null,
   "metadata": {
    "colab": {
     "base_uri": "https://localhost:8080/"
    },
    "executionInfo": {
     "elapsed": 552,
     "status": "ok",
     "timestamp": 1613368515742,
     "user": {
      "displayName": "Rajas Ubhare",
      "photoUrl": "https://lh3.googleusercontent.com/a-/AOh14GgTyVuS-EanMTwGO6A_TkULjaAwiMI_buYA3sQNQg=s64",
      "userId": "10235052903806704162"
     },
     "user_tz": 480
    },
    "id": "bkiFA4BMOLkN",
    "outputId": "bad68985-5dd3-4ca9-8083-4f87076cc8a0"
   },
   "outputs": [],
   "source": [
    "from sklearn.metrics import mean_squared_error, mean_absolute_error\n",
    "\n",
    "train_mse = mean_squared_error(Y_train, train_pred)\n",
    "print('Train MSE: %.3f' % train_mse)\n",
    "\n",
    "test_mse = mean_squared_error(Y_test, test_pred)\n",
    "print('Test MSE: %.3f' % test_mse)\n",
    "\n",
    "train_mae = mean_absolute_error(Y_train, train_pred)\n",
    "print('Train MAE: %.3f' % train_mae)\n",
    "\n",
    "test_mae = mean_absolute_error(Y_test, test_pred)\n",
    "print('Test MAE: %.3f' % test_mae)"
   ]
  },
  {
   "cell_type": "markdown",
   "metadata": {
    "id": "wcq3gCKXRRcH"
   },
   "source": [
    "## PETRIGNANO"
   ]
  },
  {
   "cell_type": "markdown",
   "metadata": {
    "id": "2zqNYxsETq8A"
   },
   "source": [
    "### Exploratory Data Analysis"
   ]
  },
  {
   "cell_type": "markdown",
   "metadata": {
    "id": "ayxVt7bETq8I"
   },
   "source": [
    "#### Importing The Libraries"
   ]
  },
  {
   "cell_type": "code",
   "execution_count": null,
   "metadata": {
    "id": "M7gVOtyLTq8I"
   },
   "outputs": [],
   "source": [
    "import pandas as pd\n",
    "import numpy as np\n",
    "import matplotlib.pyplot as plt\n",
    "import seaborn as sns\n",
    "sns.set_style('whitegrid')\n",
    "import warnings\n",
    "import gc\n",
    "import missingno as mn\n",
    "import datetime\n",
    "warnings.simplefilter(action='ignore', category=FutureWarning)\n",
    "warnings.simplefilter(action='ignore', category=DeprecationWarning)\n",
    "%matplotlib inline"
   ]
  },
  {
   "cell_type": "code",
   "execution_count": null,
   "metadata": {
    "colab": {
     "base_uri": "https://localhost:8080/",
     "height": 439
    },
    "executionInfo": {
     "elapsed": 594,
     "status": "ok",
     "timestamp": 1613428140178,
     "user": {
      "displayName": "Rajas Ubhare",
      "photoUrl": "https://lh3.googleusercontent.com/a-/AOh14GgTyVuS-EanMTwGO6A_TkULjaAwiMI_buYA3sQNQg=s64",
      "userId": "10235052903806704162"
     },
     "user_tz": 480
    },
    "id": "avb-fl5TTq8J",
    "outputId": "522a7e45-ee11-4c46-ccd0-226e68d75f62"
   },
   "outputs": [],
   "source": [
    "petrignano = pd.read_csv('/content/drive/MyDrive/STUDY/Kaggle_Water_Analytics/Data/Aquifer_Petrignano.csv',parse_dates=True)\n",
    "petrignano"
   ]
  },
  {
   "cell_type": "markdown",
   "metadata": {
    "id": "DNR75zENTq8J"
   },
   "source": [
    "Determine the shape or structure of the data frame."
   ]
  },
  {
   "cell_type": "code",
   "execution_count": null,
   "metadata": {
    "colab": {
     "base_uri": "https://localhost:8080/"
    },
    "executionInfo": {
     "elapsed": 594,
     "status": "ok",
     "timestamp": 1613428143141,
     "user": {
      "displayName": "Rajas Ubhare",
      "photoUrl": "https://lh3.googleusercontent.com/a-/AOh14GgTyVuS-EanMTwGO6A_TkULjaAwiMI_buYA3sQNQg=s64",
      "userId": "10235052903806704162"
     },
     "user_tz": 480
    },
    "id": "00Fp8greTq8K",
    "outputId": "8dbed82b-b0c3-4f87-983b-9190ae76251c"
   },
   "outputs": [],
   "source": [
    "print('Shape: ', petrignano.shape)"
   ]
  },
  {
   "cell_type": "markdown",
   "metadata": {
    "id": "D8lBmryrTq8K"
   },
   "source": [
    "#### Handling Missing Values"
   ]
  },
  {
   "cell_type": "code",
   "execution_count": null,
   "metadata": {
    "colab": {
     "base_uri": "https://localhost:8080/"
    },
    "executionInfo": {
     "elapsed": 704,
     "status": "ok",
     "timestamp": 1613428145302,
     "user": {
      "displayName": "Rajas Ubhare",
      "photoUrl": "https://lh3.googleusercontent.com/a-/AOh14GgTyVuS-EanMTwGO6A_TkULjaAwiMI_buYA3sQNQg=s64",
      "userId": "10235052903806704162"
     },
     "user_tz": 480
    },
    "id": "L5jaZiXzTq8K",
    "outputId": "f482fc8a-d561-4ea3-c554-fb4bbf057763"
   },
   "outputs": [],
   "source": [
    "print(\"The percentage of missing values in dataset\")\n",
    "((petrignano.isnull() | petrignano.isna()).sum() * 100 / petrignano.index.size).round(2)"
   ]
  },
  {
   "cell_type": "code",
   "execution_count": null,
   "metadata": {
    "colab": {
     "base_uri": "https://localhost:8080/",
     "height": 439
    },
    "executionInfo": {
     "elapsed": 564,
     "status": "ok",
     "timestamp": 1613428147114,
     "user": {
      "displayName": "Rajas Ubhare",
      "photoUrl": "https://lh3.googleusercontent.com/a-/AOh14GgTyVuS-EanMTwGO6A_TkULjaAwiMI_buYA3sQNQg=s64",
      "userId": "10235052903806704162"
     },
     "user_tz": 480
    },
    "id": "CymrY4NvTq8K",
    "outputId": "2303fd51-ec35-454d-d5f5-70332aec76aa"
   },
   "outputs": [],
   "source": [
    "petrignano = petrignano.dropna(0,how ='all',thresh=3)\n",
    "petrignano"
   ]
  },
  {
   "cell_type": "code",
   "execution_count": null,
   "metadata": {
    "colab": {
     "base_uri": "https://localhost:8080/"
    },
    "executionInfo": {
     "elapsed": 815,
     "status": "ok",
     "timestamp": 1613428149812,
     "user": {
      "displayName": "Rajas Ubhare",
      "photoUrl": "https://lh3.googleusercontent.com/a-/AOh14GgTyVuS-EanMTwGO6A_TkULjaAwiMI_buYA3sQNQg=s64",
      "userId": "10235052903806704162"
     },
     "user_tz": 480
    },
    "id": "CJ0EdaTCTq8K",
    "outputId": "0dfc8431-98c0-496e-bdb0-d12b1a49b91d"
   },
   "outputs": [],
   "source": [
    "print(\"The percentage of missing values in dataset\")\n",
    "((petrignano.isnull() | petrignano.isna()).sum() * 100 / petrignano.index.size).round(2)"
   ]
  },
  {
   "cell_type": "code",
   "execution_count": null,
   "metadata": {
    "colab": {
     "base_uri": "https://localhost:8080/"
    },
    "executionInfo": {
     "elapsed": 672,
     "status": "ok",
     "timestamp": 1613428151864,
     "user": {
      "displayName": "Rajas Ubhare",
      "photoUrl": "https://lh3.googleusercontent.com/a-/AOh14GgTyVuS-EanMTwGO6A_TkULjaAwiMI_buYA3sQNQg=s64",
      "userId": "10235052903806704162"
     },
     "user_tz": 480
    },
    "id": "VlXlpqKzTq8L",
    "outputId": "4735944c-e0bc-41f8-b13a-04bdee41e74e"
   },
   "outputs": [],
   "source": [
    "petrignano.shape"
   ]
  },
  {
   "cell_type": "code",
   "execution_count": null,
   "metadata": {
    "colab": {
     "base_uri": "https://localhost:8080/",
     "height": 237
    },
    "executionInfo": {
     "elapsed": 2174,
     "status": "ok",
     "timestamp": 1613428154329,
     "user": {
      "displayName": "Rajas Ubhare",
      "photoUrl": "https://lh3.googleusercontent.com/a-/AOh14GgTyVuS-EanMTwGO6A_TkULjaAwiMI_buYA3sQNQg=s64",
      "userId": "10235052903806704162"
     },
     "user_tz": 480
    },
    "id": "U02Hng2jTq8L",
    "outputId": "a41dac20-d4e9-4cc1-b274-3bcae47e4743"
   },
   "outputs": [],
   "source": [
    "petrignano_plot = petrignano[['Depth_to_Groundwater_P24','Depth_to_Groundwater_P25']]\n",
    "sns.set(style=\"whitegrid\")\n",
    "plt.figure(figsize=(35,7))\n",
    "sns.color_palette(\"husl\", 9)\n",
    "sns.lineplot(data=petrignano_plot)\n",
    "#df_auser.plot(linewidth=2, fontsize=12)"
   ]
  },
  {
   "cell_type": "code",
   "execution_count": null,
   "metadata": {
    "id": "ayWedIS7Tq8L"
   },
   "outputs": [],
   "source": [
    "petrignano = petrignano.set_index('Date')\n",
    "petrignano.index = pd.to_datetime(petrignano.index)"
   ]
  },
  {
   "cell_type": "code",
   "execution_count": null,
   "metadata": {
    "id": "pQjPRRFvTq8L"
   },
   "outputs": [],
   "source": [
    "petrignano = petrignano.interpolate(method = 'time')"
   ]
  },
  {
   "cell_type": "code",
   "execution_count": null,
   "metadata": {
    "id": "hUlPoVRNTq8M"
   },
   "outputs": [],
   "source": [
    "petrignano = petrignano.apply(lambda x: x.fillna(x.mean()),axis=0)"
   ]
  },
  {
   "cell_type": "code",
   "execution_count": null,
   "metadata": {
    "colab": {
     "base_uri": "https://localhost:8080/"
    },
    "executionInfo": {
     "elapsed": 741,
     "status": "ok",
     "timestamp": 1613428159384,
     "user": {
      "displayName": "Rajas Ubhare",
      "photoUrl": "https://lh3.googleusercontent.com/a-/AOh14GgTyVuS-EanMTwGO6A_TkULjaAwiMI_buYA3sQNQg=s64",
      "userId": "10235052903806704162"
     },
     "user_tz": 480
    },
    "id": "Ybe3QXdJTq8M",
    "outputId": "94c83600-30e1-4780-e7a5-179beab3659a"
   },
   "outputs": [],
   "source": [
    "print(\"The percentage of missing values in dataset\")\n",
    "((petrignano.isnull() | petrignano.isna()).sum() * 100 / petrignano.index.size).round(2)"
   ]
  },
  {
   "cell_type": "code",
   "execution_count": null,
   "metadata": {
    "id": "INu_Jl08WMkU"
   },
   "outputs": [],
   "source": []
  },
  {
   "cell_type": "markdown",
   "metadata": {
    "id": "rxvlLC4EWbd8"
   },
   "source": [
    "### Checking The Stationarity"
   ]
  },
  {
   "cell_type": "markdown",
   "metadata": {
    "id": "AZ543d0BWbd9"
   },
   "source": [
    "In order to check the stationarity of the time series (i.e identify wether the time series is stationary or not) we perform Augmented Dickey-Fuller test (ADF Test.)"
   ]
  },
  {
   "cell_type": "markdown",
   "metadata": {
    "id": "G7-yP3TCWbd-"
   },
   "source": [
    "For AD Fuller test:\n",
    "\n",
    "1. Null Hypothesis - Series possesses a unit root and hence is not stationary.\n",
    "2. Alternate Hypothesis - Series is stationary"
   ]
  },
  {
   "cell_type": "code",
   "execution_count": null,
   "metadata": {
    "colab": {
     "base_uri": "https://localhost:8080/"
    },
    "executionInfo": {
     "elapsed": 2398,
     "status": "ok",
     "timestamp": 1613428168561,
     "user": {
      "displayName": "Rajas Ubhare",
      "photoUrl": "https://lh3.googleusercontent.com/a-/AOh14GgTyVuS-EanMTwGO6A_TkULjaAwiMI_buYA3sQNQg=s64",
      "userId": "10235052903806704162"
     },
     "user_tz": 480
    },
    "id": "yAX41zhuWbd-",
    "outputId": "f4cb6ddf-9b4f-4a57-9f4e-d34bcec8692c"
   },
   "outputs": [],
   "source": [
    "from statsmodels.tsa.stattools import adfuller\n",
    "print(\"AUGMENTED DICKEY FULLER TEST \\n\\n\")\n",
    "for i in range(len(petrignano.columns)):\n",
    "  result = adfuller(petrignano[petrignano.columns[i]])\n",
    "\n",
    "  if result[1] > 0.05 :\n",
    "    print('{} - Series is NOT Stationary'.format(petrignano.columns[i]))\n",
    "    print(\" \")\n",
    "  else:\n",
    "    print('{} - Series is Stationary'.format(petrignano.columns[i]))\n",
    "    print(\" \")"
   ]
  },
  {
   "cell_type": "markdown",
   "metadata": {
    "id": "YYhEUD-3Wbd_"
   },
   "source": [
    "Now we will remove the Non- Stationarity by using Differencing"
   ]
  },
  {
   "cell_type": "code",
   "execution_count": null,
   "metadata": {
    "colab": {
     "base_uri": "https://localhost:8080/"
    },
    "executionInfo": {
     "elapsed": 3146,
     "status": "ok",
     "timestamp": 1613428169319,
     "user": {
      "displayName": "Rajas Ubhare",
      "photoUrl": "https://lh3.googleusercontent.com/a-/AOh14GgTyVuS-EanMTwGO6A_TkULjaAwiMI_buYA3sQNQg=s64",
      "userId": "10235052903806704162"
     },
     "user_tz": 480
    },
    "id": "j_nATQs9WbeA",
    "outputId": "876ac4c9-18c9-4f7c-ca5f-a3e6d0bc4ed2"
   },
   "outputs": [],
   "source": [
    "petrignano.dropna().plot()"
   ]
  },
  {
   "cell_type": "code",
   "execution_count": null,
   "metadata": {
    "colab": {
     "base_uri": "https://localhost:8080/"
    },
    "executionInfo": {
     "elapsed": 3650,
     "status": "ok",
     "timestamp": 1613428169834,
     "user": {
      "displayName": "Rajas Ubhare",
      "photoUrl": "https://lh3.googleusercontent.com/a-/AOh14GgTyVuS-EanMTwGO6A_TkULjaAwiMI_buYA3sQNQg=s64",
      "userId": "10235052903806704162"
     },
     "user_tz": 480
    },
    "id": "ICevTVOcWbeB",
    "outputId": "43426708-2ace-4e6e-e845-9b8f8f14c22b"
   },
   "outputs": [],
   "source": [
    "petrignano= petrignano-petrignano.shift(1)\n",
    "petrignano.dropna().plot()"
   ]
  },
  {
   "cell_type": "code",
   "execution_count": null,
   "metadata": {
    "colab": {
     "base_uri": "https://localhost:8080/"
    },
    "executionInfo": {
     "elapsed": 3641,
     "status": "ok",
     "timestamp": 1613428169835,
     "user": {
      "displayName": "Rajas Ubhare",
      "photoUrl": "https://lh3.googleusercontent.com/a-/AOh14GgTyVuS-EanMTwGO6A_TkULjaAwiMI_buYA3sQNQg=s64",
      "userId": "10235052903806704162"
     },
     "user_tz": 480
    },
    "id": "KUECREMZWbeB",
    "outputId": "6ccae83d-b2ef-47ee-8bf1-c9667117a421"
   },
   "outputs": [],
   "source": [
    "petrignano.head()"
   ]
  },
  {
   "cell_type": "markdown",
   "metadata": {
    "id": "bxxt_z3ZWbeC"
   },
   "source": [
    "We will remove the first row because it consist of missing values or NAN"
   ]
  },
  {
   "cell_type": "code",
   "execution_count": null,
   "metadata": {
    "id": "Y-dNwVMUWbeC"
   },
   "outputs": [],
   "source": [
    "petrignano = petrignano.iloc[1:]"
   ]
  },
  {
   "cell_type": "markdown",
   "metadata": {
    "id": "DZrdepH1WbeC"
   },
   "source": [
    "#### Confirming Stationarity"
   ]
  },
  {
   "cell_type": "markdown",
   "metadata": {
    "id": "Hp49QCI5WbeC"
   },
   "source": [
    "Now we will run the AD Fuller Test on the data to confirm if the all the timeseries are stationary or not."
   ]
  },
  {
   "cell_type": "code",
   "execution_count": null,
   "metadata": {
    "colab": {
     "base_uri": "https://localhost:8080/"
    },
    "executionInfo": {
     "elapsed": 5288,
     "status": "ok",
     "timestamp": 1613428171498,
     "user": {
      "displayName": "Rajas Ubhare",
      "photoUrl": "https://lh3.googleusercontent.com/a-/AOh14GgTyVuS-EanMTwGO6A_TkULjaAwiMI_buYA3sQNQg=s64",
      "userId": "10235052903806704162"
     },
     "user_tz": 480
    },
    "id": "WAdaD2kYWbeD",
    "outputId": "d180ed5e-b5be-4341-8aa7-5a51aaaa03bc"
   },
   "outputs": [],
   "source": [
    "from statsmodels.tsa.stattools import adfuller\n",
    "print(\"AUGMENTED DICKEY FULLER TEST \\n\\n\")\n",
    "for i in range(len(petrignano.columns)):\n",
    "  result = adfuller(petrignano[petrignano.columns[i]])\n",
    "\n",
    "  if result[1] > 0.05 :\n",
    "    print('{} - Series is NOT Stationary'.format(petrignano.columns[i]))\n",
    "    print(\" \")\n",
    "  else:\n",
    "    print('{} - Series is Stationary'.format(petrignano.columns[i]))\n",
    "    print(\" \")"
   ]
  },
  {
   "cell_type": "markdown",
   "metadata": {
    "id": "EFH740TCWbeD"
   },
   "source": [
    "Since the time Series is stationary we can proceed with the model building section."
   ]
  },
  {
   "cell_type": "code",
   "execution_count": null,
   "metadata": {
    "id": "ghut6bq7WbeD"
   },
   "outputs": [],
   "source": []
  },
  {
   "cell_type": "markdown",
   "metadata": {
    "id": "9IgTjTSfXBLu"
   },
   "source": [
    "### Building Predictive Models"
   ]
  },
  {
   "cell_type": "markdown",
   "metadata": {
    "id": "gBEHJyNPXBLx"
   },
   "source": [
    "#### Split Data into Training and Testing set"
   ]
  },
  {
   "cell_type": "code",
   "execution_count": null,
   "metadata": {
    "colab": {
     "base_uri": "https://localhost:8080/",
     "height": 340
    },
    "executionInfo": {
     "elapsed": 595,
     "status": "ok",
     "timestamp": 1613428177093,
     "user": {
      "displayName": "Rajas Ubhare",
      "photoUrl": "https://lh3.googleusercontent.com/a-/AOh14GgTyVuS-EanMTwGO6A_TkULjaAwiMI_buYA3sQNQg=s64",
      "userId": "10235052903806704162"
     },
     "user_tz": 480
    },
    "id": "DagaKkWDXBLy",
    "outputId": "c1911f69-7787-4d12-ea47-8b9ea3546ed0"
   },
   "outputs": [],
   "source": [
    "temp=petrignano\n",
    "temp= temp.drop(columns=['Depth_to_Groundwater_P24','Depth_to_Groundwater_P25'])\n",
    "\n",
    "df= petrignano[['Depth_to_Groundwater_P24','Depth_to_Groundwater_P25']]\n",
    "new= pd.merge(temp, df, left_index=True, right_index=True)\n",
    "\n",
    "# Update the main dataframe i.e. auser_data\n",
    "petrignano= new\n",
    "petrignano.head()"
   ]
  },
  {
   "cell_type": "code",
   "execution_count": null,
   "metadata": {
    "colab": {
     "base_uri": "https://localhost:8080/",
     "height": 640
    },
    "executionInfo": {
     "elapsed": 550,
     "status": "ok",
     "timestamp": 1613428182679,
     "user": {
      "displayName": "Rajas Ubhare",
      "photoUrl": "https://lh3.googleusercontent.com/a-/AOh14GgTyVuS-EanMTwGO6A_TkULjaAwiMI_buYA3sQNQg=s64",
      "userId": "10235052903806704162"
     },
     "user_tz": 480
    },
    "id": "Kvvp1DR_XBLz",
    "outputId": "34d8b96f-2a90-43b4-80a2-b0c7607bac15"
   },
   "outputs": [],
   "source": [
    "petrignano.tail(500)"
   ]
  },
  {
   "cell_type": "code",
   "execution_count": null,
   "metadata": {
    "colab": {
     "base_uri": "https://localhost:8080/"
    },
    "executionInfo": {
     "elapsed": 1112,
     "status": "ok",
     "timestamp": 1613428186213,
     "user": {
      "displayName": "Rajas Ubhare",
      "photoUrl": "https://lh3.googleusercontent.com/a-/AOh14GgTyVuS-EanMTwGO6A_TkULjaAwiMI_buYA3sQNQg=s64",
      "userId": "10235052903806704162"
     },
     "user_tz": 480
    },
    "id": "Lm6Au1v0XBLz",
    "outputId": "c3c24002-9b22-4651-eeba-6c8f399a4622"
   },
   "outputs": [],
   "source": [
    "petrignano.shape"
   ]
  },
  {
   "cell_type": "code",
   "execution_count": null,
   "metadata": {
    "id": "bc56PS4cXBL0"
   },
   "outputs": [],
   "source": [
    "X, Y = np.split(petrignano,[-2],axis=1)"
   ]
  },
  {
   "cell_type": "code",
   "execution_count": null,
   "metadata": {
    "colab": {
     "base_uri": "https://localhost:8080/"
    },
    "executionInfo": {
     "elapsed": 814,
     "status": "ok",
     "timestamp": 1613428188585,
     "user": {
      "displayName": "Rajas Ubhare",
      "photoUrl": "https://lh3.googleusercontent.com/a-/AOh14GgTyVuS-EanMTwGO6A_TkULjaAwiMI_buYA3sQNQg=s64",
      "userId": "10235052903806704162"
     },
     "user_tz": 480
    },
    "id": "01DYOrGTXBL0",
    "outputId": "e2915277-5a5c-4b80-81e2-7c3127af41f2"
   },
   "outputs": [],
   "source": [
    "X.shape"
   ]
  },
  {
   "cell_type": "code",
   "execution_count": null,
   "metadata": {
    "colab": {
     "base_uri": "https://localhost:8080/"
    },
    "executionInfo": {
     "elapsed": 606,
     "status": "ok",
     "timestamp": 1613428189676,
     "user": {
      "displayName": "Rajas Ubhare",
      "photoUrl": "https://lh3.googleusercontent.com/a-/AOh14GgTyVuS-EanMTwGO6A_TkULjaAwiMI_buYA3sQNQg=s64",
      "userId": "10235052903806704162"
     },
     "user_tz": 480
    },
    "id": "-n4mJXjvXBL0",
    "outputId": "4a2eae48-5040-4aa4-d5c6-0073d3380f39"
   },
   "outputs": [],
   "source": [
    "Y.shape"
   ]
  },
  {
   "cell_type": "code",
   "execution_count": null,
   "metadata": {
    "id": "anEFGFOfXBL0"
   },
   "outputs": [],
   "source": [
    "from sklearn.model_selection import train_test_split\n",
    "X_train, X_test, Y_train, Y_test = train_test_split(X, Y, test_size = 0.2, random_state = 12)"
   ]
  },
  {
   "cell_type": "code",
   "execution_count": null,
   "metadata": {
    "colab": {
     "base_uri": "https://localhost:8080/"
    },
    "executionInfo": {
     "elapsed": 719,
     "status": "ok",
     "timestamp": 1613428193553,
     "user": {
      "displayName": "Rajas Ubhare",
      "photoUrl": "https://lh3.googleusercontent.com/a-/AOh14GgTyVuS-EanMTwGO6A_TkULjaAwiMI_buYA3sQNQg=s64",
      "userId": "10235052903806704162"
     },
     "user_tz": 480
    },
    "id": "lNj2nC-oXBL1",
    "outputId": "26a5302e-7263-4386-d47a-571772aa6922"
   },
   "outputs": [],
   "source": [
    "X_train.shape"
   ]
  },
  {
   "cell_type": "markdown",
   "metadata": {
    "id": "cemcRHUxXBL1"
   },
   "source": [
    "We will use Standard Scalar Scalar for scaling the features of our dataset."
   ]
  },
  {
   "cell_type": "code",
   "execution_count": null,
   "metadata": {
    "id": "T0qR7qpCXBL1"
   },
   "outputs": [],
   "source": [
    "# Feature Scaling\n",
    "from sklearn.preprocessing import MinMaxScaler\n",
    "from sklearn.preprocessing import StandardScaler\n",
    "sc = StandardScaler()\n",
    "X_train = sc.fit_transform(X_train)\n",
    "X_test = sc.transform(X_test)"
   ]
  },
  {
   "cell_type": "code",
   "execution_count": null,
   "metadata": {
    "colab": {
     "base_uri": "https://localhost:8080/",
     "height": 317
    },
    "executionInfo": {
     "elapsed": 531,
     "status": "ok",
     "timestamp": 1613428196949,
     "user": {
      "displayName": "Rajas Ubhare",
      "photoUrl": "https://lh3.googleusercontent.com/a-/AOh14GgTyVuS-EanMTwGO6A_TkULjaAwiMI_buYA3sQNQg=s64",
      "userId": "10235052903806704162"
     },
     "user_tz": 480
    },
    "id": "qd4IQPJ3XBL1",
    "outputId": "8dea4dcd-86e4-4beb-9f06-2bb1292bb301"
   },
   "outputs": [],
   "source": [
    "X.describe()"
   ]
  },
  {
   "cell_type": "markdown",
   "metadata": {
    "id": "sVGgOivzXBL2"
   },
   "source": [
    "#### 1. LSTM Model."
   ]
  },
  {
   "cell_type": "code",
   "execution_count": null,
   "metadata": {
    "id": "wJd4wj_dXBL2"
   },
   "outputs": [],
   "source": [
    "# Import necessary libraries and packages from Keras for building model\n",
    "import tensorflow as tf\n",
    "from keras.callbacks import EarlyStopping\n",
    "from keras.models import Sequential\n",
    "from keras.layers import Dense\n",
    "from keras.layers import LSTM\n",
    "from keras.layers import Dropout\n",
    "from keras.optimizers import Adam"
   ]
  },
  {
   "cell_type": "code",
   "execution_count": null,
   "metadata": {
    "id": "rmXC1zUBXBL2"
   },
   "outputs": [],
   "source": [
    "# reshape input to be 3D [samples, timesteps, features]\n",
    "X_train = X_train.reshape((X_train.shape[0], 1, X_train.shape[1]))\n",
    "X_test = X_test.reshape((X_test.shape[0], 1, X_test.shape[1]))"
   ]
  },
  {
   "cell_type": "code",
   "execution_count": null,
   "metadata": {
    "id": "09Iz5kTEXBL2"
   },
   "outputs": [],
   "source": [
    "# Initialize the Neural Network based on LSTM RNN\n",
    "model = Sequential()\n",
    "\n",
    "# Add 1st LSTM RNN layer\n",
    "model.add(LSTM(units=32, return_sequences=True, input_shape=(1, 5)))\n",
    "\n",
    "# Adding 2nd LSTM layer\n",
    "#model.add(LSTM(units=32, return_sequences=True))\n",
    "\n",
    "# Adding 3rd LSTM layer\n",
    "model.add(LSTM(units=16, return_sequences=False))\n",
    "\n",
    "# Adding Dropout\n",
    "model.add(Dropout(0.3))\n",
    "\n",
    "# Output layer\n",
    "model.add(Dense(units=2, activation='linear'))\n",
    "\n",
    "# Compiling the Neural Network\n",
    "model.compile(optimizer = Adam(learning_rate=0.01), loss='mean_squared_error')"
   ]
  },
  {
   "cell_type": "code",
   "execution_count": null,
   "metadata": {
    "colab": {
     "base_uri": "https://localhost:8080/"
    },
    "executionInfo": {
     "elapsed": 43668,
     "status": "ok",
     "timestamp": 1613428266775,
     "user": {
      "displayName": "Rajas Ubhare",
      "photoUrl": "https://lh3.googleusercontent.com/a-/AOh14GgTyVuS-EanMTwGO6A_TkULjaAwiMI_buYA3sQNQg=s64",
      "userId": "10235052903806704162"
     },
     "user_tz": 480
    },
    "id": "1Lq3j5SLXBL2",
    "outputId": "9728f26f-a5b6-48c9-f7e8-a5fcc39a08b4"
   },
   "outputs": [],
   "source": [
    "#early_stopping = EarlyStopping(monitor='val_loss', min_delta=1e-10, patience=10, verbose=1)\n",
    "#rlr = ReduceLROnPlateau(monitor='val_loss', factor=0.5, patience=10, verbose=1)\n",
    "#mcp = ModelCheckpoint(filepath='weights.h5', monitor='val_loss', verbose=1, save_best_only=True, save_weights_only=True)\n",
    "#  callbacks=[early_stopping, rlr, mcp, tb]\n",
    "#tb = TensorBoard('logs')\n",
    "\n",
    "history = model.fit(X_train, Y_train, shuffle=True, epochs=150, validation_split=0.2, verbose=1, batch_size=64)"
   ]
  },
  {
   "cell_type": "code",
   "execution_count": null,
   "metadata": {
    "colab": {
     "base_uri": "https://localhost:8080/",
     "height": 301
    },
    "executionInfo": {
     "elapsed": 1122,
     "status": "ok",
     "timestamp": 1613428271956,
     "user": {
      "displayName": "Rajas Ubhare",
      "photoUrl": "https://lh3.googleusercontent.com/a-/AOh14GgTyVuS-EanMTwGO6A_TkULjaAwiMI_buYA3sQNQg=s64",
      "userId": "10235052903806704162"
     },
     "user_tz": 480
    },
    "id": "DpsvxTqfvN7k",
    "outputId": "18fe7884-3123-4a30-e028-59ef39ddd8e9"
   },
   "outputs": [],
   "source": [
    "plt.plot(history.history['loss'])\n",
    "plt.plot(history.history['val_loss'])\n",
    "plt.title('model loss')\n",
    "plt.ylabel('loss')\n",
    "plt.xlabel('epoch')\n",
    "plt.legend(['train', 'val'], loc='upper left')\n",
    "plt.show()"
   ]
  },
  {
   "cell_type": "code",
   "execution_count": null,
   "metadata": {
    "id": "_1-NR2tUXBL3"
   },
   "outputs": [],
   "source": [
    "model.save_weights(\"petrignano_M1.h5\")"
   ]
  },
  {
   "cell_type": "code",
   "execution_count": null,
   "metadata": {
    "id": "8pp-VlZRXBL3"
   },
   "outputs": [],
   "source": [
    "train_pred = model.predict(X_train)"
   ]
  },
  {
   "cell_type": "code",
   "execution_count": null,
   "metadata": {
    "colab": {
     "base_uri": "https://localhost:8080/"
    },
    "executionInfo": {
     "elapsed": 366,
     "status": "ok",
     "timestamp": 1613428302074,
     "user": {
      "displayName": "Rajas Ubhare",
      "photoUrl": "https://lh3.googleusercontent.com/a-/AOh14GgTyVuS-EanMTwGO6A_TkULjaAwiMI_buYA3sQNQg=s64",
      "userId": "10235052903806704162"
     },
     "user_tz": 480
    },
    "id": "gAe88T96XBL3",
    "outputId": "31c78fa3-585a-4a3f-92f1-a0bd75093024"
   },
   "outputs": [],
   "source": [
    "print(train_pred)\n"
   ]
  },
  {
   "cell_type": "code",
   "execution_count": null,
   "metadata": {
    "colab": {
     "base_uri": "https://localhost:8080/"
    },
    "executionInfo": {
     "elapsed": 530,
     "status": "ok",
     "timestamp": 1613428306034,
     "user": {
      "displayName": "Rajas Ubhare",
      "photoUrl": "https://lh3.googleusercontent.com/a-/AOh14GgTyVuS-EanMTwGO6A_TkULjaAwiMI_buYA3sQNQg=s64",
      "userId": "10235052903806704162"
     },
     "user_tz": 480
    },
    "id": "xtRIxIwBXBL3",
    "outputId": "fda9ba6a-90fa-4011-c0da-3138cfebbda6"
   },
   "outputs": [],
   "source": [
    "print(Y_train)"
   ]
  },
  {
   "cell_type": "code",
   "execution_count": null,
   "metadata": {
    "id": "q7MfuCGpXBL3"
   },
   "outputs": [],
   "source": [
    "test_pred = model.predict(X_test)"
   ]
  },
  {
   "cell_type": "code",
   "execution_count": null,
   "metadata": {
    "colab": {
     "base_uri": "https://localhost:8080/"
    },
    "executionInfo": {
     "elapsed": 371,
     "status": "ok",
     "timestamp": 1613428307759,
     "user": {
      "displayName": "Rajas Ubhare",
      "photoUrl": "https://lh3.googleusercontent.com/a-/AOh14GgTyVuS-EanMTwGO6A_TkULjaAwiMI_buYA3sQNQg=s64",
      "userId": "10235052903806704162"
     },
     "user_tz": 480
    },
    "id": "zn8Btc1iXBL3",
    "outputId": "75d624f1-5dc5-48aa-8a9e-cb67457a4f26"
   },
   "outputs": [],
   "source": [
    "print(test_pred)\n",
    "\n"
   ]
  },
  {
   "cell_type": "code",
   "execution_count": null,
   "metadata": {
    "colab": {
     "base_uri": "https://localhost:8080/"
    },
    "executionInfo": {
     "elapsed": 524,
     "status": "ok",
     "timestamp": 1613428308806,
     "user": {
      "displayName": "Rajas Ubhare",
      "photoUrl": "https://lh3.googleusercontent.com/a-/AOh14GgTyVuS-EanMTwGO6A_TkULjaAwiMI_buYA3sQNQg=s64",
      "userId": "10235052903806704162"
     },
     "user_tz": 480
    },
    "id": "1LIB2ND0XBL4",
    "outputId": "5dccd482-3bf4-459d-d893-fdbcda278fcd"
   },
   "outputs": [],
   "source": [
    "Y_test.iloc[:,-1].values*100"
   ]
  },
  {
   "cell_type": "code",
   "execution_count": null,
   "metadata": {
    "colab": {
     "base_uri": "https://localhost:8080/"
    },
    "executionInfo": {
     "elapsed": 540,
     "status": "ok",
     "timestamp": 1613428309860,
     "user": {
      "displayName": "Rajas Ubhare",
      "photoUrl": "https://lh3.googleusercontent.com/a-/AOh14GgTyVuS-EanMTwGO6A_TkULjaAwiMI_buYA3sQNQg=s64",
      "userId": "10235052903806704162"
     },
     "user_tz": 480
    },
    "id": "0FnMtTkPXBL4",
    "outputId": "7c642ead-f7f2-4bdb-c67d-2399f2737df8"
   },
   "outputs": [],
   "source": [
    "from sklearn.metrics import mean_squared_error, mean_absolute_error\n",
    "\n",
    "train_mse = mean_squared_error(Y_train, train_pred)\n",
    "print('Train MSE: %.3f' % train_mse)\n",
    "\n",
    "test_mse = mean_squared_error(Y_test, test_pred)\n",
    "print('Test MSE: %.3f' % test_mse)\n",
    "\n",
    "train_mae = mean_absolute_error(Y_train, train_pred)\n",
    "print('Train MAE: %.3f' % train_mae)\n",
    "\n",
    "test_mae = mean_absolute_error(Y_test, test_pred)\n",
    "print('Test MAE: %.3f' % test_mae)"
   ]
  },
  {
   "cell_type": "markdown",
   "metadata": {
    "id": "fMXDjXIla8Ae"
   },
   "source": [
    "# WATER SPRING"
   ]
  },
  {
   "cell_type": "markdown",
   "metadata": {
    "id": "qExuulCNa_hL"
   },
   "source": [
    "## AMIATA"
   ]
  },
  {
   "cell_type": "markdown",
   "metadata": {
    "id": "eMz-1cMwbgtU"
   },
   "source": [
    "### Exploratory Data Analysis"
   ]
  },
  {
   "cell_type": "markdown",
   "metadata": {
    "id": "lJUENQiYbgtc"
   },
   "source": [
    "#### Importing The Libraries"
   ]
  },
  {
   "cell_type": "code",
   "execution_count": null,
   "metadata": {
    "id": "ZCPrHkQKbgtc"
   },
   "outputs": [],
   "source": [
    "import pandas as pd\n",
    "import numpy as np\n",
    "import matplotlib.pyplot as plt\n",
    "import seaborn as sns\n",
    "sns.set_style('whitegrid')\n",
    "import warnings\n",
    "import gc\n",
    "import missingno as mn\n",
    "import datetime\n",
    "warnings.simplefilter(action='ignore', category=FutureWarning)\n",
    "warnings.simplefilter(action='ignore', category=DeprecationWarning)\n",
    "%matplotlib inline"
   ]
  },
  {
   "cell_type": "code",
   "execution_count": null,
   "metadata": {
    "colab": {
     "base_uri": "https://localhost:8080/",
     "height": 439
    },
    "executionInfo": {
     "elapsed": 782,
     "status": "ok",
     "timestamp": 1613432506552,
     "user": {
      "displayName": "Rajas Ubhare",
      "photoUrl": "https://lh3.googleusercontent.com/a-/AOh14GgTyVuS-EanMTwGO6A_TkULjaAwiMI_buYA3sQNQg=s64",
      "userId": "10235052903806704162"
     },
     "user_tz": 480
    },
    "id": "sGKiv7F4bgtd",
    "outputId": "7735c466-2edf-49eb-a31d-fa4b95f925e4"
   },
   "outputs": [],
   "source": [
    "amiata = pd.read_csv('/content/drive/MyDrive/STUDY/Kaggle_Water_Analytics/Data/Water_Spring_Amiata.csv',parse_dates=True)\n",
    "amiata"
   ]
  },
  {
   "cell_type": "markdown",
   "metadata": {
    "id": "dN_C995_bgtd"
   },
   "source": [
    "Determine the shape or structure of the data frame."
   ]
  },
  {
   "cell_type": "code",
   "execution_count": null,
   "metadata": {
    "colab": {
     "base_uri": "https://localhost:8080/"
    },
    "executionInfo": {
     "elapsed": 621,
     "status": "ok",
     "timestamp": 1613432508900,
     "user": {
      "displayName": "Rajas Ubhare",
      "photoUrl": "https://lh3.googleusercontent.com/a-/AOh14GgTyVuS-EanMTwGO6A_TkULjaAwiMI_buYA3sQNQg=s64",
      "userId": "10235052903806704162"
     },
     "user_tz": 480
    },
    "id": "dTE0d5CUbgte",
    "outputId": "626b69a9-f07f-4e36-a348-917dd0899846"
   },
   "outputs": [],
   "source": [
    "print('Shape: ', amiata.shape)"
   ]
  },
  {
   "cell_type": "markdown",
   "metadata": {
    "id": "LteuHYxTbgte"
   },
   "source": [
    "#### Handling Missing Values"
   ]
  },
  {
   "cell_type": "code",
   "execution_count": null,
   "metadata": {
    "colab": {
     "base_uri": "https://localhost:8080/"
    },
    "executionInfo": {
     "elapsed": 439,
     "status": "ok",
     "timestamp": 1613432510537,
     "user": {
      "displayName": "Rajas Ubhare",
      "photoUrl": "https://lh3.googleusercontent.com/a-/AOh14GgTyVuS-EanMTwGO6A_TkULjaAwiMI_buYA3sQNQg=s64",
      "userId": "10235052903806704162"
     },
     "user_tz": 480
    },
    "id": "GyKfaa1ebgte",
    "outputId": "dd29efb5-ab23-4b58-f88b-bcf011f19268"
   },
   "outputs": [],
   "source": [
    "print(\"The percentage of missing values in dataset\")\n",
    "((amiata.isnull() | amiata.isna()).sum() * 100 / amiata.index.size).round(2)"
   ]
  },
  {
   "cell_type": "code",
   "execution_count": null,
   "metadata": {
    "colab": {
     "base_uri": "https://localhost:8080/",
     "height": 439
    },
    "executionInfo": {
     "elapsed": 585,
     "status": "ok",
     "timestamp": 1613432512893,
     "user": {
      "displayName": "Rajas Ubhare",
      "photoUrl": "https://lh3.googleusercontent.com/a-/AOh14GgTyVuS-EanMTwGO6A_TkULjaAwiMI_buYA3sQNQg=s64",
      "userId": "10235052903806704162"
     },
     "user_tz": 480
    },
    "id": "MdipWoCMbgte",
    "outputId": "ac6d1397-673f-4723-fa59-bbaadceabd2d"
   },
   "outputs": [],
   "source": [
    "amiata = amiata.dropna(0,how ='all',thresh=5)\n",
    "amiata"
   ]
  },
  {
   "cell_type": "code",
   "execution_count": null,
   "metadata": {
    "colab": {
     "base_uri": "https://localhost:8080/"
    },
    "executionInfo": {
     "elapsed": 941,
     "status": "ok",
     "timestamp": 1613432516547,
     "user": {
      "displayName": "Rajas Ubhare",
      "photoUrl": "https://lh3.googleusercontent.com/a-/AOh14GgTyVuS-EanMTwGO6A_TkULjaAwiMI_buYA3sQNQg=s64",
      "userId": "10235052903806704162"
     },
     "user_tz": 480
    },
    "id": "fpY1XnTAbgtf",
    "outputId": "c1bd4551-5e01-4636-f9b2-aef6d759566e"
   },
   "outputs": [],
   "source": [
    "print(\"The percentage of missing values in dataset\")\n",
    "((amiata.isnull() | amiata.isna()).sum() * 100 / amiata.index.size).round(2)"
   ]
  },
  {
   "cell_type": "code",
   "execution_count": null,
   "metadata": {
    "colab": {
     "base_uri": "https://localhost:8080/"
    },
    "executionInfo": {
     "elapsed": 576,
     "status": "ok",
     "timestamp": 1613432518272,
     "user": {
      "displayName": "Rajas Ubhare",
      "photoUrl": "https://lh3.googleusercontent.com/a-/AOh14GgTyVuS-EanMTwGO6A_TkULjaAwiMI_buYA3sQNQg=s64",
      "userId": "10235052903806704162"
     },
     "user_tz": 480
    },
    "id": "rVpe6hSlbgtf",
    "outputId": "dc2188e3-c6d4-402c-dfeb-1243cee624a1"
   },
   "outputs": [],
   "source": [
    "amiata.shape"
   ]
  },
  {
   "cell_type": "code",
   "execution_count": null,
   "metadata": {
    "colab": {
     "base_uri": "https://localhost:8080/",
     "height": 237
    },
    "executionInfo": {
     "elapsed": 2200,
     "status": "ok",
     "timestamp": 1613432521391,
     "user": {
      "displayName": "Rajas Ubhare",
      "photoUrl": "https://lh3.googleusercontent.com/a-/AOh14GgTyVuS-EanMTwGO6A_TkULjaAwiMI_buYA3sQNQg=s64",
      "userId": "10235052903806704162"
     },
     "user_tz": 480
    },
    "id": "FM88VX7_bgtg",
    "outputId": "b73c5ce7-977b-42eb-dd4e-d334916efaf6"
   },
   "outputs": [],
   "source": [
    "amiata_plot = amiata[['Flow_Rate_Bugnano', 'Flow_Rate_Arbure',\n",
    " 'Flow_Rate_Ermicciolo', 'Flow_Rate_Galleria_Alta']]\n",
    "sns.set(style=\"whitegrid\")\n",
    "plt.figure(figsize=(35,7))\n",
    "sns.color_palette(\"husl\", 9)\n",
    "sns.lineplot(data=amiata_plot)\n",
    "#df_auser.plot(linewidth=2, fontsize=12)"
   ]
  },
  {
   "cell_type": "code",
   "execution_count": null,
   "metadata": {
    "id": "lWWq6D2Rbgtg"
   },
   "outputs": [],
   "source": [
    "amiata = amiata.set_index('Date')\n",
    "amiata.index = pd.to_datetime(amiata.index)"
   ]
  },
  {
   "cell_type": "code",
   "execution_count": null,
   "metadata": {
    "id": "zRiT-l0Pbgtg"
   },
   "outputs": [],
   "source": [
    "amiata = amiata.interpolate(method = 'time')"
   ]
  },
  {
   "cell_type": "code",
   "execution_count": null,
   "metadata": {
    "id": "jCvLJr0jbgtg"
   },
   "outputs": [],
   "source": [
    "amiata = amiata.apply(lambda x: x.fillna(x.mean()),axis=0)"
   ]
  },
  {
   "cell_type": "code",
   "execution_count": null,
   "metadata": {
    "colab": {
     "base_uri": "https://localhost:8080/",
     "height": 772
    },
    "executionInfo": {
     "elapsed": 1625,
     "status": "ok",
     "timestamp": 1613432526719,
     "user": {
      "displayName": "Rajas Ubhare",
      "photoUrl": "https://lh3.googleusercontent.com/a-/AOh14GgTyVuS-EanMTwGO6A_TkULjaAwiMI_buYA3sQNQg=s64",
      "userId": "10235052903806704162"
     },
     "user_tz": 480
    },
    "id": "5_169Uclc_84",
    "outputId": "e0948ce8-08dc-4915-d7df-d8eeeb63563c"
   },
   "outputs": [],
   "source": [
    "sns.set_theme(style=\"white\")\n",
    "\n",
    "# Compute the correlation matrix\n",
    "corr = amiata.corr(method=\"pearson\")\n",
    "\n",
    "# Generate a mask for the upper triangle\n",
    "mask = np.triu(np.ones_like(corr, dtype=bool))\n",
    "\n",
    "# Set up the matplotlib figure\n",
    "f, ax = plt.subplots(figsize=(11, 9))\n",
    "\n",
    "# Generate a custom diverging colormap\n",
    "cmap = sns.diverging_palette(230, 20, as_cmap=True)\n",
    "\n",
    "# Draw the heatmap with the mask and correct aspect ratio\n",
    "sns.heatmap(corr, mask=mask, cmap=cmap, vmax=.3, center=0,\n",
    "            square=True, linewidths=.5, cbar_kws={\"shrink\": .5})"
   ]
  },
  {
   "cell_type": "code",
   "execution_count": null,
   "metadata": {
    "colab": {
     "base_uri": "https://localhost:8080/"
    },
    "executionInfo": {
     "elapsed": 579,
     "status": "ok",
     "timestamp": 1613432529062,
     "user": {
      "displayName": "Rajas Ubhare",
      "photoUrl": "https://lh3.googleusercontent.com/a-/AOh14GgTyVuS-EanMTwGO6A_TkULjaAwiMI_buYA3sQNQg=s64",
      "userId": "10235052903806704162"
     },
     "user_tz": 480
    },
    "id": "z2YEivv7bgtg",
    "outputId": "6c285f7e-33bd-46b2-bb3c-b9bde8f5ae5f"
   },
   "outputs": [],
   "source": [
    "print(\"The percentage of missing values in dataset\")\n",
    "((amiata.isnull() | amiata.isna()).sum() * 100 / amiata.index.size).round(2)"
   ]
  },
  {
   "cell_type": "code",
   "execution_count": null,
   "metadata": {
    "id": "b8qSlxQXbgth"
   },
   "outputs": [],
   "source": []
  },
  {
   "cell_type": "markdown",
   "metadata": {
    "id": "lNNnZNEqdLSd"
   },
   "source": [
    "### Checking The Stationarity"
   ]
  },
  {
   "cell_type": "markdown",
   "metadata": {
    "id": "gF3LKcpmdLSk"
   },
   "source": [
    "In order to check the stationarity of the time series (i.e identify wether the time series is stationary or not) we perform Augmented Dickey-Fuller test (ADF Test.)"
   ]
  },
  {
   "cell_type": "markdown",
   "metadata": {
    "id": "58HqlhUWdLSk"
   },
   "source": [
    "For AD Fuller test:\n",
    "\n",
    "1. Null Hypothesis - Series possesses a unit root and hence is not stationary.\n",
    "2. Alternate Hypothesis - Series is stationary"
   ]
  },
  {
   "cell_type": "code",
   "execution_count": null,
   "metadata": {
    "colab": {
     "base_uri": "https://localhost:8080/"
    },
    "executionInfo": {
     "elapsed": 3492,
     "status": "ok",
     "timestamp": 1613432537792,
     "user": {
      "displayName": "Rajas Ubhare",
      "photoUrl": "https://lh3.googleusercontent.com/a-/AOh14GgTyVuS-EanMTwGO6A_TkULjaAwiMI_buYA3sQNQg=s64",
      "userId": "10235052903806704162"
     },
     "user_tz": 480
    },
    "id": "rJntkMgCdLSk",
    "outputId": "bdf1ab78-7238-4e8a-bff7-7f27d0963f6c"
   },
   "outputs": [],
   "source": [
    "from statsmodels.tsa.stattools import adfuller\n",
    "print(\"AUGMENTED DICKEY FULLER TEST \\n\\n\")\n",
    "for i in range(len(amiata.columns)):\n",
    "  result = adfuller(amiata[amiata.columns[i]])\n",
    "\n",
    "  if result[1] > 0.05 :\n",
    "    print('{} - Series is NOT Stationary'.format(amiata.columns[i]))\n",
    "    print(\" \")\n",
    "  else:\n",
    "    print('{} - Series is Stationary'.format(amiata.columns[i]))\n",
    "    print(\" \")"
   ]
  },
  {
   "cell_type": "markdown",
   "metadata": {
    "id": "pKJpCM6IdLSl"
   },
   "source": [
    "Now we will remove the Non- Stationarity by using Differencing"
   ]
  },
  {
   "cell_type": "code",
   "execution_count": null,
   "metadata": {
    "colab": {
     "base_uri": "https://localhost:8080/",
     "height": 303
    },
    "executionInfo": {
     "elapsed": 1645,
     "status": "ok",
     "timestamp": 1613432539669,
     "user": {
      "displayName": "Rajas Ubhare",
      "photoUrl": "https://lh3.googleusercontent.com/a-/AOh14GgTyVuS-EanMTwGO6A_TkULjaAwiMI_buYA3sQNQg=s64",
      "userId": "10235052903806704162"
     },
     "user_tz": 480
    },
    "id": "jMwnaneWdLSl",
    "outputId": "43382360-92d0-4a98-fc1d-f7115fcdc97e"
   },
   "outputs": [],
   "source": [
    "amiata.dropna().plot()"
   ]
  },
  {
   "cell_type": "code",
   "execution_count": null,
   "metadata": {
    "colab": {
     "base_uri": "https://localhost:8080/",
     "height": 303
    },
    "executionInfo": {
     "elapsed": 1665,
     "status": "ok",
     "timestamp": 1613432541751,
     "user": {
      "displayName": "Rajas Ubhare",
      "photoUrl": "https://lh3.googleusercontent.com/a-/AOh14GgTyVuS-EanMTwGO6A_TkULjaAwiMI_buYA3sQNQg=s64",
      "userId": "10235052903806704162"
     },
     "user_tz": 480
    },
    "id": "rZ_EfOIcdLSm",
    "outputId": "090898d9-dbe0-4e79-c4c3-190e59f3f038"
   },
   "outputs": [],
   "source": [
    "amiata= amiata-amiata.shift(1)\n",
    "amiata.dropna().plot()"
   ]
  },
  {
   "cell_type": "code",
   "execution_count": null,
   "metadata": {
    "colab": {
     "base_uri": "https://localhost:8080/",
     "height": 340
    },
    "executionInfo": {
     "elapsed": 614,
     "status": "ok",
     "timestamp": 1613432541753,
     "user": {
      "displayName": "Rajas Ubhare",
      "photoUrl": "https://lh3.googleusercontent.com/a-/AOh14GgTyVuS-EanMTwGO6A_TkULjaAwiMI_buYA3sQNQg=s64",
      "userId": "10235052903806704162"
     },
     "user_tz": 480
    },
    "id": "NLlnFegjdLSm",
    "outputId": "add90bb5-e4da-43b3-e655-0399cdfe9a40"
   },
   "outputs": [],
   "source": [
    "amiata.head()"
   ]
  },
  {
   "cell_type": "markdown",
   "metadata": {
    "id": "DC1Ja8-ydLSn"
   },
   "source": [
    "We will remove the first row because it consist of missing values or NAN"
   ]
  },
  {
   "cell_type": "code",
   "execution_count": null,
   "metadata": {
    "id": "2HHDjxM7dLSn"
   },
   "outputs": [],
   "source": [
    "amiata = amiata.iloc[1:]"
   ]
  },
  {
   "cell_type": "markdown",
   "metadata": {
    "id": "IR5ya9PydLSo"
   },
   "source": [
    "#### Confirming Stationarity"
   ]
  },
  {
   "cell_type": "markdown",
   "metadata": {
    "id": "HAcFEqCEdLSo"
   },
   "source": [
    "Now we will run the AD Fuller Test on the data to confirm if the all the timeseries are stationary or not."
   ]
  },
  {
   "cell_type": "code",
   "execution_count": null,
   "metadata": {
    "colab": {
     "base_uri": "https://localhost:8080/"
    },
    "executionInfo": {
     "elapsed": 4051,
     "status": "ok",
     "timestamp": 1613432552123,
     "user": {
      "displayName": "Rajas Ubhare",
      "photoUrl": "https://lh3.googleusercontent.com/a-/AOh14GgTyVuS-EanMTwGO6A_TkULjaAwiMI_buYA3sQNQg=s64",
      "userId": "10235052903806704162"
     },
     "user_tz": 480
    },
    "id": "Aikffb80dLSo",
    "outputId": "8e7a858c-4b17-4db4-ebbf-f2a266e47489"
   },
   "outputs": [],
   "source": [
    "from statsmodels.tsa.stattools import adfuller\n",
    "print(\"AUGMENTED DICKEY FULLER TEST \\n\\n\")\n",
    "for i in range(len(amiata.columns)):\n",
    "  result = adfuller(amiata[amiata.columns[i]])\n",
    "\n",
    "  if result[1] > 0.05 :\n",
    "    print('{} - Series is NOT Stationary'.format(amiata.columns[i]))\n",
    "    print(\" \")\n",
    "  else:\n",
    "    print('{} - Series is Stationary'.format(amiata.columns[i]))\n",
    "    print(\" \")"
   ]
  },
  {
   "cell_type": "markdown",
   "metadata": {
    "id": "KvV8xczRdLSp"
   },
   "source": [
    "Since the time Series is stationary we can proceed with the model building section."
   ]
  },
  {
   "cell_type": "code",
   "execution_count": null,
   "metadata": {
    "id": "NAj3NGeRdLSp"
   },
   "outputs": [],
   "source": []
  },
  {
   "cell_type": "markdown",
   "metadata": {
    "id": "LNRxwzm1drZQ"
   },
   "source": [
    "### Building Predictive Models"
   ]
  },
  {
   "cell_type": "markdown",
   "metadata": {
    "id": "M8YQiADRdrZX"
   },
   "source": [
    "#### Split Data into Training and Testing set"
   ]
  },
  {
   "cell_type": "code",
   "execution_count": null,
   "metadata": {
    "colab": {
     "base_uri": "https://localhost:8080/",
     "height": 340
    },
    "executionInfo": {
     "elapsed": 535,
     "status": "ok",
     "timestamp": 1613432554305,
     "user": {
      "displayName": "Rajas Ubhare",
      "photoUrl": "https://lh3.googleusercontent.com/a-/AOh14GgTyVuS-EanMTwGO6A_TkULjaAwiMI_buYA3sQNQg=s64",
      "userId": "10235052903806704162"
     },
     "user_tz": 480
    },
    "id": "v8HQ44ZSdrZY",
    "outputId": "35c25118-39f3-40ed-f1d4-4e92fbd1223c"
   },
   "outputs": [],
   "source": [
    "temp=amiata\n",
    "temp= temp.drop(columns=['Flow_Rate_Bugnano', 'Flow_Rate_Arbure',\n",
    " 'Flow_Rate_Ermicciolo', 'Flow_Rate_Galleria_Alta'])\n",
    "\n",
    "df= amiata[['Flow_Rate_Bugnano', 'Flow_Rate_Arbure',\n",
    " 'Flow_Rate_Ermicciolo', 'Flow_Rate_Galleria_Alta']]\n",
    "new= pd.merge(temp, df, left_index=True, right_index=True)\n",
    "\n",
    "# Update the main dataframe i.e. auser_data\n",
    "amiata= new\n",
    "amiata.head()"
   ]
  },
  {
   "cell_type": "code",
   "execution_count": null,
   "metadata": {
    "colab": {
     "base_uri": "https://localhost:8080/",
     "height": 640
    },
    "executionInfo": {
     "elapsed": 538,
     "status": "ok",
     "timestamp": 1613432556564,
     "user": {
      "displayName": "Rajas Ubhare",
      "photoUrl": "https://lh3.googleusercontent.com/a-/AOh14GgTyVuS-EanMTwGO6A_TkULjaAwiMI_buYA3sQNQg=s64",
      "userId": "10235052903806704162"
     },
     "user_tz": 480
    },
    "id": "XLiKJEO2drZY",
    "outputId": "f3ef466c-7fec-44fb-8036-1066d1413bec"
   },
   "outputs": [],
   "source": [
    "amiata.tail(500)"
   ]
  },
  {
   "cell_type": "code",
   "execution_count": null,
   "metadata": {
    "colab": {
     "base_uri": "https://localhost:8080/"
    },
    "executionInfo": {
     "elapsed": 536,
     "status": "ok",
     "timestamp": 1613432557989,
     "user": {
      "displayName": "Rajas Ubhare",
      "photoUrl": "https://lh3.googleusercontent.com/a-/AOh14GgTyVuS-EanMTwGO6A_TkULjaAwiMI_buYA3sQNQg=s64",
      "userId": "10235052903806704162"
     },
     "user_tz": 480
    },
    "id": "DrQRM8UMdrZZ",
    "outputId": "6487a9b3-4564-41d1-9a91-e7e5d16f3409"
   },
   "outputs": [],
   "source": [
    "amiata.shape"
   ]
  },
  {
   "cell_type": "code",
   "execution_count": null,
   "metadata": {
    "id": "Ot7LTJZ6drZZ"
   },
   "outputs": [],
   "source": [
    "X, Y = np.split(amiata,[-4],axis=1)"
   ]
  },
  {
   "cell_type": "code",
   "execution_count": null,
   "metadata": {
    "colab": {
     "base_uri": "https://localhost:8080/"
    },
    "executionInfo": {
     "elapsed": 521,
     "status": "ok",
     "timestamp": 1613432562031,
     "user": {
      "displayName": "Rajas Ubhare",
      "photoUrl": "https://lh3.googleusercontent.com/a-/AOh14GgTyVuS-EanMTwGO6A_TkULjaAwiMI_buYA3sQNQg=s64",
      "userId": "10235052903806704162"
     },
     "user_tz": 480
    },
    "id": "oN75LM3MdrZZ",
    "outputId": "a1fa5695-b062-4f6c-f9ff-4d46902a3cc5"
   },
   "outputs": [],
   "source": [
    "X.shape"
   ]
  },
  {
   "cell_type": "code",
   "execution_count": null,
   "metadata": {
    "colab": {
     "base_uri": "https://localhost:8080/"
    },
    "executionInfo": {
     "elapsed": 547,
     "status": "ok",
     "timestamp": 1613432563829,
     "user": {
      "displayName": "Rajas Ubhare",
      "photoUrl": "https://lh3.googleusercontent.com/a-/AOh14GgTyVuS-EanMTwGO6A_TkULjaAwiMI_buYA3sQNQg=s64",
      "userId": "10235052903806704162"
     },
     "user_tz": 480
    },
    "id": "YDF6wIaAdrZZ",
    "outputId": "1b2a9331-9879-4ce5-c529-add7cdcc7c57"
   },
   "outputs": [],
   "source": [
    "Y.shape"
   ]
  },
  {
   "cell_type": "code",
   "execution_count": null,
   "metadata": {
    "id": "28WXzwcydrZa"
   },
   "outputs": [],
   "source": [
    "from sklearn.model_selection import train_test_split\n",
    "X_train, X_test, Y_train, Y_test = train_test_split(X, Y, test_size = 0.1, random_state = 12)"
   ]
  },
  {
   "cell_type": "code",
   "execution_count": null,
   "metadata": {
    "colab": {
     "base_uri": "https://localhost:8080/"
    },
    "executionInfo": {
     "elapsed": 544,
     "status": "ok",
     "timestamp": 1613432574573,
     "user": {
      "displayName": "Rajas Ubhare",
      "photoUrl": "https://lh3.googleusercontent.com/a-/AOh14GgTyVuS-EanMTwGO6A_TkULjaAwiMI_buYA3sQNQg=s64",
      "userId": "10235052903806704162"
     },
     "user_tz": 480
    },
    "id": "uargulPwdrZa",
    "outputId": "b45f6a10-8fe2-48a7-fab9-ad39db63c8f5"
   },
   "outputs": [],
   "source": [
    "X_train.shape"
   ]
  },
  {
   "cell_type": "code",
   "execution_count": null,
   "metadata": {
    "colab": {
     "base_uri": "https://localhost:8080/"
    },
    "executionInfo": {
     "elapsed": 572,
     "status": "ok",
     "timestamp": 1613433079917,
     "user": {
      "displayName": "Rajas Ubhare",
      "photoUrl": "https://lh3.googleusercontent.com/a-/AOh14GgTyVuS-EanMTwGO6A_TkULjaAwiMI_buYA3sQNQg=s64",
      "userId": "10235052903806704162"
     },
     "user_tz": 480
    },
    "id": "XV20ytGWGmce",
    "outputId": "5b01bf65-6a68-4dad-bea5-1b8ddbb7e156"
   },
   "outputs": [],
   "source": [
    "X_test.shape"
   ]
  },
  {
   "cell_type": "code",
   "execution_count": null,
   "metadata": {
    "colab": {
     "base_uri": "https://localhost:8080/"
    },
    "executionInfo": {
     "elapsed": 723,
     "status": "ok",
     "timestamp": 1613433102787,
     "user": {
      "displayName": "Rajas Ubhare",
      "photoUrl": "https://lh3.googleusercontent.com/a-/AOh14GgTyVuS-EanMTwGO6A_TkULjaAwiMI_buYA3sQNQg=s64",
      "userId": "10235052903806704162"
     },
     "user_tz": 480
    },
    "id": "bp3nc0wcGzvu",
    "outputId": "c638bc28-e794-4e1e-832c-161060bb27ef"
   },
   "outputs": [],
   "source": [
    "Y_train.shape"
   ]
  },
  {
   "cell_type": "code",
   "execution_count": null,
   "metadata": {
    "colab": {
     "base_uri": "https://localhost:8080/"
    },
    "executionInfo": {
     "elapsed": 570,
     "status": "ok",
     "timestamp": 1613433122401,
     "user": {
      "displayName": "Rajas Ubhare",
      "photoUrl": "https://lh3.googleusercontent.com/a-/AOh14GgTyVuS-EanMTwGO6A_TkULjaAwiMI_buYA3sQNQg=s64",
      "userId": "10235052903806704162"
     },
     "user_tz": 480
    },
    "id": "PtF1vvAoG4NA",
    "outputId": "4bcdf7d0-113b-48d8-f800-3b5232517d67"
   },
   "outputs": [],
   "source": [
    "Y_test.shape"
   ]
  },
  {
   "cell_type": "code",
   "execution_count": null,
   "metadata": {
    "colab": {
     "base_uri": "https://localhost:8080/"
    },
    "executionInfo": {
     "elapsed": 538,
     "status": "ok",
     "timestamp": 1613433146772,
     "user": {
      "displayName": "Rajas Ubhare",
      "photoUrl": "https://lh3.googleusercontent.com/a-/AOh14GgTyVuS-EanMTwGO6A_TkULjaAwiMI_buYA3sQNQg=s64",
      "userId": "10235052903806704162"
     },
     "user_tz": 480
    },
    "id": "VvdMo-eUG-nq",
    "outputId": "b6a0c7c7-c492-4e78-9d7b-d9fe64c36a62"
   },
   "outputs": [],
   "source": [
    "Yt_pred.shape"
   ]
  },
  {
   "cell_type": "markdown",
   "metadata": {
    "id": "8WxhIkihdrZa"
   },
   "source": [
    "We will use Standard Scalar Scalar for scaling the features of our dataset."
   ]
  },
  {
   "cell_type": "code",
   "execution_count": null,
   "metadata": {
    "id": "d9JZc0GHdrZa"
   },
   "outputs": [],
   "source": [
    "# Feature Scaling\n",
    "from sklearn.preprocessing import MinMaxScaler\n",
    "from sklearn.preprocessing import StandardScaler\n",
    "sc = StandardScaler()\n",
    "X_train = sc.fit_transform(X_train)\n",
    "X_test = sc.transform(X_test)"
   ]
  },
  {
   "cell_type": "code",
   "execution_count": null,
   "metadata": {
    "colab": {
     "base_uri": "https://localhost:8080/",
     "height": 317
    },
    "executionInfo": {
     "elapsed": 570,
     "status": "ok",
     "timestamp": 1613432592373,
     "user": {
      "displayName": "Rajas Ubhare",
      "photoUrl": "https://lh3.googleusercontent.com/a-/AOh14GgTyVuS-EanMTwGO6A_TkULjaAwiMI_buYA3sQNQg=s64",
      "userId": "10235052903806704162"
     },
     "user_tz": 480
    },
    "id": "KUGDOUOAdrZa",
    "outputId": "d878009b-02fc-49d9-8b6d-cc5be4c975c6"
   },
   "outputs": [],
   "source": [
    "X.describe()"
   ]
  },
  {
   "cell_type": "markdown",
   "metadata": {
    "id": "9jGY15tk-m06"
   },
   "source": [
    "#### 1. XGBoost Regression Model."
   ]
  },
  {
   "cell_type": "code",
   "execution_count": null,
   "metadata": {
    "id": "axqmC2p0_sJi"
   },
   "outputs": [],
   "source": [
    "from sklearn.model_selection import TimeSeriesSplit\n",
    "import xgboost as xgr\n",
    "from sklearn.multioutput import MultiOutputRegressor"
   ]
  },
  {
   "cell_type": "markdown",
   "metadata": {
    "id": "sgbwn2lqMFzl"
   },
   "source": [
    "Training XGBoost with evaluation metric as MAE."
   ]
  },
  {
   "cell_type": "code",
   "execution_count": null,
   "metadata": {
    "id": "EedpkwOS_qKW"
   },
   "outputs": [],
   "source": [
    "xgr_mae = xgr.XGBRegressor(learning_rate =0.01, n_estimators=10000, max_depth=3, eval_metric='mae', seed=12)"
   ]
  },
  {
   "cell_type": "code",
   "execution_count": null,
   "metadata": {
    "colab": {
     "base_uri": "https://localhost:8080/"
    },
    "executionInfo": {
     "elapsed": 78943,
     "status": "ok",
     "timestamp": 1613435568818,
     "user": {
      "displayName": "Rajas Ubhare",
      "photoUrl": "https://lh3.googleusercontent.com/a-/AOh14GgTyVuS-EanMTwGO6A_TkULjaAwiMI_buYA3sQNQg=s64",
      "userId": "10235052903806704162"
     },
     "user_tz": 480
    },
    "id": "73dyMElo_6iB",
    "outputId": "ea472f31-e6f1-4584-ee58-9d65d0985833"
   },
   "outputs": [],
   "source": [
    "multioutputregressor = MultiOutputRegressor(xgr_mae)\n",
    "xgbr_1= multioutputregressor.fit(X_train,Y_train)"
   ]
  },
  {
   "cell_type": "code",
   "execution_count": null,
   "metadata": {
    "id": "kPpaUzQxC7s_"
   },
   "outputs": [],
   "source": [
    "# For Training set Prediction\n",
    "Yt_pred = xgbr_1.predict(X_train)"
   ]
  },
  {
   "cell_type": "code",
   "execution_count": null,
   "metadata": {
    "id": "WyUhJai7I0xA"
   },
   "outputs": [],
   "source": [
    "# For Testing set Prediction\n",
    "Y_pred=xgbr_1.predict(X_test)"
   ]
  },
  {
   "cell_type": "code",
   "execution_count": null,
   "metadata": {
    "id": "60aEhQmsC6fY"
   },
   "outputs": [],
   "source": [
    "from sklearn.metrics import mean_squared_error\n",
    "from sklearn.metrics import mean_absolute_error\n",
    "import math"
   ]
  },
  {
   "cell_type": "code",
   "execution_count": null,
   "metadata": {
    "colab": {
     "base_uri": "https://localhost:8080/"
    },
    "executionInfo": {
     "elapsed": 7846,
     "status": "ok",
     "timestamp": 1613435576700,
     "user": {
      "displayName": "Rajas Ubhare",
      "photoUrl": "https://lh3.googleusercontent.com/a-/AOh14GgTyVuS-EanMTwGO6A_TkULjaAwiMI_buYA3sQNQg=s64",
      "userId": "10235052903806704162"
     },
     "user_tz": 480
    },
    "id": "89B9YTRMDpF3",
    "outputId": "c44d7ec4-dcb4-4f1c-b441-215931f80d02"
   },
   "outputs": [],
   "source": [
    "# Mean Absolute Error\n",
    "print(\"Training MAE\", mean_absolute_error(Y_train, Yt_pred))\n",
    "print(\"Testing MAE\",mean_absolute_error(Y_test, Y_pred))"
   ]
  },
  {
   "cell_type": "markdown",
   "metadata": {
    "id": "ePu_DZ9CdrZb"
   },
   "source": [
    "#### 1. LSTM Model."
   ]
  },
  {
   "cell_type": "code",
   "execution_count": null,
   "metadata": {
    "id": "yVUgpM1MdrZb"
   },
   "outputs": [],
   "source": [
    "# Import necessary libraries and packages from Keras for building model\n",
    "import tensorflow as tf\n",
    "from keras.callbacks import EarlyStopping\n",
    "from keras.models import Sequential\n",
    "from keras.layers import Dense\n",
    "from keras.layers import LSTM\n",
    "from keras.layers import Dropout\n",
    "from keras.optimizers import Adam"
   ]
  },
  {
   "cell_type": "code",
   "execution_count": null,
   "metadata": {
    "id": "jLLhISMXdrZb"
   },
   "outputs": [],
   "source": [
    "# reshape input to be 3D [samples, timesteps, features]\n",
    "X_train = X_train.reshape((X_train.shape[0], 1, X_train.shape[1]))\n",
    "X_test = X_test.reshape((X_test.shape[0], 1, X_test.shape[1]))"
   ]
  },
  {
   "cell_type": "code",
   "execution_count": null,
   "metadata": {
    "id": "E1hCkIz0drZb"
   },
   "outputs": [],
   "source": [
    "# Initialize the Neural Network based on LSTM RNN\n",
    "model = Sequential()\n",
    "\n",
    "# Add 1st LSTM RNN layer\n",
    "model.add(LSTM(units=8, return_sequences=True, input_shape=(1, 11)))\n",
    "\n",
    "# Adding 2nd LSTM layer\n",
    "#model.add(LSTM(units=32, return_sequences=True))\n",
    "\n",
    "# Adding 3rd LSTM layer\n",
    "model.add(LSTM(units=16, return_sequences=False))\n",
    "\n",
    "# Adding Dropout\n",
    "model.add(Dropout(0.2))\n",
    "\n",
    "# Output layer\n",
    "model.add(Dense(units=4, activation='linear'))\n",
    "\n",
    "# Compiling the Neural Network\n",
    "model.compile(optimizer = Adam(learning_rate=0.01), loss='mean_squared_error')"
   ]
  },
  {
   "cell_type": "code",
   "execution_count": null,
   "metadata": {
    "colab": {
     "base_uri": "https://localhost:8080/"
    },
    "executionInfo": {
     "elapsed": 23975,
     "status": "ok",
     "timestamp": 1613427022158,
     "user": {
      "displayName": "Rajas Ubhare",
      "photoUrl": "https://lh3.googleusercontent.com/a-/AOh14GgTyVuS-EanMTwGO6A_TkULjaAwiMI_buYA3sQNQg=s64",
      "userId": "10235052903806704162"
     },
     "user_tz": 480
    },
    "id": "KLLsdhxodrZb",
    "outputId": "414de29b-8fc0-460c-ddde-876fd750bec0"
   },
   "outputs": [],
   "source": [
    "#early_stopping = EarlyStopping(monitor='val_loss', min_delta=1e-10, patience=10, verbose=1)\n",
    "#rlr = ReduceLROnPlateau(monitor='val_loss', factor=0.5, patience=10, verbose=1)\n",
    "#mcp = ModelCheckpoint(filepath='weights.h5', monitor='val_loss', verbose=1, save_best_only=True, save_weights_only=True)\n",
    "#  callbacks=[early_stopping, rlr, mcp, tb]\n",
    "#tb = TensorBoard('logs')\n",
    "\n",
    "history = model.fit(X_train, Y_train, shuffle=True, epochs=50, validation_split=0.2, verbose=1, batch_size=32)"
   ]
  },
  {
   "cell_type": "code",
   "execution_count": null,
   "metadata": {
    "colab": {
     "base_uri": "https://localhost:8080/",
     "height": 301
    },
    "executionInfo": {
     "elapsed": 1016,
     "status": "ok",
     "timestamp": 1613427032803,
     "user": {
      "displayName": "Rajas Ubhare",
      "photoUrl": "https://lh3.googleusercontent.com/a-/AOh14GgTyVuS-EanMTwGO6A_TkULjaAwiMI_buYA3sQNQg=s64",
      "userId": "10235052903806704162"
     },
     "user_tz": 480
    },
    "id": "bEjTFMyVtFXi",
    "outputId": "cb4bac07-6c3e-4efa-abd9-dfaf8a5cc909"
   },
   "outputs": [],
   "source": [
    "plt.plot(history.history['loss'])\n",
    "plt.plot(history.history['val_loss'])\n",
    "plt.title('model loss')\n",
    "plt.ylabel('loss')\n",
    "plt.xlabel('epoch')\n",
    "plt.legend(['train', 'val'], loc='upper left')\n",
    "plt.show()"
   ]
  },
  {
   "cell_type": "code",
   "execution_count": null,
   "metadata": {
    "id": "tXDuXFTGdrZc"
   },
   "outputs": [],
   "source": [
    "model.save_weights(\"amiata_M1.h5\")"
   ]
  },
  {
   "cell_type": "code",
   "execution_count": null,
   "metadata": {
    "id": "bmUrf7ggdrZc"
   },
   "outputs": [],
   "source": [
    "train_pred = model.predict(X_train)"
   ]
  },
  {
   "cell_type": "code",
   "execution_count": null,
   "metadata": {
    "colab": {
     "base_uri": "https://localhost:8080/"
    },
    "executionInfo": {
     "elapsed": 1206,
     "status": "ok",
     "timestamp": 1613370950504,
     "user": {
      "displayName": "Rajas Ubhare",
      "photoUrl": "https://lh3.googleusercontent.com/a-/AOh14GgTyVuS-EanMTwGO6A_TkULjaAwiMI_buYA3sQNQg=s64",
      "userId": "10235052903806704162"
     },
     "user_tz": 480
    },
    "id": "ebmeqPKodrZc",
    "outputId": "1948b40d-d96c-4cfa-8b69-cee70872a737"
   },
   "outputs": [],
   "source": [
    "print(train_pred)\n"
   ]
  },
  {
   "cell_type": "code",
   "execution_count": null,
   "metadata": {
    "colab": {
     "base_uri": "https://localhost:8080/"
    },
    "executionInfo": {
     "elapsed": 472,
     "status": "ok",
     "timestamp": 1613370951310,
     "user": {
      "displayName": "Rajas Ubhare",
      "photoUrl": "https://lh3.googleusercontent.com/a-/AOh14GgTyVuS-EanMTwGO6A_TkULjaAwiMI_buYA3sQNQg=s64",
      "userId": "10235052903806704162"
     },
     "user_tz": 480
    },
    "id": "mskWBRqQdrZc",
    "outputId": "13c5b6b3-520d-4f73-808c-25dba6cd3112"
   },
   "outputs": [],
   "source": [
    "print(Y_train)"
   ]
  },
  {
   "cell_type": "code",
   "execution_count": null,
   "metadata": {
    "id": "jHzcS6PUdrZc"
   },
   "outputs": [],
   "source": [
    "test_pred = model.predict(X_test)"
   ]
  },
  {
   "cell_type": "code",
   "execution_count": null,
   "metadata": {
    "colab": {
     "base_uri": "https://localhost:8080/"
    },
    "executionInfo": {
     "elapsed": 448,
     "status": "ok",
     "timestamp": 1613370953422,
     "user": {
      "displayName": "Rajas Ubhare",
      "photoUrl": "https://lh3.googleusercontent.com/a-/AOh14GgTyVuS-EanMTwGO6A_TkULjaAwiMI_buYA3sQNQg=s64",
      "userId": "10235052903806704162"
     },
     "user_tz": 480
    },
    "id": "-CzqmbYidrZc",
    "outputId": "03e3befe-e3f1-40b3-a80d-67848b3bfda7"
   },
   "outputs": [],
   "source": [
    "print(test_pred)\n",
    "\n"
   ]
  },
  {
   "cell_type": "code",
   "execution_count": null,
   "metadata": {
    "colab": {
     "base_uri": "https://localhost:8080/"
    },
    "executionInfo": {
     "elapsed": 601,
     "status": "ok",
     "timestamp": 1613370956276,
     "user": {
      "displayName": "Rajas Ubhare",
      "photoUrl": "https://lh3.googleusercontent.com/a-/AOh14GgTyVuS-EanMTwGO6A_TkULjaAwiMI_buYA3sQNQg=s64",
      "userId": "10235052903806704162"
     },
     "user_tz": 480
    },
    "id": "WhGkmcKBdrZc",
    "outputId": "5b3b0285-756e-41ce-a15e-93331fcb1d92"
   },
   "outputs": [],
   "source": [
    "Y_test.iloc[:,-1].values*100"
   ]
  },
  {
   "cell_type": "code",
   "execution_count": null,
   "metadata": {
    "colab": {
     "base_uri": "https://localhost:8080/"
    },
    "executionInfo": {
     "elapsed": 768,
     "status": "ok",
     "timestamp": 1613370958959,
     "user": {
      "displayName": "Rajas Ubhare",
      "photoUrl": "https://lh3.googleusercontent.com/a-/AOh14GgTyVuS-EanMTwGO6A_TkULjaAwiMI_buYA3sQNQg=s64",
      "userId": "10235052903806704162"
     },
     "user_tz": 480
    },
    "id": "LZJcXAn0drZd",
    "outputId": "f3efe767-edfa-471e-f003-3935206c6b11"
   },
   "outputs": [],
   "source": [
    "from sklearn.metrics import mean_squared_error, mean_absolute_error\n",
    "\n",
    "train_mse = mean_squared_error(Y_train, train_pred)\n",
    "print('Train MSE: %.3f' % train_mse)\n",
    "\n",
    "test_mse = mean_squared_error(Y_test, test_pred)\n",
    "print('Test MSE: %.3f' % test_mse)\n",
    "\n",
    "train_mae = mean_absolute_error(Y_train, train_pred)\n",
    "print('Train MAE: %.3f' % train_mae)\n",
    "\n",
    "test_mae = mean_absolute_error(Y_test, test_pred)\n",
    "print('Test MAE: %.3f' % test_mae)"
   ]
  },
  {
   "cell_type": "markdown",
   "metadata": {
    "id": "V1PJbKTXRGhT"
   },
   "source": [
    "## MADONNA_DI_CANNETO"
   ]
  },
  {
   "cell_type": "code",
   "execution_count": null,
   "metadata": {
    "id": "TAPOhmCPRPnS"
   },
   "outputs": [],
   "source": []
  },
  {
   "cell_type": "markdown",
   "metadata": {
    "id": "qPS1WwhMRT8c"
   },
   "source": [
    "### Exploratory Data Analysis"
   ]
  },
  {
   "cell_type": "markdown",
   "metadata": {
    "id": "YqzyyeuaRT8d"
   },
   "source": [
    "#### Importing The Libraries"
   ]
  },
  {
   "cell_type": "code",
   "execution_count": null,
   "metadata": {
    "id": "O_ohem7ORT8d"
   },
   "outputs": [],
   "source": [
    "import pandas as pd\n",
    "import numpy as np\n",
    "import matplotlib.pyplot as plt\n",
    "import seaborn as sns\n",
    "sns.set_style('whitegrid')\n",
    "import warnings\n",
    "import gc\n",
    "import missingno as mn\n",
    "import datetime\n",
    "warnings.simplefilter(action='ignore', category=FutureWarning)\n",
    "warnings.simplefilter(action='ignore', category=DeprecationWarning)\n",
    "%matplotlib inline"
   ]
  },
  {
   "cell_type": "code",
   "execution_count": null,
   "metadata": {
    "colab": {
     "base_uri": "https://localhost:8080/",
     "height": 419
    },
    "executionInfo": {
     "elapsed": 700,
     "status": "ok",
     "timestamp": 1613439604952,
     "user": {
      "displayName": "Rajas Ubhare",
      "photoUrl": "https://lh3.googleusercontent.com/a-/AOh14GgTyVuS-EanMTwGO6A_TkULjaAwiMI_buYA3sQNQg=s64",
      "userId": "10235052903806704162"
     },
     "user_tz": 480
    },
    "id": "uxxIG5QlRT8e",
    "outputId": "82727d2d-9c36-4b3d-ef29-9742481ee58f"
   },
   "outputs": [],
   "source": [
    "mdc = pd.read_csv('/content/drive/MyDrive/STUDY/Kaggle_Water_Analytics/Data/Water_Spring_Madonna_di_Canneto.csv',parse_dates=True)\n",
    "mdc"
   ]
  },
  {
   "cell_type": "markdown",
   "metadata": {
    "id": "KXJMliapRT8e"
   },
   "source": [
    "Determine the shape or structure of the data frame."
   ]
  },
  {
   "cell_type": "code",
   "execution_count": null,
   "metadata": {
    "colab": {
     "base_uri": "https://localhost:8080/"
    },
    "executionInfo": {
     "elapsed": 579,
     "status": "ok",
     "timestamp": 1613439609279,
     "user": {
      "displayName": "Rajas Ubhare",
      "photoUrl": "https://lh3.googleusercontent.com/a-/AOh14GgTyVuS-EanMTwGO6A_TkULjaAwiMI_buYA3sQNQg=s64",
      "userId": "10235052903806704162"
     },
     "user_tz": 480
    },
    "id": "DA81XcwdRT8e",
    "outputId": "bde07263-ec69-4891-98ed-62a3b03719f6"
   },
   "outputs": [],
   "source": [
    "print('Shape: ', mdc.shape)"
   ]
  },
  {
   "cell_type": "markdown",
   "metadata": {
    "id": "tlVdS5L6RT8f"
   },
   "source": [
    "#### Handling Missing Values"
   ]
  },
  {
   "cell_type": "code",
   "execution_count": null,
   "metadata": {
    "colab": {
     "base_uri": "https://localhost:8080/"
    },
    "executionInfo": {
     "elapsed": 593,
     "status": "ok",
     "timestamp": 1613438329650,
     "user": {
      "displayName": "Rajas Ubhare",
      "photoUrl": "https://lh3.googleusercontent.com/a-/AOh14GgTyVuS-EanMTwGO6A_TkULjaAwiMI_buYA3sQNQg=s64",
      "userId": "10235052903806704162"
     },
     "user_tz": 480
    },
    "id": "w2gL0_WpRT8f",
    "outputId": "1ffb21fa-cd57-49a0-af73-300cf6c839b9"
   },
   "outputs": [],
   "source": [
    "print(\"The percentage of missing values in dataset\")\n",
    "((mdc.isnull() | mdc.isna()).sum() * 100 / mdc.index.size).round(2)"
   ]
  },
  {
   "cell_type": "code",
   "execution_count": null,
   "metadata": {
    "colab": {
     "base_uri": "https://localhost:8080/",
     "height": 237
    },
    "executionInfo": {
     "elapsed": 1608,
     "status": "ok",
     "timestamp": 1613439612898,
     "user": {
      "displayName": "Rajas Ubhare",
      "photoUrl": "https://lh3.googleusercontent.com/a-/AOh14GgTyVuS-EanMTwGO6A_TkULjaAwiMI_buYA3sQNQg=s64",
      "userId": "10235052903806704162"
     },
     "user_tz": 480
    },
    "id": "eDEz4VqIRT8g",
    "outputId": "4bf0ca07-b5c4-47a6-b093-3b7f97d37934"
   },
   "outputs": [],
   "source": [
    "mdc_plot = amiata[['Flow_Rate_Madonna_di_Canneto']]\n",
    "sns.set(style=\"whitegrid\")\n",
    "plt.figure(figsize=(35,7))\n",
    "sns.color_palette(\"husl\", 9)\n",
    "sns.lineplot(data=mdc_plot)\n",
    "#df_auser.plot(linewidth=2, fontsize=12)"
   ]
  },
  {
   "cell_type": "code",
   "execution_count": null,
   "metadata": {
    "colab": {
     "base_uri": "https://localhost:8080/",
     "height": 419
    },
    "executionInfo": {
     "elapsed": 577,
     "status": "ok",
     "timestamp": 1613439629230,
     "user": {
      "displayName": "Rajas Ubhare",
      "photoUrl": "https://lh3.googleusercontent.com/a-/AOh14GgTyVuS-EanMTwGO6A_TkULjaAwiMI_buYA3sQNQg=s64",
      "userId": "10235052903806704162"
     },
     "user_tz": 480
    },
    "id": "tAb6n72LZhl9",
    "outputId": "10083dbb-7219-4d72-cdce-62901739aef1"
   },
   "outputs": [],
   "source": [
    "mdc = mdc.dropna(subset = [\"Date\"])\n",
    "mdc"
   ]
  },
  {
   "cell_type": "code",
   "execution_count": null,
   "metadata": {
    "id": "pc4lQIeJRT8g"
   },
   "outputs": [],
   "source": [
    "mdc = mdc.set_index('Date')\n",
    "mdc.index = pd.to_datetime(mdc.index)"
   ]
  },
  {
   "cell_type": "code",
   "execution_count": null,
   "metadata": {
    "id": "xcsmv0UcRT8g"
   },
   "outputs": [],
   "source": [
    "mdc = mdc.interpolate(method = 'linear')"
   ]
  },
  {
   "cell_type": "code",
   "execution_count": null,
   "metadata": {
    "id": "mA_skYXyRT8g"
   },
   "outputs": [],
   "source": [
    "mdc = mdc.apply(lambda x: x.fillna(x.mean()),axis=0)"
   ]
  },
  {
   "cell_type": "code",
   "execution_count": null,
   "metadata": {
    "colab": {
     "base_uri": "https://localhost:8080/"
    },
    "executionInfo": {
     "elapsed": 406,
     "status": "ok",
     "timestamp": 1613439652844,
     "user": {
      "displayName": "Rajas Ubhare",
      "photoUrl": "https://lh3.googleusercontent.com/a-/AOh14GgTyVuS-EanMTwGO6A_TkULjaAwiMI_buYA3sQNQg=s64",
      "userId": "10235052903806704162"
     },
     "user_tz": 480
    },
    "id": "q0FlREE1RT8h",
    "outputId": "4dbf3cb3-660d-45a7-c1b0-d67f0c63a0da"
   },
   "outputs": [],
   "source": [
    "print(\"The percentage of missing values in dataset\")\n",
    "((mdc.isnull() | mdc.isna()).sum() * 100 / mdc.index.size).round(2)"
   ]
  },
  {
   "cell_type": "code",
   "execution_count": null,
   "metadata": {
    "id": "MBtG8qedbROV"
   },
   "outputs": [],
   "source": []
  },
  {
   "cell_type": "markdown",
   "metadata": {
    "id": "X51LgVtBbSC7"
   },
   "source": [
    "### Checking The Stationarity"
   ]
  },
  {
   "cell_type": "markdown",
   "metadata": {
    "id": "q2gAfW-vbSDB"
   },
   "source": [
    "In order to check the stationarity of the time series (i.e identify wether the time series is stationary or not) we perform Augmented Dickey-Fuller test (ADF Test.)"
   ]
  },
  {
   "cell_type": "markdown",
   "metadata": {
    "id": "L6Y2e1QCbSDB"
   },
   "source": [
    "For AD Fuller test:\n",
    "\n",
    "1. Null Hypothesis - Series possesses a unit root and hence is not stationary.\n",
    "2. Alternate Hypothesis - Series is stationary"
   ]
  },
  {
   "cell_type": "code",
   "execution_count": null,
   "metadata": {
    "colab": {
     "base_uri": "https://localhost:8080/"
    },
    "executionInfo": {
     "elapsed": 799,
     "status": "ok",
     "timestamp": 1613439658629,
     "user": {
      "displayName": "Rajas Ubhare",
      "photoUrl": "https://lh3.googleusercontent.com/a-/AOh14GgTyVuS-EanMTwGO6A_TkULjaAwiMI_buYA3sQNQg=s64",
      "userId": "10235052903806704162"
     },
     "user_tz": 480
    },
    "id": "hA66jPbcbSDB",
    "outputId": "921efd42-87d9-40a4-b06e-04e4ac3bc6b5"
   },
   "outputs": [],
   "source": [
    "from statsmodels.tsa.stattools import adfuller\n",
    "print(\"AUGMENTED DICKEY FULLER TEST \\n\\n\")\n",
    "for i in range(len(mdc.columns)):\n",
    "  result = adfuller(mdc[mdc.columns[i]])\n",
    "\n",
    "  if result[1] > 0.05 :\n",
    "    print('{} - Series is NOT Stationary'.format(mdc.columns[i]))\n",
    "    print(\" \")\n",
    "  else:\n",
    "    print('{} - Series is Stationary'.format(mdc.columns[i]))\n",
    "    print(\" \")"
   ]
  },
  {
   "cell_type": "markdown",
   "metadata": {
    "id": "cIgCzc1ubSDG"
   },
   "source": [
    "Since the time Series is stationary we can proceed with the model building section."
   ]
  },
  {
   "cell_type": "code",
   "execution_count": null,
   "metadata": {
    "id": "TGl_dSSPbSDG"
   },
   "outputs": [],
   "source": []
  },
  {
   "cell_type": "markdown",
   "metadata": {
    "id": "eCABbqInbsfv"
   },
   "source": [
    "### Building Predictive Models"
   ]
  },
  {
   "cell_type": "markdown",
   "metadata": {
    "id": "qqHPBBqFbsfx"
   },
   "source": [
    "#### Split Data into Training and Testing set"
   ]
  },
  {
   "cell_type": "code",
   "execution_count": null,
   "metadata": {
    "colab": {
     "base_uri": "https://localhost:8080/",
     "height": 235
    },
    "executionInfo": {
     "elapsed": 550,
     "status": "ok",
     "timestamp": 1613439666228,
     "user": {
      "displayName": "Rajas Ubhare",
      "photoUrl": "https://lh3.googleusercontent.com/a-/AOh14GgTyVuS-EanMTwGO6A_TkULjaAwiMI_buYA3sQNQg=s64",
      "userId": "10235052903806704162"
     },
     "user_tz": 480
    },
    "id": "4G3HPqmRbsfy",
    "outputId": "fc5e871c-21cd-4f78-bb1f-9b16a0993983"
   },
   "outputs": [],
   "source": [
    "temp=mdc\n",
    "temp= temp.drop(columns=['Flow_Rate_Madonna_di_Canneto'])\n",
    "\n",
    "df= mdc[['Flow_Rate_Madonna_di_Canneto']]\n",
    "new= pd.merge(temp, df, left_index=True, right_index=True)\n",
    "\n",
    "# Update the main dataframe i.e. auser_data\n",
    "mdc= new\n",
    "mdc.head()"
   ]
  },
  {
   "cell_type": "code",
   "execution_count": null,
   "metadata": {
    "colab": {
     "base_uri": "https://localhost:8080/",
     "height": 450
    },
    "executionInfo": {
     "elapsed": 607,
     "status": "ok",
     "timestamp": 1613439673665,
     "user": {
      "displayName": "Rajas Ubhare",
      "photoUrl": "https://lh3.googleusercontent.com/a-/AOh14GgTyVuS-EanMTwGO6A_TkULjaAwiMI_buYA3sQNQg=s64",
      "userId": "10235052903806704162"
     },
     "user_tz": 480
    },
    "id": "FuStavoTbsfz",
    "outputId": "3e88696b-bcf2-4167-a749-49b8c8cd1e67"
   },
   "outputs": [],
   "source": [
    "mdc.tail(500)"
   ]
  },
  {
   "cell_type": "code",
   "execution_count": null,
   "metadata": {
    "colab": {
     "base_uri": "https://localhost:8080/"
    },
    "executionInfo": {
     "elapsed": 507,
     "status": "ok",
     "timestamp": 1613439680521,
     "user": {
      "displayName": "Rajas Ubhare",
      "photoUrl": "https://lh3.googleusercontent.com/a-/AOh14GgTyVuS-EanMTwGO6A_TkULjaAwiMI_buYA3sQNQg=s64",
      "userId": "10235052903806704162"
     },
     "user_tz": 480
    },
    "id": "1C8Sn6WMbsfz",
    "outputId": "0c811b26-7943-43af-cc84-c010f0b867cf"
   },
   "outputs": [],
   "source": [
    "mdc.shape"
   ]
  },
  {
   "cell_type": "code",
   "execution_count": null,
   "metadata": {
    "id": "Eblwrz50bsfz"
   },
   "outputs": [],
   "source": [
    "X, Y = np.split(mdc,[-1],axis=1)"
   ]
  },
  {
   "cell_type": "code",
   "execution_count": null,
   "metadata": {
    "colab": {
     "base_uri": "https://localhost:8080/"
    },
    "executionInfo": {
     "elapsed": 530,
     "status": "ok",
     "timestamp": 1613439683902,
     "user": {
      "displayName": "Rajas Ubhare",
      "photoUrl": "https://lh3.googleusercontent.com/a-/AOh14GgTyVuS-EanMTwGO6A_TkULjaAwiMI_buYA3sQNQg=s64",
      "userId": "10235052903806704162"
     },
     "user_tz": 480
    },
    "id": "vfWJaHW8bsfz",
    "outputId": "b96955b4-bd4c-4091-d364-9050d9cd1247"
   },
   "outputs": [],
   "source": [
    "X.shape"
   ]
  },
  {
   "cell_type": "code",
   "execution_count": null,
   "metadata": {
    "colab": {
     "base_uri": "https://localhost:8080/"
    },
    "executionInfo": {
     "elapsed": 507,
     "status": "ok",
     "timestamp": 1613439688062,
     "user": {
      "displayName": "Rajas Ubhare",
      "photoUrl": "https://lh3.googleusercontent.com/a-/AOh14GgTyVuS-EanMTwGO6A_TkULjaAwiMI_buYA3sQNQg=s64",
      "userId": "10235052903806704162"
     },
     "user_tz": 480
    },
    "id": "G9dlmBjNbsf0",
    "outputId": "18689edd-b936-4c5d-c8d0-ac86b1a4d190"
   },
   "outputs": [],
   "source": [
    "Y.shape"
   ]
  },
  {
   "cell_type": "code",
   "execution_count": null,
   "metadata": {
    "id": "RUWcNVwYbsf0"
   },
   "outputs": [],
   "source": [
    "from sklearn.model_selection import train_test_split\n",
    "X_train, X_test, Y_train, Y_test = train_test_split(X, Y, test_size = 0.1, random_state = 12)"
   ]
  },
  {
   "cell_type": "markdown",
   "metadata": {
    "id": "zG01fz4Tbsf2"
   },
   "source": [
    "We will use Standard Scalar Scalar for scaling the features of our dataset."
   ]
  },
  {
   "cell_type": "code",
   "execution_count": null,
   "metadata": {
    "id": "Bfo0PmKpbsf2"
   },
   "outputs": [],
   "source": [
    "# Feature Scaling\n",
    "from sklearn.preprocessing import MinMaxScaler\n",
    "from sklearn.preprocessing import StandardScaler\n",
    "sc = StandardScaler()\n",
    "X_train = sc.fit_transform(X_train)\n",
    "X_test = sc.transform(X_test)"
   ]
  },
  {
   "cell_type": "code",
   "execution_count": null,
   "metadata": {
    "colab": {
     "base_uri": "https://localhost:8080/",
     "height": 297
    },
    "executionInfo": {
     "elapsed": 617,
     "status": "ok",
     "timestamp": 1613439699947,
     "user": {
      "displayName": "Rajas Ubhare",
      "photoUrl": "https://lh3.googleusercontent.com/a-/AOh14GgTyVuS-EanMTwGO6A_TkULjaAwiMI_buYA3sQNQg=s64",
      "userId": "10235052903806704162"
     },
     "user_tz": 480
    },
    "id": "MaH_ZzqYbsf2",
    "outputId": "48579b3e-3645-4b74-b764-48480c136e58"
   },
   "outputs": [],
   "source": [
    "X.describe()"
   ]
  },
  {
   "cell_type": "markdown",
   "metadata": {
    "id": "1fs3aNIdbsf2"
   },
   "source": [
    "#### 1. XGBoost Regression Model."
   ]
  },
  {
   "cell_type": "code",
   "execution_count": null,
   "metadata": {
    "id": "w7g02wVgbsf2"
   },
   "outputs": [],
   "source": [
    "from sklearn.model_selection import TimeSeriesSplit\n",
    "import xgboost as xgr"
   ]
  },
  {
   "cell_type": "markdown",
   "metadata": {
    "id": "EhZkUE9absf2"
   },
   "source": [
    "Training XGBoost with evaluation metric as MAE."
   ]
  },
  {
   "cell_type": "code",
   "execution_count": null,
   "metadata": {
    "id": "TJmAzTorbsf3"
   },
   "outputs": [],
   "source": [
    "xgr_mae = xgr.XGBRegressor(learning_rate =0.01, n_estimators=10000, max_depth=3, eval_metric='mae', seed=12)"
   ]
  },
  {
   "cell_type": "code",
   "execution_count": null,
   "metadata": {
    "colab": {
     "base_uri": "https://localhost:8080/"
    },
    "executionInfo": {
     "elapsed": 8075,
     "status": "ok",
     "timestamp": 1613439714827,
     "user": {
      "displayName": "Rajas Ubhare",
      "photoUrl": "https://lh3.googleusercontent.com/a-/AOh14GgTyVuS-EanMTwGO6A_TkULjaAwiMI_buYA3sQNQg=s64",
      "userId": "10235052903806704162"
     },
     "user_tz": 480
    },
    "id": "0MJlGqJYbsf3",
    "outputId": "3d5dc9a8-28a8-48e4-d873-3089da573fe1"
   },
   "outputs": [],
   "source": [
    "xgbr_1= xgr_mae.fit(X_train,Y_train)"
   ]
  },
  {
   "cell_type": "code",
   "execution_count": null,
   "metadata": {
    "id": "Y6OGdpWDbsf3"
   },
   "outputs": [],
   "source": [
    "# For Training set Prediction\n",
    "Yt_pred = xgbr_1.predict(X_train)"
   ]
  },
  {
   "cell_type": "code",
   "execution_count": null,
   "metadata": {
    "id": "ZQDb8xCMbsf3"
   },
   "outputs": [],
   "source": [
    "# For Testing set Prediction\n",
    "Y_pred=xgbr_1.predict(X_test)"
   ]
  },
  {
   "cell_type": "code",
   "execution_count": null,
   "metadata": {
    "id": "HBhv6nhHbsf3"
   },
   "outputs": [],
   "source": [
    "from sklearn.metrics import mean_squared_error\n",
    "from sklearn.metrics import mean_absolute_error\n",
    "import math"
   ]
  },
  {
   "cell_type": "code",
   "execution_count": null,
   "metadata": {
    "colab": {
     "base_uri": "https://localhost:8080/"
    },
    "executionInfo": {
     "elapsed": 516,
     "status": "ok",
     "timestamp": 1613439725412,
     "user": {
      "displayName": "Rajas Ubhare",
      "photoUrl": "https://lh3.googleusercontent.com/a-/AOh14GgTyVuS-EanMTwGO6A_TkULjaAwiMI_buYA3sQNQg=s64",
      "userId": "10235052903806704162"
     },
     "user_tz": 480
    },
    "id": "w5SGbU4kbsf3",
    "outputId": "b398e65c-3e75-444d-9943-4a80925a14f3"
   },
   "outputs": [],
   "source": [
    "# Mean Absolute Error\n",
    "print(\"Training MAE\", mean_absolute_error(Y_train, Yt_pred))\n",
    "print(\"Testing MAE\",mean_absolute_error(Y_test, Y_pred))"
   ]
  },
  {
   "cell_type": "markdown",
   "metadata": {
    "id": "96vTBOjcbsf4"
   },
   "source": [
    "#### 2. LSTM Model."
   ]
  },
  {
   "cell_type": "code",
   "execution_count": null,
   "metadata": {
    "id": "tpaw-O8Lbsf4"
   },
   "outputs": [],
   "source": [
    "# Import necessary libraries and packages from Keras for building model\n",
    "import tensorflow as tf\n",
    "from keras.callbacks import EarlyStopping\n",
    "from keras.models import Sequential\n",
    "from keras.layers import Dense\n",
    "from keras.layers import LSTM\n",
    "from keras.layers import Dropout\n",
    "from keras.optimizers import Adam"
   ]
  },
  {
   "cell_type": "code",
   "execution_count": null,
   "metadata": {
    "id": "Y7CknqE5bsf4"
   },
   "outputs": [],
   "source": [
    "# reshape input to be 3D [samples, timesteps, features]\n",
    "X_train = X_train.reshape((X_train.shape[0], 1, X_train.shape[1]))\n",
    "X_test = X_test.reshape((X_test.shape[0], 1, X_test.shape[1]))"
   ]
  },
  {
   "cell_type": "code",
   "execution_count": null,
   "metadata": {
    "id": "2XE36RNYbsf4"
   },
   "outputs": [],
   "source": [
    "# Initialize the Neural Network based on LSTM RNN\n",
    "model = Sequential()\n",
    "\n",
    "# Add 1st LSTM RNN layer\n",
    "model.add(LSTM(units=32, return_sequences=True, input_shape=(1, 2)))\n",
    "\n",
    "# Adding 2nd LSTM layer\n",
    "#model.add(LSTM(units=32, return_sequences=True))\n",
    "\n",
    "# Adding 3rd LSTM layer\n",
    "model.add(LSTM(units=16, return_sequences=False))\n",
    "\n",
    "# Adding Dropout\n",
    "model.add(Dropout(0.2))\n",
    "\n",
    "# Output layer\n",
    "model.add(Dense(units=1, activation='linear'))\n",
    "\n",
    "# Compiling the Neural Network\n",
    "model.compile(optimizer = Adam(learning_rate=0.01), loss='mean_absolute_error')"
   ]
  },
  {
   "cell_type": "code",
   "execution_count": null,
   "metadata": {
    "colab": {
     "base_uri": "https://localhost:8080/"
    },
    "executionInfo": {
     "elapsed": 34579,
     "status": "ok",
     "timestamp": 1613439924875,
     "user": {
      "displayName": "Rajas Ubhare",
      "photoUrl": "https://lh3.googleusercontent.com/a-/AOh14GgTyVuS-EanMTwGO6A_TkULjaAwiMI_buYA3sQNQg=s64",
      "userId": "10235052903806704162"
     },
     "user_tz": 480
    },
    "id": "ieVHo7lNbsf4",
    "outputId": "ed613fed-5bce-4a53-aa10-ea1151cbb19b"
   },
   "outputs": [],
   "source": [
    "#early_stopping = EarlyStopping(monitor='val_loss', min_delta=1e-10, patience=10, verbose=1)\n",
    "#rlr = ReduceLROnPlateau(monitor='val_loss', factor=0.5, patience=10, verbose=1)\n",
    "#mcp = ModelCheckpoint(filepath='weights.h5', monitor='val_loss', verbose=1, save_best_only=True, save_weights_only=True)\n",
    "#  callbacks=[early_stopping, rlr, mcp, tb]\n",
    "#tb = TensorBoard('logs')\n",
    "\n",
    "history = model.fit(X_train, Y_train, shuffle=True, epochs=100, validation_split=0.2, verbose=1, batch_size=32)"
   ]
  },
  {
   "cell_type": "code",
   "execution_count": null,
   "metadata": {
    "colab": {
     "base_uri": "https://localhost:8080/",
     "height": 301
    },
    "executionInfo": {
     "elapsed": 931,
     "status": "ok",
     "timestamp": 1613439940729,
     "user": {
      "displayName": "Rajas Ubhare",
      "photoUrl": "https://lh3.googleusercontent.com/a-/AOh14GgTyVuS-EanMTwGO6A_TkULjaAwiMI_buYA3sQNQg=s64",
      "userId": "10235052903806704162"
     },
     "user_tz": 480
    },
    "id": "5SODDC6Hbsf4",
    "outputId": "6051f3f2-114e-4dd5-f4a2-52a3f52e53ca"
   },
   "outputs": [],
   "source": [
    "plt.plot(history.history['loss'])\n",
    "plt.plot(history.history['val_loss'])\n",
    "plt.title('model loss')\n",
    "plt.ylabel('loss')\n",
    "plt.xlabel('epoch')\n",
    "plt.legend(['train', 'val'], loc='upper left')\n",
    "plt.show()"
   ]
  },
  {
   "cell_type": "code",
   "execution_count": null,
   "metadata": {
    "id": "hq-FCRhjbsf5"
   },
   "outputs": [],
   "source": [
    "model.save_weights(\"mdc_M1.h5\")"
   ]
  },
  {
   "cell_type": "code",
   "execution_count": null,
   "metadata": {
    "id": "4k6XBHHAbsf5"
   },
   "outputs": [],
   "source": [
    "train_pred = model.predict(X_train)"
   ]
  },
  {
   "cell_type": "code",
   "execution_count": null,
   "metadata": {
    "colab": {
     "base_uri": "https://localhost:8080/"
    },
    "executionInfo": {
     "elapsed": 930,
     "status": "ok",
     "timestamp": 1613439983307,
     "user": {
      "displayName": "Rajas Ubhare",
      "photoUrl": "https://lh3.googleusercontent.com/a-/AOh14GgTyVuS-EanMTwGO6A_TkULjaAwiMI_buYA3sQNQg=s64",
      "userId": "10235052903806704162"
     },
     "user_tz": 480
    },
    "id": "GBzkbBhJbsf5",
    "outputId": "1ced9034-13af-4fbb-8d23-3aea1c937f09"
   },
   "outputs": [],
   "source": [
    "print(train_pred)\n"
   ]
  },
  {
   "cell_type": "code",
   "execution_count": null,
   "metadata": {
    "colab": {
     "base_uri": "https://localhost:8080/"
    },
    "executionInfo": {
     "elapsed": 399,
     "status": "ok",
     "timestamp": 1613439983308,
     "user": {
      "displayName": "Rajas Ubhare",
      "photoUrl": "https://lh3.googleusercontent.com/a-/AOh14GgTyVuS-EanMTwGO6A_TkULjaAwiMI_buYA3sQNQg=s64",
      "userId": "10235052903806704162"
     },
     "user_tz": 480
    },
    "id": "0382hnwtbsf5",
    "outputId": "957ce250-010b-4eb3-d173-2f151adb525a"
   },
   "outputs": [],
   "source": [
    "print(Y_train)"
   ]
  },
  {
   "cell_type": "code",
   "execution_count": null,
   "metadata": {
    "id": "2DJNdyTzbsf5"
   },
   "outputs": [],
   "source": [
    "test_pred = model.predict(X_test)"
   ]
  },
  {
   "cell_type": "code",
   "execution_count": null,
   "metadata": {
    "colab": {
     "base_uri": "https://localhost:8080/"
    },
    "executionInfo": {
     "elapsed": 334,
     "status": "ok",
     "timestamp": 1613439984409,
     "user": {
      "displayName": "Rajas Ubhare",
      "photoUrl": "https://lh3.googleusercontent.com/a-/AOh14GgTyVuS-EanMTwGO6A_TkULjaAwiMI_buYA3sQNQg=s64",
      "userId": "10235052903806704162"
     },
     "user_tz": 480
    },
    "id": "jP6eU2_Sbsf5",
    "outputId": "69627ffd-645f-407c-b4d4-67c8dfbe6f09"
   },
   "outputs": [],
   "source": [
    "print(test_pred)\n",
    "\n"
   ]
  },
  {
   "cell_type": "code",
   "execution_count": null,
   "metadata": {
    "colab": {
     "base_uri": "https://localhost:8080/"
    },
    "executionInfo": {
     "elapsed": 381,
     "status": "ok",
     "timestamp": 1613439985017,
     "user": {
      "displayName": "Rajas Ubhare",
      "photoUrl": "https://lh3.googleusercontent.com/a-/AOh14GgTyVuS-EanMTwGO6A_TkULjaAwiMI_buYA3sQNQg=s64",
      "userId": "10235052903806704162"
     },
     "user_tz": 480
    },
    "id": "OmTbQBIWbsf6",
    "outputId": "eb4f69ac-0c87-4e97-d0e0-142f4dfea70b"
   },
   "outputs": [],
   "source": [
    "Y_test.iloc[:,-1].values*100"
   ]
  },
  {
   "cell_type": "code",
   "execution_count": null,
   "metadata": {
    "colab": {
     "base_uri": "https://localhost:8080/"
    },
    "executionInfo": {
     "elapsed": 522,
     "status": "ok",
     "timestamp": 1613439986470,
     "user": {
      "displayName": "Rajas Ubhare",
      "photoUrl": "https://lh3.googleusercontent.com/a-/AOh14GgTyVuS-EanMTwGO6A_TkULjaAwiMI_buYA3sQNQg=s64",
      "userId": "10235052903806704162"
     },
     "user_tz": 480
    },
    "id": "ami2ung9bsf6",
    "outputId": "d2ea37b6-2a4a-4e16-80bc-f6b91295379b"
   },
   "outputs": [],
   "source": [
    "from sklearn.metrics import mean_squared_error, mean_absolute_error\n",
    "\n",
    "train_mse = mean_squared_error(Y_train, train_pred)\n",
    "print('Train MSE: %.3f' % train_mse)\n",
    "\n",
    "test_mse = mean_squared_error(Y_test, test_pred)\n",
    "print('Test MSE: %.3f' % test_mse)\n",
    "\n",
    "train_mae = mean_absolute_error(Y_train, train_pred)\n",
    "print('Train MAE: %.3f' % train_mae)\n",
    "\n",
    "test_mae = mean_absolute_error(Y_test, test_pred)\n",
    "print('Test MAE: %.3f' % test_mae)"
   ]
  },
  {
   "cell_type": "code",
   "execution_count": null,
   "metadata": {
    "id": "lv2zqN8YhGh7"
   },
   "outputs": [],
   "source": []
  },
  {
   "cell_type": "markdown",
   "metadata": {
    "id": "Mz088X5IMc2_"
   },
   "source": [
    "# RIVER"
   ]
  },
  {
   "cell_type": "markdown",
   "metadata": {
    "id": "fgYD4JlMMflV"
   },
   "source": [
    "## ARNO"
   ]
  },
  {
   "cell_type": "code",
   "execution_count": null,
   "metadata": {
    "id": "CBamLizOMmiQ"
   },
   "outputs": [],
   "source": []
  },
  {
   "cell_type": "markdown",
   "metadata": {
    "id": "d55rHIVAMm7h"
   },
   "source": [
    "### Exploratory Data Analysis"
   ]
  },
  {
   "cell_type": "markdown",
   "metadata": {
    "id": "bQHYKpGCMm7i"
   },
   "source": [
    "#### Importing The Libraries"
   ]
  },
  {
   "cell_type": "code",
   "execution_count": null,
   "metadata": {
    "id": "OHrIjlyTMm7i"
   },
   "outputs": [],
   "source": [
    "import pandas as pd\n",
    "import numpy as np\n",
    "import matplotlib.pyplot as plt\n",
    "import seaborn as sns\n",
    "sns.set_style('whitegrid')\n",
    "import warnings\n",
    "import gc\n",
    "import missingno as mn\n",
    "import datetime\n",
    "warnings.simplefilter(action='ignore', category=FutureWarning)\n",
    "warnings.simplefilter(action='ignore', category=DeprecationWarning)\n",
    "%matplotlib inline"
   ]
  },
  {
   "cell_type": "code",
   "execution_count": null,
   "metadata": {
    "colab": {
     "base_uri": "https://localhost:8080/",
     "height": 439
    },
    "executionInfo": {
     "elapsed": 2370,
     "status": "ok",
     "timestamp": 1613451550244,
     "user": {
      "displayName": "Rajas Ubhare",
      "photoUrl": "https://lh3.googleusercontent.com/a-/AOh14GgTyVuS-EanMTwGO6A_TkULjaAwiMI_buYA3sQNQg=s64",
      "userId": "10235052903806704162"
     },
     "user_tz": 480
    },
    "id": "uG3Fqp32Mm7i",
    "outputId": "6d3cfb24-b657-4619-bcc9-e057c9c05421"
   },
   "outputs": [],
   "source": [
    "arno = pd.read_csv('/content/drive/MyDrive/STUDY/Kaggle_Water_Analytics/Data/River_Arno.csv',parse_dates=True)\n",
    "arno"
   ]
  },
  {
   "cell_type": "markdown",
   "metadata": {
    "id": "Txd81IzPMm7j"
   },
   "source": [
    "Determine the shape or structure of the data frame."
   ]
  },
  {
   "cell_type": "code",
   "execution_count": null,
   "metadata": {
    "colab": {
     "base_uri": "https://localhost:8080/"
    },
    "executionInfo": {
     "elapsed": 628,
     "status": "ok",
     "timestamp": 1613451562753,
     "user": {
      "displayName": "Rajas Ubhare",
      "photoUrl": "https://lh3.googleusercontent.com/a-/AOh14GgTyVuS-EanMTwGO6A_TkULjaAwiMI_buYA3sQNQg=s64",
      "userId": "10235052903806704162"
     },
     "user_tz": 480
    },
    "id": "VILu-K_hMm7j",
    "outputId": "6fe98f5a-2e40-46c6-8fc8-05e7c03241e5"
   },
   "outputs": [],
   "source": [
    "print('Shape: ', arno.shape)"
   ]
  },
  {
   "cell_type": "markdown",
   "metadata": {
    "id": "KQLeDK7OMm7j"
   },
   "source": [
    "#### Handling Missing Values"
   ]
  },
  {
   "cell_type": "code",
   "execution_count": null,
   "metadata": {
    "colab": {
     "base_uri": "https://localhost:8080/"
    },
    "executionInfo": {
     "elapsed": 569,
     "status": "ok",
     "timestamp": 1613451615780,
     "user": {
      "displayName": "Rajas Ubhare",
      "photoUrl": "https://lh3.googleusercontent.com/a-/AOh14GgTyVuS-EanMTwGO6A_TkULjaAwiMI_buYA3sQNQg=s64",
      "userId": "10235052903806704162"
     },
     "user_tz": 480
    },
    "id": "7bDYIPrmMm7k",
    "outputId": "b9579318-2fca-4786-cb89-51dbf1e604a4"
   },
   "outputs": [],
   "source": [
    "print(\"The percentage of missing values in dataset\")\n",
    "((arno.isnull() | arno.isna()).sum() * 100 / arno.index.size).round(2)"
   ]
  },
  {
   "cell_type": "code",
   "execution_count": null,
   "metadata": {
    "colab": {
     "base_uri": "https://localhost:8080/",
     "height": 239
    },
    "executionInfo": {
     "elapsed": 1933,
     "status": "ok",
     "timestamp": 1613451777531,
     "user": {
      "displayName": "Rajas Ubhare",
      "photoUrl": "https://lh3.googleusercontent.com/a-/AOh14GgTyVuS-EanMTwGO6A_TkULjaAwiMI_buYA3sQNQg=s64",
      "userId": "10235052903806704162"
     },
     "user_tz": 480
    },
    "id": "z-rWwsXyMm7k",
    "outputId": "bd1a16cd-9f0d-4e31-8337-15e6159b4cfe"
   },
   "outputs": [],
   "source": [
    "arno_plot = arno[['Hydrometry_Nave_di_Rosano']]\n",
    "sns.set(style=\"whitegrid\")\n",
    "plt.figure(figsize=(35,7))\n",
    "sns.color_palette(\"husl\", 9)\n",
    "sns.lineplot(data=arno_plot)\n",
    "#df_auser.plot(linewidth=2, fontsize=12)"
   ]
  },
  {
   "cell_type": "code",
   "execution_count": null,
   "metadata": {
    "id": "4uNYVnzVMm7k"
   },
   "outputs": [],
   "source": [
    "arno = arno.set_index('Date')\n",
    "arno.index = pd.to_datetime(arno.index)"
   ]
  },
  {
   "cell_type": "code",
   "execution_count": null,
   "metadata": {
    "id": "RwFbwfBIMm7l"
   },
   "outputs": [],
   "source": [
    "arno = arno.interpolate(method = 'linear')"
   ]
  },
  {
   "cell_type": "code",
   "execution_count": null,
   "metadata": {
    "id": "ooCauykGMm7l"
   },
   "outputs": [],
   "source": [
    "arno = arno.apply(lambda x: x.fillna(x.mean()),axis=0)"
   ]
  },
  {
   "cell_type": "code",
   "execution_count": null,
   "metadata": {
    "colab": {
     "base_uri": "https://localhost:8080/"
    },
    "executionInfo": {
     "elapsed": 551,
     "status": "ok",
     "timestamp": 1613452236775,
     "user": {
      "displayName": "Rajas Ubhare",
      "photoUrl": "https://lh3.googleusercontent.com/a-/AOh14GgTyVuS-EanMTwGO6A_TkULjaAwiMI_buYA3sQNQg=s64",
      "userId": "10235052903806704162"
     },
     "user_tz": 480
    },
    "id": "in9ySxbDMm7l",
    "outputId": "918fbefd-be1c-4dc0-f7a8-e64f2d1e8cd8"
   },
   "outputs": [],
   "source": [
    "print(\"The percentage of missing values in dataset\")\n",
    "((arno.isnull() | arno.isna()).sum() * 100 / arno.index.size).round(2)"
   ]
  },
  {
   "cell_type": "code",
   "execution_count": null,
   "metadata": {
    "id": "aefoLnM9Mm7l"
   },
   "outputs": [],
   "source": []
  },
  {
   "cell_type": "markdown",
   "metadata": {
    "id": "2Ir7LOZ5QHwK"
   },
   "source": [
    "### Checking The Stationarity"
   ]
  },
  {
   "cell_type": "markdown",
   "metadata": {
    "id": "Jlw68vO5QHwS"
   },
   "source": [
    "In order to check the stationarity of the time series (i.e identify wether the time series is stationary or not) we perform Augmented Dickey-Fuller test (ADF Test.)"
   ]
  },
  {
   "cell_type": "markdown",
   "metadata": {
    "id": "2b_D_NKsQHwT"
   },
   "source": [
    "For AD Fuller test:\n",
    "\n",
    "1. Null Hypothesis - Series possesses a unit root and hence is not stationary.\n",
    "2. Alternate Hypothesis - Series is stationary"
   ]
  },
  {
   "cell_type": "code",
   "execution_count": null,
   "metadata": {
    "colab": {
     "base_uri": "https://localhost:8080/"
    },
    "executionInfo": {
     "elapsed": 8235,
     "status": "ok",
     "timestamp": 1613452434095,
     "user": {
      "displayName": "Rajas Ubhare",
      "photoUrl": "https://lh3.googleusercontent.com/a-/AOh14GgTyVuS-EanMTwGO6A_TkULjaAwiMI_buYA3sQNQg=s64",
      "userId": "10235052903806704162"
     },
     "user_tz": 480
    },
    "id": "3Qti45TUQHwW",
    "outputId": "cb8d11ae-6fd3-43f5-96a5-b0dc3078ef3b"
   },
   "outputs": [],
   "source": [
    "from statsmodels.tsa.stattools import adfuller\n",
    "print(\"AUGMENTED DICKEY FULLER TEST \\n\\n\")\n",
    "for i in range(len(arno.columns)):\n",
    "  result = adfuller(arno[arno.columns[i]])\n",
    "\n",
    "  if result[1] > 0.05 :\n",
    "    print('{} - Series is NOT Stationary'.format(arno.columns[i]))\n",
    "    print(\" \")\n",
    "  else:\n",
    "    print('{} - Series is Stationary'.format(arno.columns[i]))\n",
    "    print(\" \")"
   ]
  },
  {
   "cell_type": "markdown",
   "metadata": {
    "id": "IC_f_-HOQHwX"
   },
   "source": [
    "Since the time Series is stationary we can proceed with the model building section."
   ]
  },
  {
   "cell_type": "code",
   "execution_count": null,
   "metadata": {
    "id": "u6_OJqJBQHwX"
   },
   "outputs": [],
   "source": []
  },
  {
   "cell_type": "markdown",
   "metadata": {
    "id": "KDmLMdj8SIea"
   },
   "source": [
    "### Building Predictive Models"
   ]
  },
  {
   "cell_type": "markdown",
   "metadata": {
    "id": "KqcwPVytSIei"
   },
   "source": [
    "#### Split Data into Training and Testing set"
   ]
  },
  {
   "cell_type": "code",
   "execution_count": null,
   "metadata": {
    "colab": {
     "base_uri": "https://localhost:8080/",
     "height": 340
    },
    "executionInfo": {
     "elapsed": 555,
     "status": "ok",
     "timestamp": 1613452982800,
     "user": {
      "displayName": "Rajas Ubhare",
      "photoUrl": "https://lh3.googleusercontent.com/a-/AOh14GgTyVuS-EanMTwGO6A_TkULjaAwiMI_buYA3sQNQg=s64",
      "userId": "10235052903806704162"
     },
     "user_tz": 480
    },
    "id": "iNptJ4u1SIej",
    "outputId": "8f3d671c-8a15-4161-ab9f-4c8028d557e2"
   },
   "outputs": [],
   "source": [
    "temp=arno\n",
    "temp= temp.drop(columns=['Hydrometry_Nave_di_Rosano'])\n",
    "\n",
    "df= arno[['Hydrometry_Nave_di_Rosano']]\n",
    "new= pd.merge(temp, df, left_index=True, right_index=True)\n",
    "\n",
    "# Update the main dataframe i.e. auser_data\n",
    "arno= new\n",
    "arno.head()"
   ]
  },
  {
   "cell_type": "code",
   "execution_count": null,
   "metadata": {
    "colab": {
     "base_uri": "https://localhost:8080/",
     "height": 640
    },
    "executionInfo": {
     "elapsed": 576,
     "status": "ok",
     "timestamp": 1613452992239,
     "user": {
      "displayName": "Rajas Ubhare",
      "photoUrl": "https://lh3.googleusercontent.com/a-/AOh14GgTyVuS-EanMTwGO6A_TkULjaAwiMI_buYA3sQNQg=s64",
      "userId": "10235052903806704162"
     },
     "user_tz": 480
    },
    "id": "13u9N7IXSIej",
    "outputId": "a5507552-dc7a-4766-fb89-484a11b685a8"
   },
   "outputs": [],
   "source": [
    "arno.tail(500)"
   ]
  },
  {
   "cell_type": "code",
   "execution_count": null,
   "metadata": {
    "colab": {
     "base_uri": "https://localhost:8080/"
    },
    "executionInfo": {
     "elapsed": 521,
     "status": "ok",
     "timestamp": 1613453005505,
     "user": {
      "displayName": "Rajas Ubhare",
      "photoUrl": "https://lh3.googleusercontent.com/a-/AOh14GgTyVuS-EanMTwGO6A_TkULjaAwiMI_buYA3sQNQg=s64",
      "userId": "10235052903806704162"
     },
     "user_tz": 480
    },
    "id": "1NYurHnGSIek",
    "outputId": "9456bf72-8379-472b-99b8-94e9a4958287"
   },
   "outputs": [],
   "source": [
    "arno.shape"
   ]
  },
  {
   "cell_type": "code",
   "execution_count": null,
   "metadata": {
    "id": "2bk1lAB5SIek"
   },
   "outputs": [],
   "source": [
    "X, Y = np.split(arno,[-1],axis=1)"
   ]
  },
  {
   "cell_type": "code",
   "execution_count": null,
   "metadata": {
    "colab": {
     "base_uri": "https://localhost:8080/"
    },
    "executionInfo": {
     "elapsed": 522,
     "status": "ok",
     "timestamp": 1613453030277,
     "user": {
      "displayName": "Rajas Ubhare",
      "photoUrl": "https://lh3.googleusercontent.com/a-/AOh14GgTyVuS-EanMTwGO6A_TkULjaAwiMI_buYA3sQNQg=s64",
      "userId": "10235052903806704162"
     },
     "user_tz": 480
    },
    "id": "G8aKt1ucSIek",
    "outputId": "65f6bcb3-6deb-4b2f-b668-f2e08bad6b1c"
   },
   "outputs": [],
   "source": [
    "X.shape"
   ]
  },
  {
   "cell_type": "code",
   "execution_count": null,
   "metadata": {
    "colab": {
     "base_uri": "https://localhost:8080/"
    },
    "executionInfo": {
     "elapsed": 652,
     "status": "ok",
     "timestamp": 1613453031905,
     "user": {
      "displayName": "Rajas Ubhare",
      "photoUrl": "https://lh3.googleusercontent.com/a-/AOh14GgTyVuS-EanMTwGO6A_TkULjaAwiMI_buYA3sQNQg=s64",
      "userId": "10235052903806704162"
     },
     "user_tz": 480
    },
    "id": "1-l1BE7JSIek",
    "outputId": "16f108b4-3894-4ddb-c670-0f5aa0f39caf"
   },
   "outputs": [],
   "source": [
    "Y.shape"
   ]
  },
  {
   "cell_type": "code",
   "execution_count": null,
   "metadata": {
    "id": "cPAtJyGKSIel"
   },
   "outputs": [],
   "source": [
    "from sklearn.model_selection import train_test_split\n",
    "X_train, X_test, Y_train, Y_test = train_test_split(X, Y, test_size = 0.1, random_state = 12)"
   ]
  },
  {
   "cell_type": "markdown",
   "metadata": {
    "id": "jr3NkohFSIel"
   },
   "source": [
    "We will use Standard Scalar Scalar for scaling the features of our dataset."
   ]
  },
  {
   "cell_type": "code",
   "execution_count": null,
   "metadata": {
    "id": "zI5B8WV2SIel"
   },
   "outputs": [],
   "source": [
    "# Feature Scaling\n",
    "from sklearn.preprocessing import MinMaxScaler\n",
    "from sklearn.preprocessing import StandardScaler\n",
    "sc = StandardScaler()\n",
    "X_train = sc.fit_transform(X_train)\n",
    "X_test = sc.transform(X_test)"
   ]
  },
  {
   "cell_type": "code",
   "execution_count": null,
   "metadata": {
    "colab": {
     "base_uri": "https://localhost:8080/",
     "height": 317
    },
    "executionInfo": {
     "elapsed": 659,
     "status": "ok",
     "timestamp": 1613453041825,
     "user": {
      "displayName": "Rajas Ubhare",
      "photoUrl": "https://lh3.googleusercontent.com/a-/AOh14GgTyVuS-EanMTwGO6A_TkULjaAwiMI_buYA3sQNQg=s64",
      "userId": "10235052903806704162"
     },
     "user_tz": 480
    },
    "id": "qE11AIIQSIel",
    "outputId": "567646a4-b747-4b5d-b199-3da0a804aa73"
   },
   "outputs": [],
   "source": [
    "X.describe()"
   ]
  },
  {
   "cell_type": "markdown",
   "metadata": {
    "id": "heP-L7ozSIem"
   },
   "source": [
    "#### 1. XGBoost Regression Model."
   ]
  },
  {
   "cell_type": "code",
   "execution_count": null,
   "metadata": {
    "id": "di34ri1OSIem"
   },
   "outputs": [],
   "source": [
    "from sklearn.model_selection import TimeSeriesSplit\n",
    "import xgboost as xgr"
   ]
  },
  {
   "cell_type": "markdown",
   "metadata": {
    "id": "SaKarZsoSIem"
   },
   "source": [
    "Training XGBoost with evaluation metric as MAE."
   ]
  },
  {
   "cell_type": "code",
   "execution_count": null,
   "metadata": {
    "id": "cMKZAwkCSIem"
   },
   "outputs": [],
   "source": [
    "xgr_mae = xgr.XGBRegressor(learning_rate =0.01, n_estimators=10000, max_depth=3, eval_metric='mae', seed=12)"
   ]
  },
  {
   "cell_type": "code",
   "execution_count": null,
   "metadata": {
    "colab": {
     "base_uri": "https://localhost:8080/"
    },
    "executionInfo": {
     "elapsed": 41180,
     "status": "ok",
     "timestamp": 1613453103350,
     "user": {
      "displayName": "Rajas Ubhare",
      "photoUrl": "https://lh3.googleusercontent.com/a-/AOh14GgTyVuS-EanMTwGO6A_TkULjaAwiMI_buYA3sQNQg=s64",
      "userId": "10235052903806704162"
     },
     "user_tz": 480
    },
    "id": "JSBsnmNOSIem",
    "outputId": "080894da-252b-496b-9bf8-5693fd9494c2"
   },
   "outputs": [],
   "source": [
    "xgbr_1= xgr_mae.fit(X_train,Y_train)"
   ]
  },
  {
   "cell_type": "code",
   "execution_count": null,
   "metadata": {
    "id": "ZJwb4gb4SIem"
   },
   "outputs": [],
   "source": [
    "# For Training set Prediction\n",
    "Yt_pred = xgbr_1.predict(X_train)"
   ]
  },
  {
   "cell_type": "code",
   "execution_count": null,
   "metadata": {
    "id": "CyVlRsuOSIen"
   },
   "outputs": [],
   "source": [
    "# For Testing set Prediction\n",
    "Y_pred=xgbr_1.predict(X_test)"
   ]
  },
  {
   "cell_type": "code",
   "execution_count": null,
   "metadata": {
    "id": "5vd1cvCvSIen"
   },
   "outputs": [],
   "source": [
    "from sklearn.metrics import mean_squared_error\n",
    "from sklearn.metrics import mean_absolute_error\n",
    "import math"
   ]
  },
  {
   "cell_type": "code",
   "execution_count": null,
   "metadata": {
    "colab": {
     "base_uri": "https://localhost:8080/"
    },
    "executionInfo": {
     "elapsed": 1077,
     "status": "ok",
     "timestamp": 1613453121293,
     "user": {
      "displayName": "Rajas Ubhare",
      "photoUrl": "https://lh3.googleusercontent.com/a-/AOh14GgTyVuS-EanMTwGO6A_TkULjaAwiMI_buYA3sQNQg=s64",
      "userId": "10235052903806704162"
     },
     "user_tz": 480
    },
    "id": "IHXpUQWqSIen",
    "outputId": "62249c2d-42c6-4cbc-dc1a-e143d96848dc"
   },
   "outputs": [],
   "source": [
    "# Mean Absolute Error\n",
    "print(\"Training MAE\", mean_absolute_error(Y_train, Yt_pred))\n",
    "print(\"Testing MAE\",mean_absolute_error(Y_test, Y_pred))"
   ]
  },
  {
   "cell_type": "markdown",
   "metadata": {
    "id": "US8l_rldSIen"
   },
   "source": [
    "#### 2. LSTM Model."
   ]
  },
  {
   "cell_type": "code",
   "execution_count": null,
   "metadata": {
    "id": "-OIW4gV1SIen"
   },
   "outputs": [],
   "source": [
    "# Import necessary libraries and packages from Keras for building model\n",
    "import tensorflow as tf\n",
    "from keras.callbacks import EarlyStopping\n",
    "from keras.models import Sequential\n",
    "from keras.layers import Dense\n",
    "from keras.layers import LSTM\n",
    "from keras.layers import Dropout\n",
    "from keras.optimizers import Adam"
   ]
  },
  {
   "cell_type": "code",
   "execution_count": null,
   "metadata": {
    "id": "iDDjwb-RSIen"
   },
   "outputs": [],
   "source": [
    "# reshape input to be 3D [samples, timesteps, features]\n",
    "X_train = X_train.reshape((X_train.shape[0], 1, X_train.shape[1]))\n",
    "X_test = X_test.reshape((X_test.shape[0], 1, X_test.shape[1]))"
   ]
  },
  {
   "cell_type": "code",
   "execution_count": null,
   "metadata": {
    "colab": {
     "base_uri": "https://localhost:8080/"
    },
    "executionInfo": {
     "elapsed": 527,
     "status": "ok",
     "timestamp": 1613453295426,
     "user": {
      "displayName": "Rajas Ubhare",
      "photoUrl": "https://lh3.googleusercontent.com/a-/AOh14GgTyVuS-EanMTwGO6A_TkULjaAwiMI_buYA3sQNQg=s64",
      "userId": "10235052903806704162"
     },
     "user_tz": 480
    },
    "id": "obYm0kUKT1RP",
    "outputId": "851f3fd4-5a75-4436-875e-0a98bb503dbb"
   },
   "outputs": [],
   "source": [
    "X_train.shape"
   ]
  },
  {
   "cell_type": "code",
   "execution_count": null,
   "metadata": {
    "id": "02Js8DoOSIeo"
   },
   "outputs": [],
   "source": [
    "# Initialize the Neural Network based on LSTM RNN\n",
    "model = Sequential()\n",
    "\n",
    "# Add 1st LSTM RNN layer\n",
    "model.add(LSTM(units=32, return_sequences=True, input_shape=(1,15)))\n",
    "\n",
    "# Adding 2nd LSTM layer\n",
    "#model.add(LSTM(units=32, return_sequences=True))\n",
    "\n",
    "# Adding 3rd LSTM layer\n",
    "model.add(LSTM(units=16, return_sequences=False))\n",
    "\n",
    "# Adding Dropout\n",
    "model.add(Dropout(0.25))\n",
    "\n",
    "# Output layer\n",
    "model.add(Dense(units=1, activation='linear'))\n",
    "\n",
    "# Compiling the Neural Network\n",
    "model.compile(optimizer = Adam(learning_rate=0.01), loss='mean_absolute_error')"
   ]
  },
  {
   "cell_type": "code",
   "execution_count": null,
   "metadata": {
    "colab": {
     "base_uri": "https://localhost:8080/"
    },
    "executionInfo": {
     "elapsed": 11632,
     "status": "ok",
     "timestamp": 1613456884815,
     "user": {
      "displayName": "Rajas Ubhare",
      "photoUrl": "https://lh3.googleusercontent.com/a-/AOh14GgTyVuS-EanMTwGO6A_TkULjaAwiMI_buYA3sQNQg=s64",
      "userId": "10235052903806704162"
     },
     "user_tz": 480
    },
    "id": "VtucMxfcSIeo",
    "outputId": "546a859a-db35-4dba-d53c-127a957198eb"
   },
   "outputs": [],
   "source": [
    "history = model.fit(X_train, Y_train, shuffle=True, epochs=50, validation_split=0.2, verbose=1, batch_size=256)"
   ]
  },
  {
   "cell_type": "code",
   "execution_count": null,
   "metadata": {
    "colab": {
     "base_uri": "https://localhost:8080/",
     "height": 301
    },
    "executionInfo": {
     "elapsed": 761,
     "status": "ok",
     "timestamp": 1613456901762,
     "user": {
      "displayName": "Rajas Ubhare",
      "photoUrl": "https://lh3.googleusercontent.com/a-/AOh14GgTyVuS-EanMTwGO6A_TkULjaAwiMI_buYA3sQNQg=s64",
      "userId": "10235052903806704162"
     },
     "user_tz": 480
    },
    "id": "jKJ98c1sSIeo",
    "outputId": "2f443df2-4e4f-4bf6-8668-99b6e3249a28"
   },
   "outputs": [],
   "source": [
    "plt.plot(history.history['loss'])\n",
    "plt.plot(history.history['val_loss'])\n",
    "plt.title('model loss')\n",
    "plt.ylabel('loss')\n",
    "plt.xlabel('epoch')\n",
    "plt.legend(['train', 'val'], loc='upper left')\n",
    "plt.show()"
   ]
  },
  {
   "cell_type": "code",
   "execution_count": null,
   "metadata": {
    "id": "vhU2zKKTSIeo"
   },
   "outputs": [],
   "source": [
    "model.save_weights(\"arno_M1.h5\")"
   ]
  },
  {
   "cell_type": "code",
   "execution_count": null,
   "metadata": {
    "id": "M3GTF9l_SIeo"
   },
   "outputs": [],
   "source": [
    "train_pred = model.predict(X_train)"
   ]
  },
  {
   "cell_type": "code",
   "execution_count": null,
   "metadata": {
    "colab": {
     "base_uri": "https://localhost:8080/"
    },
    "executionInfo": {
     "elapsed": 974,
     "status": "ok",
     "timestamp": 1613458322998,
     "user": {
      "displayName": "Rajas Ubhare",
      "photoUrl": "https://lh3.googleusercontent.com/a-/AOh14GgTyVuS-EanMTwGO6A_TkULjaAwiMI_buYA3sQNQg=s64",
      "userId": "10235052903806704162"
     },
     "user_tz": 480
    },
    "id": "AMlsKstgSIep",
    "outputId": "86fb5af8-540f-4185-f441-be4544bbaa3f"
   },
   "outputs": [],
   "source": [
    "print(train_pred)\n"
   ]
  },
  {
   "cell_type": "code",
   "execution_count": null,
   "metadata": {
    "colab": {
     "base_uri": "https://localhost:8080/"
    },
    "executionInfo": {
     "elapsed": 427,
     "status": "ok",
     "timestamp": 1613458323993,
     "user": {
      "displayName": "Rajas Ubhare",
      "photoUrl": "https://lh3.googleusercontent.com/a-/AOh14GgTyVuS-EanMTwGO6A_TkULjaAwiMI_buYA3sQNQg=s64",
      "userId": "10235052903806704162"
     },
     "user_tz": 480
    },
    "id": "S37CJgavSIep",
    "outputId": "8a135c23-3c62-4352-df8f-e80c73903615"
   },
   "outputs": [],
   "source": [
    "print(Y_train)"
   ]
  },
  {
   "cell_type": "code",
   "execution_count": null,
   "metadata": {
    "id": "BkY5A_NHSIep"
   },
   "outputs": [],
   "source": [
    "test_pred = model.predict(X_test)"
   ]
  },
  {
   "cell_type": "code",
   "execution_count": null,
   "metadata": {
    "colab": {
     "base_uri": "https://localhost:8080/"
    },
    "executionInfo": {
     "elapsed": 384,
     "status": "ok",
     "timestamp": 1613458325408,
     "user": {
      "displayName": "Rajas Ubhare",
      "photoUrl": "https://lh3.googleusercontent.com/a-/AOh14GgTyVuS-EanMTwGO6A_TkULjaAwiMI_buYA3sQNQg=s64",
      "userId": "10235052903806704162"
     },
     "user_tz": 480
    },
    "id": "pEswy2KuSIep",
    "outputId": "001090d9-5c4a-44b8-9605-837561bab4a8"
   },
   "outputs": [],
   "source": [
    "print(test_pred)"
   ]
  },
  {
   "cell_type": "code",
   "execution_count": null,
   "metadata": {
    "colab": {
     "base_uri": "https://localhost:8080/"
    },
    "executionInfo": {
     "elapsed": 532,
     "status": "ok",
     "timestamp": 1613458326942,
     "user": {
      "displayName": "Rajas Ubhare",
      "photoUrl": "https://lh3.googleusercontent.com/a-/AOh14GgTyVuS-EanMTwGO6A_TkULjaAwiMI_buYA3sQNQg=s64",
      "userId": "10235052903806704162"
     },
     "user_tz": 480
    },
    "id": "SAWgmh2ASIep",
    "outputId": "80908934-e55d-4003-9fc9-14ddcee89a74"
   },
   "outputs": [],
   "source": [
    "from sklearn.metrics import mean_squared_error, mean_absolute_error\n",
    "\n",
    "train_mse = mean_squared_error(Y_train, train_pred)\n",
    "print('Train MSE: %.3f' % train_mse)\n",
    "\n",
    "test_mse = mean_squared_error(Y_test, test_pred)\n",
    "print('Test MSE: %.3f' % test_mse)\n",
    "\n",
    "train_mae = mean_absolute_error(Y_train, train_pred)\n",
    "print('Train MAE: %.3f' % train_mae)\n",
    "\n",
    "test_mae = mean_absolute_error(Y_test, test_pred)\n",
    "print('Test MAE: %.3f' % test_mae)"
   ]
  },
  {
   "cell_type": "markdown",
   "metadata": {
    "id": "SgT0qEaYnJdw"
   },
   "source": [
    "# LAKE"
   ]
  },
  {
   "cell_type": "markdown",
   "metadata": {
    "id": "0VWJzsiznMUX"
   },
   "source": [
    "## BILANCINO"
   ]
  },
  {
   "cell_type": "code",
   "execution_count": null,
   "metadata": {
    "id": "nuJShXCynT9l"
   },
   "outputs": [],
   "source": []
  },
  {
   "cell_type": "markdown",
   "metadata": {
    "id": "HVWdqYqsnaR1"
   },
   "source": [
    "### Exploratory Data Analysis"
   ]
  },
  {
   "cell_type": "markdown",
   "metadata": {
    "id": "h0CD0aHVnaR1"
   },
   "source": [
    "#### Importing The Libraries"
   ]
  },
  {
   "cell_type": "code",
   "execution_count": null,
   "metadata": {
    "id": "gWKHsGklnaR2"
   },
   "outputs": [],
   "source": [
    "import pandas as pd\n",
    "import numpy as np\n",
    "import matplotlib.pyplot as plt\n",
    "import seaborn as sns\n",
    "sns.set_style('whitegrid')\n",
    "import warnings\n",
    "import gc\n",
    "import missingno as mn\n",
    "import datetime\n",
    "warnings.simplefilter(action='ignore', category=FutureWarning)\n",
    "warnings.simplefilter(action='ignore', category=DeprecationWarning)\n",
    "%matplotlib inline"
   ]
  },
  {
   "cell_type": "code",
   "execution_count": null,
   "metadata": {
    "colab": {
     "base_uri": "https://localhost:8080/",
     "height": 439
    },
    "executionInfo": {
     "elapsed": 871,
     "status": "ok",
     "timestamp": 1613458574381,
     "user": {
      "displayName": "Rajas Ubhare",
      "photoUrl": "https://lh3.googleusercontent.com/a-/AOh14GgTyVuS-EanMTwGO6A_TkULjaAwiMI_buYA3sQNQg=s64",
      "userId": "10235052903806704162"
     },
     "user_tz": 480
    },
    "id": "8HkevtWbnaR2",
    "outputId": "7ee33499-c6e8-4139-c02f-6a67268a70eb"
   },
   "outputs": [],
   "source": [
    "bilancino = pd.read_csv('/content/drive/MyDrive/STUDY/Kaggle_Water_Analytics/Data/Lake_Bilancino.csv',parse_dates=True)\n",
    "bilancino"
   ]
  },
  {
   "cell_type": "markdown",
   "metadata": {
    "id": "hK0dl9MrnaR3"
   },
   "source": [
    "Determine the shape or structure of the data frame."
   ]
  },
  {
   "cell_type": "code",
   "execution_count": null,
   "metadata": {
    "colab": {
     "base_uri": "https://localhost:8080/"
    },
    "executionInfo": {
     "elapsed": 598,
     "status": "ok",
     "timestamp": 1613458491031,
     "user": {
      "displayName": "Rajas Ubhare",
      "photoUrl": "https://lh3.googleusercontent.com/a-/AOh14GgTyVuS-EanMTwGO6A_TkULjaAwiMI_buYA3sQNQg=s64",
      "userId": "10235052903806704162"
     },
     "user_tz": 480
    },
    "id": "y-rFaxB1naR3",
    "outputId": "c7b7291c-73d8-40af-d078-b2154a69c18a"
   },
   "outputs": [],
   "source": [
    "print('Shape: ', bilancino.shape)"
   ]
  },
  {
   "cell_type": "markdown",
   "metadata": {
    "id": "pAf7FbVEnaR3"
   },
   "source": [
    "#### Handling Missing Values"
   ]
  },
  {
   "cell_type": "code",
   "execution_count": null,
   "metadata": {
    "colab": {
     "base_uri": "https://localhost:8080/"
    },
    "executionInfo": {
     "elapsed": 626,
     "status": "ok",
     "timestamp": 1613458507098,
     "user": {
      "displayName": "Rajas Ubhare",
      "photoUrl": "https://lh3.googleusercontent.com/a-/AOh14GgTyVuS-EanMTwGO6A_TkULjaAwiMI_buYA3sQNQg=s64",
      "userId": "10235052903806704162"
     },
     "user_tz": 480
    },
    "id": "n1kQWlAEnaR4",
    "outputId": "350e499e-f82c-4c48-9b42-34a24a64a95f"
   },
   "outputs": [],
   "source": [
    "print(\"The percentage of missing values in dataset\")\n",
    "((bilancino.isnull() | bilancino.isna()).sum() * 100 / bilancino.index.size).round(2)"
   ]
  },
  {
   "cell_type": "code",
   "execution_count": null,
   "metadata": {
    "colab": {
     "base_uri": "https://localhost:8080/",
     "height": 439
    },
    "executionInfo": {
     "elapsed": 592,
     "status": "ok",
     "timestamp": 1613458582258,
     "user": {
      "displayName": "Rajas Ubhare",
      "photoUrl": "https://lh3.googleusercontent.com/a-/AOh14GgTyVuS-EanMTwGO6A_TkULjaAwiMI_buYA3sQNQg=s64",
      "userId": "10235052903806704162"
     },
     "user_tz": 480
    },
    "id": "jPgQc1XRnaR4",
    "outputId": "ad5a83ad-cf9f-4eb4-dfa6-a82553aa9d67"
   },
   "outputs": [],
   "source": [
    "bilancino = bilancino.dropna(0,how ='all',thresh=9)\n",
    "bilancino"
   ]
  },
  {
   "cell_type": "code",
   "execution_count": null,
   "metadata": {
    "colab": {
     "base_uri": "https://localhost:8080/"
    },
    "executionInfo": {
     "elapsed": 581,
     "status": "ok",
     "timestamp": 1613458591033,
     "user": {
      "displayName": "Rajas Ubhare",
      "photoUrl": "https://lh3.googleusercontent.com/a-/AOh14GgTyVuS-EanMTwGO6A_TkULjaAwiMI_buYA3sQNQg=s64",
      "userId": "10235052903806704162"
     },
     "user_tz": 480
    },
    "id": "Ao7IhuVwnaR4",
    "outputId": "e4dbac67-eb4c-4b45-fcfe-ef20ee3f0fa0"
   },
   "outputs": [],
   "source": [
    "print(\"The percentage of missing values in dataset\")\n",
    "((bilancino.isnull() | bilancino.isna()).sum() * 100 / bilancino.index.size).round(2)"
   ]
  },
  {
   "cell_type": "code",
   "execution_count": null,
   "metadata": {
    "colab": {
     "base_uri": "https://localhost:8080/"
    },
    "executionInfo": {
     "elapsed": 553,
     "status": "ok",
     "timestamp": 1613458601568,
     "user": {
      "displayName": "Rajas Ubhare",
      "photoUrl": "https://lh3.googleusercontent.com/a-/AOh14GgTyVuS-EanMTwGO6A_TkULjaAwiMI_buYA3sQNQg=s64",
      "userId": "10235052903806704162"
     },
     "user_tz": 480
    },
    "id": "Bb06ZsbfnaR5",
    "outputId": "8846b135-4b78-4313-9053-5f9422a23005"
   },
   "outputs": [],
   "source": [
    "bilancino.shape"
   ]
  },
  {
   "cell_type": "code",
   "execution_count": null,
   "metadata": {
    "colab": {
     "base_uri": "https://localhost:8080/",
     "height": 237
    },
    "executionInfo": {
     "elapsed": 2000,
     "status": "ok",
     "timestamp": 1613458687324,
     "user": {
      "displayName": "Rajas Ubhare",
      "photoUrl": "https://lh3.googleusercontent.com/a-/AOh14GgTyVuS-EanMTwGO6A_TkULjaAwiMI_buYA3sQNQg=s64",
      "userId": "10235052903806704162"
     },
     "user_tz": 480
    },
    "id": "PpL5GDfinaR5",
    "outputId": "37f197ed-3778-4a86-a77c-9ae1cd9a60c5"
   },
   "outputs": [],
   "source": [
    "bilancino_plot = bilancino[['Lake_Level','Flow_Rate']]\n",
    "sns.set(style=\"whitegrid\")\n",
    "plt.figure(figsize=(35,7))\n",
    "sns.color_palette(\"husl\", 9)\n",
    "sns.lineplot(data=bilancino_plot)\n",
    "#df_auser.plot(linewidth=2, fontsize=12)"
   ]
  },
  {
   "cell_type": "code",
   "execution_count": null,
   "metadata": {
    "id": "ks7DYhAwnaR5"
   },
   "outputs": [],
   "source": [
    "bilancino = bilancino.set_index('Date')\n",
    "bilancino.index = pd.to_datetime(bilancino.index)"
   ]
  },
  {
   "cell_type": "code",
   "execution_count": null,
   "metadata": {
    "id": "T2WGsQsvnaR5"
   },
   "outputs": [],
   "source": [
    "bilancino = bilancino.interpolate(method = 'time')"
   ]
  },
  {
   "cell_type": "code",
   "execution_count": null,
   "metadata": {
    "id": "2SnGFRwXnaR6"
   },
   "outputs": [],
   "source": [
    "bilancino = bilancino.apply(lambda x: x.fillna(x.mean()),axis=0)"
   ]
  },
  {
   "cell_type": "code",
   "execution_count": null,
   "metadata": {
    "colab": {
     "base_uri": "https://localhost:8080/"
    },
    "executionInfo": {
     "elapsed": 609,
     "status": "ok",
     "timestamp": 1613458752448,
     "user": {
      "displayName": "Rajas Ubhare",
      "photoUrl": "https://lh3.googleusercontent.com/a-/AOh14GgTyVuS-EanMTwGO6A_TkULjaAwiMI_buYA3sQNQg=s64",
      "userId": "10235052903806704162"
     },
     "user_tz": 480
    },
    "id": "wMyNQrOdnaR6",
    "outputId": "79898c1b-c98b-408b-9485-35e00faadbf4"
   },
   "outputs": [],
   "source": [
    "print(\"The percentage of missing values in dataset\")\n",
    "((bilancino.isnull() | bilancino.isna()).sum() * 100 / bilancino.index.size).round(2)"
   ]
  },
  {
   "cell_type": "code",
   "execution_count": null,
   "metadata": {
    "id": "cq-d8GVQosDN"
   },
   "outputs": [],
   "source": []
  },
  {
   "cell_type": "markdown",
   "metadata": {
    "id": "o6BWzCnkoyrh"
   },
   "source": [
    "### Checking The Stationarity"
   ]
  },
  {
   "cell_type": "markdown",
   "metadata": {
    "id": "yye7skOkoyrn"
   },
   "source": [
    "In order to check the stationarity of the time series (i.e identify wether the time series is stationary or not) we perform Augmented Dickey-Fuller test (ADF Test.)"
   ]
  },
  {
   "cell_type": "markdown",
   "metadata": {
    "id": "Zs2b7mZOoyro"
   },
   "source": [
    "For AD Fuller test:\n",
    "\n",
    "1. Null Hypothesis - Series possesses a unit root and hence is not stationary.\n",
    "2. Alternate Hypothesis - Series is stationary"
   ]
  },
  {
   "cell_type": "code",
   "execution_count": null,
   "metadata": {
    "colab": {
     "base_uri": "https://localhost:8080/"
    },
    "executionInfo": {
     "elapsed": 3039,
     "status": "ok",
     "timestamp": 1613458823391,
     "user": {
      "displayName": "Rajas Ubhare",
      "photoUrl": "https://lh3.googleusercontent.com/a-/AOh14GgTyVuS-EanMTwGO6A_TkULjaAwiMI_buYA3sQNQg=s64",
      "userId": "10235052903806704162"
     },
     "user_tz": 480
    },
    "id": "HFMODfUuoyro",
    "outputId": "64900672-1343-4321-ea93-ba31c695977d"
   },
   "outputs": [],
   "source": [
    "from statsmodels.tsa.stattools import adfuller\n",
    "print(\"AUGMENTED DICKEY FULLER TEST \\n\\n\")\n",
    "for i in range(len(bilancino.columns)):\n",
    "  result = adfuller(bilancino[bilancino.columns[i]])\n",
    "\n",
    "  if result[1] > 0.05 :\n",
    "    print('{} - Series is NOT Stationary'.format(bilancino.columns[i]))\n",
    "    print(\" \")\n",
    "  else:\n",
    "    print('{} - Series is Stationary'.format(bilancino.columns[i]))\n",
    "    print(\" \")"
   ]
  },
  {
   "cell_type": "markdown",
   "metadata": {
    "id": "ASLmHcUooyro"
   },
   "source": [
    "Since the time Series is stationary we can proceed with the model building section."
   ]
  },
  {
   "cell_type": "markdown",
   "metadata": {
    "id": "PJ1kf8ropLfM"
   },
   "source": [
    "### Building Predictive Models"
   ]
  },
  {
   "cell_type": "markdown",
   "metadata": {
    "id": "1UrL_AkRpLfP"
   },
   "source": [
    "#### Split Data into Training and Testing set"
   ]
  },
  {
   "cell_type": "code",
   "execution_count": null,
   "metadata": {
    "colab": {
     "base_uri": "https://localhost:8080/",
     "height": 340
    },
    "executionInfo": {
     "elapsed": 621,
     "status": "ok",
     "timestamp": 1613458982411,
     "user": {
      "displayName": "Rajas Ubhare",
      "photoUrl": "https://lh3.googleusercontent.com/a-/AOh14GgTyVuS-EanMTwGO6A_TkULjaAwiMI_buYA3sQNQg=s64",
      "userId": "10235052903806704162"
     },
     "user_tz": 480
    },
    "id": "Exvlx85EpLfQ",
    "outputId": "339c9175-0723-417b-9fa4-53db7b184b60"
   },
   "outputs": [],
   "source": [
    "temp=bilancino\n",
    "temp= temp.drop(columns=['Lake_Level','Flow_Rate'])\n",
    "\n",
    "df= bilancino[['Lake_Level','Flow_Rate']]\n",
    "new= pd.merge(temp, df, left_index=True, right_index=True)\n",
    "\n",
    "# Update the main dataframe i.e. auser_data\n",
    "bilancino= new\n",
    "bilancino.head()"
   ]
  },
  {
   "cell_type": "code",
   "execution_count": null,
   "metadata": {
    "colab": {
     "base_uri": "https://localhost:8080/",
     "height": 340
    },
    "executionInfo": {
     "elapsed": 542,
     "status": "ok",
     "timestamp": 1613459003812,
     "user": {
      "displayName": "Rajas Ubhare",
      "photoUrl": "https://lh3.googleusercontent.com/a-/AOh14GgTyVuS-EanMTwGO6A_TkULjaAwiMI_buYA3sQNQg=s64",
      "userId": "10235052903806704162"
     },
     "user_tz": 480
    },
    "id": "ThlgS4UnpLfQ",
    "outputId": "822954ff-bcb6-4a3e-9948-8bd2d4239fa1"
   },
   "outputs": [],
   "source": [
    "bilancino.tail()"
   ]
  },
  {
   "cell_type": "code",
   "execution_count": null,
   "metadata": {
    "colab": {
     "base_uri": "https://localhost:8080/"
    },
    "executionInfo": {
     "elapsed": 626,
     "status": "ok",
     "timestamp": 1613459013791,
     "user": {
      "displayName": "Rajas Ubhare",
      "photoUrl": "https://lh3.googleusercontent.com/a-/AOh14GgTyVuS-EanMTwGO6A_TkULjaAwiMI_buYA3sQNQg=s64",
      "userId": "10235052903806704162"
     },
     "user_tz": 480
    },
    "id": "DibKc0hZpLfR",
    "outputId": "7729ee7b-cb33-43b0-e7fb-eee2a7ef5356"
   },
   "outputs": [],
   "source": [
    "bilancino.shape"
   ]
  },
  {
   "cell_type": "code",
   "execution_count": null,
   "metadata": {
    "id": "nrzgD4Y1pLfR"
   },
   "outputs": [],
   "source": [
    "X, Y = np.split(bilancino,[-2],axis=1)"
   ]
  },
  {
   "cell_type": "code",
   "execution_count": null,
   "metadata": {
    "colab": {
     "base_uri": "https://localhost:8080/"
    },
    "executionInfo": {
     "elapsed": 715,
     "status": "ok",
     "timestamp": 1613459049758,
     "user": {
      "displayName": "Rajas Ubhare",
      "photoUrl": "https://lh3.googleusercontent.com/a-/AOh14GgTyVuS-EanMTwGO6A_TkULjaAwiMI_buYA3sQNQg=s64",
      "userId": "10235052903806704162"
     },
     "user_tz": 480
    },
    "id": "xqXXHJf6pLfR",
    "outputId": "ca059f7b-47f7-4173-84a9-3d5b079d4122"
   },
   "outputs": [],
   "source": [
    "X.shape"
   ]
  },
  {
   "cell_type": "code",
   "execution_count": null,
   "metadata": {
    "colab": {
     "base_uri": "https://localhost:8080/"
    },
    "executionInfo": {
     "elapsed": 479,
     "status": "ok",
     "timestamp": 1613459050177,
     "user": {
      "displayName": "Rajas Ubhare",
      "photoUrl": "https://lh3.googleusercontent.com/a-/AOh14GgTyVuS-EanMTwGO6A_TkULjaAwiMI_buYA3sQNQg=s64",
      "userId": "10235052903806704162"
     },
     "user_tz": 480
    },
    "id": "Q-907kmJpLfS",
    "outputId": "5b34608e-29cc-4ad5-86a5-e39ab0fdf39f"
   },
   "outputs": [],
   "source": [
    "Y.shape"
   ]
  },
  {
   "cell_type": "code",
   "execution_count": null,
   "metadata": {
    "id": "LrrofTqlpLfS"
   },
   "outputs": [],
   "source": [
    "from sklearn.model_selection import train_test_split\n",
    "X_train, X_test, Y_train, Y_test = train_test_split(X, Y, test_size = 0.2, random_state = 12)"
   ]
  },
  {
   "cell_type": "code",
   "execution_count": null,
   "metadata": {
    "colab": {
     "base_uri": "https://localhost:8080/"
    },
    "executionInfo": {
     "elapsed": 579,
     "status": "ok",
     "timestamp": 1613459435380,
     "user": {
      "displayName": "Rajas Ubhare",
      "photoUrl": "https://lh3.googleusercontent.com/a-/AOh14GgTyVuS-EanMTwGO6A_TkULjaAwiMI_buYA3sQNQg=s64",
      "userId": "10235052903806704162"
     },
     "user_tz": 480
    },
    "id": "57lkSoM2pLfS",
    "outputId": "178e4527-9319-4c68-91ce-0088ebbcfb90"
   },
   "outputs": [],
   "source": [
    "X_train.shape"
   ]
  },
  {
   "cell_type": "code",
   "execution_count": null,
   "metadata": {
    "colab": {
     "base_uri": "https://localhost:8080/"
    },
    "executionInfo": {
     "elapsed": 718,
     "status": "ok",
     "timestamp": 1613459439605,
     "user": {
      "displayName": "Rajas Ubhare",
      "photoUrl": "https://lh3.googleusercontent.com/a-/AOh14GgTyVuS-EanMTwGO6A_TkULjaAwiMI_buYA3sQNQg=s64",
      "userId": "10235052903806704162"
     },
     "user_tz": 480
    },
    "id": "nmszIiQCpLfS",
    "outputId": "0332f9c7-aad8-4ae2-c393-b5a49f9d6da6"
   },
   "outputs": [],
   "source": [
    "X_test.shape"
   ]
  },
  {
   "cell_type": "code",
   "execution_count": null,
   "metadata": {
    "colab": {
     "base_uri": "https://localhost:8080/"
    },
    "executionInfo": {
     "elapsed": 614,
     "status": "ok",
     "timestamp": 1613459377988,
     "user": {
      "displayName": "Rajas Ubhare",
      "photoUrl": "https://lh3.googleusercontent.com/a-/AOh14GgTyVuS-EanMTwGO6A_TkULjaAwiMI_buYA3sQNQg=s64",
      "userId": "10235052903806704162"
     },
     "user_tz": 480
    },
    "id": "ICvBSDDTpLfT",
    "outputId": "80a0533a-e086-4020-d69f-8771600acac2"
   },
   "outputs": [],
   "source": [
    "Y_train.shape"
   ]
  },
  {
   "cell_type": "code",
   "execution_count": null,
   "metadata": {
    "colab": {
     "base_uri": "https://localhost:8080/"
    },
    "executionInfo": {
     "elapsed": 682,
     "status": "ok",
     "timestamp": 1613459379828,
     "user": {
      "displayName": "Rajas Ubhare",
      "photoUrl": "https://lh3.googleusercontent.com/a-/AOh14GgTyVuS-EanMTwGO6A_TkULjaAwiMI_buYA3sQNQg=s64",
      "userId": "10235052903806704162"
     },
     "user_tz": 480
    },
    "id": "_FkLvfeRpLfT",
    "outputId": "226face2-4710-41e2-fda6-c8127c3e698f"
   },
   "outputs": [],
   "source": [
    "Y_test.shape"
   ]
  },
  {
   "cell_type": "code",
   "execution_count": null,
   "metadata": {
    "colab": {
     "base_uri": "https://localhost:8080/"
    },
    "executionInfo": {
     "elapsed": 618,
     "status": "ok",
     "timestamp": 1613459381356,
     "user": {
      "displayName": "Rajas Ubhare",
      "photoUrl": "https://lh3.googleusercontent.com/a-/AOh14GgTyVuS-EanMTwGO6A_TkULjaAwiMI_buYA3sQNQg=s64",
      "userId": "10235052903806704162"
     },
     "user_tz": 480
    },
    "id": "xPyfYlXZpLfT",
    "outputId": "91d53d7d-a968-422b-da76-c13d2588ba28"
   },
   "outputs": [],
   "source": [
    "Yt_pred.shape"
   ]
  },
  {
   "cell_type": "markdown",
   "metadata": {
    "id": "zCRd4yWWpLfT"
   },
   "source": [
    "We will use Standard Scalar Scalar for scaling the features of our dataset."
   ]
  },
  {
   "cell_type": "code",
   "execution_count": null,
   "metadata": {
    "id": "JAm3DVo7pLfU"
   },
   "outputs": [],
   "source": [
    "# Feature Scaling\n",
    "from sklearn.preprocessing import MinMaxScaler\n",
    "from sklearn.preprocessing import StandardScaler\n",
    "sc = StandardScaler()\n",
    "X_train = sc.fit_transform(X_train)\n",
    "X_test = sc.transform(X_test)"
   ]
  },
  {
   "cell_type": "code",
   "execution_count": null,
   "metadata": {
    "colab": {
     "base_uri": "https://localhost:8080/",
     "height": 297
    },
    "executionInfo": {
     "elapsed": 613,
     "status": "ok",
     "timestamp": 1613459448495,
     "user": {
      "displayName": "Rajas Ubhare",
      "photoUrl": "https://lh3.googleusercontent.com/a-/AOh14GgTyVuS-EanMTwGO6A_TkULjaAwiMI_buYA3sQNQg=s64",
      "userId": "10235052903806704162"
     },
     "user_tz": 480
    },
    "id": "3i1jbI6upLfU",
    "outputId": "a9951c5e-e48e-4dac-819d-71fbaf2acc03"
   },
   "outputs": [],
   "source": [
    "X.describe()"
   ]
  },
  {
   "cell_type": "markdown",
   "metadata": {
    "id": "ykbO37WjpLfU"
   },
   "source": [
    "#### 1. XGBoost Regression Model."
   ]
  },
  {
   "cell_type": "code",
   "execution_count": null,
   "metadata": {
    "id": "HWAOLPo0pLfU"
   },
   "outputs": [],
   "source": [
    "from sklearn.model_selection import TimeSeriesSplit\n",
    "import xgboost as xgr\n",
    "from sklearn.multioutput import MultiOutputRegressor"
   ]
  },
  {
   "cell_type": "markdown",
   "metadata": {
    "id": "nEGj6zyrpLfV"
   },
   "source": [
    "Training XGBoost with evaluation metric as MAE."
   ]
  },
  {
   "cell_type": "code",
   "execution_count": null,
   "metadata": {
    "id": "igw05RzypLfV"
   },
   "outputs": [],
   "source": [
    "xgr_mae = xgr.XGBRegressor(learning_rate =0.01, n_estimators=10000, max_depth=3, eval_metric='mae', seed=12)"
   ]
  },
  {
   "cell_type": "code",
   "execution_count": null,
   "metadata": {
    "colab": {
     "base_uri": "https://localhost:8080/"
    },
    "executionInfo": {
     "elapsed": 35585,
     "status": "ok",
     "timestamp": 1613459490045,
     "user": {
      "displayName": "Rajas Ubhare",
      "photoUrl": "https://lh3.googleusercontent.com/a-/AOh14GgTyVuS-EanMTwGO6A_TkULjaAwiMI_buYA3sQNQg=s64",
      "userId": "10235052903806704162"
     },
     "user_tz": 480
    },
    "id": "BSdusj01pLfV",
    "outputId": "17b599cf-7bec-4efb-adfe-1c26481df642"
   },
   "outputs": [],
   "source": [
    "multioutputregressor = MultiOutputRegressor(xgr_mae)\n",
    "xgbr_1= multioutputregressor.fit(X_train,Y_train)"
   ]
  },
  {
   "cell_type": "code",
   "execution_count": null,
   "metadata": {
    "id": "t-g0TifxpLfV"
   },
   "outputs": [],
   "source": [
    "# For Training set Prediction\n",
    "Yt_pred = xgbr_1.predict(X_train)"
   ]
  },
  {
   "cell_type": "code",
   "execution_count": null,
   "metadata": {
    "id": "xjQXi7-3pLfV"
   },
   "outputs": [],
   "source": [
    "# For Testing set Prediction\n",
    "Y_pred=xgbr_1.predict(X_test)"
   ]
  },
  {
   "cell_type": "code",
   "execution_count": null,
   "metadata": {
    "id": "i9BnmxEypLfV"
   },
   "outputs": [],
   "source": [
    "from sklearn.metrics import mean_squared_error\n",
    "from sklearn.metrics import mean_absolute_error\n",
    "import math"
   ]
  },
  {
   "cell_type": "code",
   "execution_count": null,
   "metadata": {
    "colab": {
     "base_uri": "https://localhost:8080/"
    },
    "executionInfo": {
     "elapsed": 35997,
     "status": "ok",
     "timestamp": 1613459494631,
     "user": {
      "displayName": "Rajas Ubhare",
      "photoUrl": "https://lh3.googleusercontent.com/a-/AOh14GgTyVuS-EanMTwGO6A_TkULjaAwiMI_buYA3sQNQg=s64",
      "userId": "10235052903806704162"
     },
     "user_tz": 480
    },
    "id": "0tDnPCN6pLfV",
    "outputId": "d82f6d57-ae46-4ec1-a765-7a4d07e41558"
   },
   "outputs": [],
   "source": [
    "# Mean Absolute Error\n",
    "print(\"Training MAE\", mean_absolute_error(Y_train, Yt_pred))\n",
    "print(\"Testing MAE\",mean_absolute_error(Y_test, Y_pred))"
   ]
  },
  {
   "cell_type": "markdown",
   "metadata": {
    "id": "EzSnLzO-pLfW"
   },
   "source": [
    "#### 1. LSTM Model."
   ]
  },
  {
   "cell_type": "code",
   "execution_count": null,
   "metadata": {
    "id": "8p_n0UYPpLfW"
   },
   "outputs": [],
   "source": [
    "# Import necessary libraries and packages from Keras for building model\n",
    "import tensorflow as tf\n",
    "from keras.callbacks import EarlyStopping\n",
    "from keras.models import Sequential\n",
    "from keras.layers import Dense\n",
    "from keras.layers import LSTM\n",
    "from keras.layers import Dropout\n",
    "from keras.optimizers import Adam"
   ]
  },
  {
   "cell_type": "code",
   "execution_count": null,
   "metadata": {
    "id": "ewDNtK91pLfW"
   },
   "outputs": [],
   "source": [
    "# reshape input to be 3D [samples, timesteps, features]\n",
    "X_train = X_train.reshape((X_train.shape[0], 1, X_train.shape[1]))\n",
    "X_test = X_test.reshape((X_test.shape[0], 1, X_test.shape[1]))"
   ]
  },
  {
   "cell_type": "code",
   "execution_count": null,
   "metadata": {
    "id": "dJ9yySMTpLfW"
   },
   "outputs": [],
   "source": [
    "# Initialize the Neural Network based on LSTM RNN\n",
    "model = Sequential()\n",
    "\n",
    "# Add 1st LSTM RNN layer\n",
    "model.add(LSTM(units=64, return_sequences=True, input_shape=(1, 6)))\n",
    "\n",
    "# Adding 2nd LSTM layer\n",
    "model.add(LSTM(units=32, return_sequences=True))\n",
    "\n",
    "# Adding 3rd LSTM layer\n",
    "model.add(LSTM(units=16, return_sequences=False))\n",
    "\n",
    "# Adding Dropout\n",
    "model.add(Dropout(0.25))\n",
    "\n",
    "# Output layer\n",
    "model.add(Dense(units=2, activation='linear'))\n",
    "\n",
    "# Compiling the Neural Network\n",
    "model.compile(optimizer = Adam(learning_rate=0.01), loss='mean_absolute_error')"
   ]
  },
  {
   "cell_type": "code",
   "execution_count": null,
   "metadata": {
    "colab": {
     "base_uri": "https://localhost:8080/"
    },
    "executionInfo": {
     "elapsed": 106768,
     "status": "ok",
     "timestamp": 1613461031558,
     "user": {
      "displayName": "Rajas Ubhare",
      "photoUrl": "https://lh3.googleusercontent.com/a-/AOh14GgTyVuS-EanMTwGO6A_TkULjaAwiMI_buYA3sQNQg=s64",
      "userId": "10235052903806704162"
     },
     "user_tz": 480
    },
    "id": "R_VHye10pLfW",
    "outputId": "050761c3-be10-4a38-9f5d-9d04f6e9b981"
   },
   "outputs": [],
   "source": [
    "history = model.fit(X_train, Y_train, shuffle=True, epochs=150, validation_split=0.2, verbose=1, batch_size=32)"
   ]
  },
  {
   "cell_type": "code",
   "execution_count": null,
   "metadata": {
    "colab": {
     "base_uri": "https://localhost:8080/",
     "height": 301
    },
    "executionInfo": {
     "elapsed": 1258,
     "status": "ok",
     "timestamp": 1613461280895,
     "user": {
      "displayName": "Rajas Ubhare",
      "photoUrl": "https://lh3.googleusercontent.com/a-/AOh14GgTyVuS-EanMTwGO6A_TkULjaAwiMI_buYA3sQNQg=s64",
      "userId": "10235052903806704162"
     },
     "user_tz": 480
    },
    "id": "ZiUuvxiFpLfW",
    "outputId": "4344674f-7fa2-4cf7-98ff-80cb85e7b9be"
   },
   "outputs": [],
   "source": [
    "plt.plot(history.history['loss'])\n",
    "plt.plot(history.history['val_loss'])\n",
    "plt.title('model loss')\n",
    "plt.ylabel('loss')\n",
    "plt.xlabel('epoch')\n",
    "plt.legend(['train', 'val'], loc='upper left')\n",
    "plt.show()"
   ]
  },
  {
   "cell_type": "code",
   "execution_count": null,
   "metadata": {
    "id": "RDl46kgSpLfX"
   },
   "outputs": [],
   "source": [
    "model.save_weights(\"bilancino_M1.h5\")"
   ]
  },
  {
   "cell_type": "code",
   "execution_count": null,
   "metadata": {
    "id": "uxBzeapqpLfX"
   },
   "outputs": [],
   "source": [
    "train_pred = model.predict(X_train)"
   ]
  },
  {
   "cell_type": "code",
   "execution_count": null,
   "metadata": {
    "colab": {
     "base_uri": "https://localhost:8080/"
    },
    "executionInfo": {
     "elapsed": 1248,
     "status": "ok",
     "timestamp": 1613461091453,
     "user": {
      "displayName": "Rajas Ubhare",
      "photoUrl": "https://lh3.googleusercontent.com/a-/AOh14GgTyVuS-EanMTwGO6A_TkULjaAwiMI_buYA3sQNQg=s64",
      "userId": "10235052903806704162"
     },
     "user_tz": 480
    },
    "id": "x6kodJR1pLfX",
    "outputId": "831cddbe-2aaa-4473-9608-dc1b3cfd9fb9"
   },
   "outputs": [],
   "source": [
    "print(train_pred)\n"
   ]
  },
  {
   "cell_type": "code",
   "execution_count": null,
   "metadata": {
    "colab": {
     "base_uri": "https://localhost:8080/"
    },
    "executionInfo": {
     "elapsed": 608,
     "status": "ok",
     "timestamp": 1613461091454,
     "user": {
      "displayName": "Rajas Ubhare",
      "photoUrl": "https://lh3.googleusercontent.com/a-/AOh14GgTyVuS-EanMTwGO6A_TkULjaAwiMI_buYA3sQNQg=s64",
      "userId": "10235052903806704162"
     },
     "user_tz": 480
    },
    "id": "I-4xVgLhpLfX",
    "outputId": "152aecfc-3487-451d-8093-f2547e70e294"
   },
   "outputs": [],
   "source": [
    "print(Y_train)"
   ]
  },
  {
   "cell_type": "code",
   "execution_count": null,
   "metadata": {
    "id": "4qXHyyozpLfX"
   },
   "outputs": [],
   "source": [
    "test_pred = model.predict(X_test)"
   ]
  },
  {
   "cell_type": "code",
   "execution_count": null,
   "metadata": {
    "colab": {
     "base_uri": "https://localhost:8080/"
    },
    "executionInfo": {
     "elapsed": 1056,
     "status": "ok",
     "timestamp": 1613461093310,
     "user": {
      "displayName": "Rajas Ubhare",
      "photoUrl": "https://lh3.googleusercontent.com/a-/AOh14GgTyVuS-EanMTwGO6A_TkULjaAwiMI_buYA3sQNQg=s64",
      "userId": "10235052903806704162"
     },
     "user_tz": 480
    },
    "id": "NRrmKSUopLfX",
    "outputId": "e4733100-614f-4caf-f07b-109f884f4ad8"
   },
   "outputs": [],
   "source": [
    "print(test_pred)\n",
    "\n"
   ]
  },
  {
   "cell_type": "code",
   "execution_count": null,
   "metadata": {
    "colab": {
     "base_uri": "https://localhost:8080/"
    },
    "executionInfo": {
     "elapsed": 600,
     "status": "ok",
     "timestamp": 1613461105292,
     "user": {
      "displayName": "Rajas Ubhare",
      "photoUrl": "https://lh3.googleusercontent.com/a-/AOh14GgTyVuS-EanMTwGO6A_TkULjaAwiMI_buYA3sQNQg=s64",
      "userId": "10235052903806704162"
     },
     "user_tz": 480
    },
    "id": "gGi9FEzYpLfZ",
    "outputId": "89ad98fa-2412-4355-b776-1aa0fc622896"
   },
   "outputs": [],
   "source": [
    "from sklearn.metrics import mean_squared_error, mean_absolute_error\n",
    "\n",
    "train_mae = mean_absolute_error(Y_train, train_pred)\n",
    "print('Train MAE: %.3f' % train_mae)\n",
    "\n",
    "test_mae = mean_absolute_error(Y_test, test_pred)\n",
    "print('Test MAE: %.3f' % test_mae)"
   ]
  },
  {
   "cell_type": "code",
   "execution_count": null,
   "metadata": {
    "id": "j-ClJnqNsR2D"
   },
   "outputs": [],
   "source": []
  }
 ],
 "metadata": {
  "colab": {
   "authorship_tag": "ABX9TyNKd7lgzOLEI0CtTk751Q3B",
   "collapsed_sections": [
    "Kn2hMOpYxdqq",
    "TaQ7rxg_ycXU",
    "nXLewelryxgh",
    "CbYc8wYp71TI",
    "oZGfvGW38F3z",
    "b3OoaY2J9H2K",
    "Bb_dbQytIUKc",
    "oMgGmnPkOLkF",
    "rxvlLC4EWbd8",
    "lNNnZNEqdLSd",
    "LNRxwzm1drZQ",
    "9jGY15tk-m06",
    "qPS1WwhMRT8c",
    "eCABbqInbsfv",
    "1fs3aNIdbsf2",
    "d55rHIVAMm7h",
    "2Ir7LOZ5QHwK"
   ],
   "machine_shape": "hm",
   "mount_file_id": "12aztU70T5W0a-Vvq34D-Cg4cvzPbFNYA",
   "name": "SWA_D1.2.ipynb",
   "provenance": [],
   "toc_visible": true
  },
  "kernelspec": {
   "display_name": "Python 3",
   "language": "python",
   "name": "python3"
  },
  "language_info": {
   "codemirror_mode": {
    "name": "ipython",
    "version": 3
   },
   "file_extension": ".py",
   "mimetype": "text/x-python",
   "name": "python",
   "nbconvert_exporter": "python",
   "pygments_lexer": "ipython3",
   "version": "3.8.3"
  }
 },
 "nbformat": 4,
 "nbformat_minor": 1
}
